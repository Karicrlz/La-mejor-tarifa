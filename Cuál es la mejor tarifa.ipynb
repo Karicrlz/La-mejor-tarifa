{
 "cells": [
  {
   "cell_type": "markdown",
   "metadata": {
    "id": "3rYiDeEH0q0f"
   },
   "source": [
    "# ¿Cuál es la mejor tarifa?\n",
    "\n",
    "Trabajas como analista para el operador de telecomunicaciones Megaline. La empresa ofrece a sus clientes dos tarifas de prepago, Surf y Ultimate. El departamento comercial quiere saber cuál de las tarifas genera más ingresos para poder ajustar el presupuesto de publicidad.\n",
    "\n",
    "Vas a realizar un análisis preliminar de las tarifas basado en una selección de clientes relativamente pequeña. Tendrás los datos de 500 clientes de Megaline: quiénes son los clientes, de dónde son, qué tarifa usan, así como la cantidad de llamadas que hicieron y los mensajes de texto que enviaron en 2018. Tu trabajo es analizar el comportamiento de los clientes y determinar qué tarifa de prepago genera más ingresos."
   ]
  },
  {
   "cell_type": "markdown",
   "metadata": {
    "id": "MQi4IPy70q0y"
   },
   "source": [
    "## Inicialización"
   ]
  },
  {
   "cell_type": "code",
   "execution_count": 130,
   "metadata": {
    "id": "MtYIuBxu0q0z"
   },
   "outputs": [],
   "source": [
    "import pandas as pd \n",
    "import numpy as np \n",
    "from matplotlib import pyplot as pt \n",
    "from scipy import stats as st\n",
    "# Cargar todas las librerías\n",
    "\n"
   ]
  },
  {
   "cell_type": "markdown",
   "metadata": {
    "id": "4ysWWC5i0q00"
   },
   "source": [
    "## Cargar datos"
   ]
  },
  {
   "cell_type": "code",
   "execution_count": 131,
   "metadata": {
    "id": "CCqPW7rS0q01"
   },
   "outputs": [],
   "source": [
    "calls_df = pd.read_csv ('/datasets/megaline_calls.csv')\n",
    "internet_df = pd.read_csv ('/datasets/megaline_internet.csv' )\n",
    "messages_df = pd.read_csv ('/datasets/megaline_messages.csv')\n",
    "plans_df = pd.read_csv ('/datasets/megaline_plans.csv')\n",
    "users_df = pd.read_csv ('/datasets/megaline_users.csv')# Carga los archivos de datos en diferentes DataFrames\n",
    "\n"
   ]
  },
  {
   "cell_type": "markdown",
   "metadata": {
    "id": "69qqoJ3r0q01"
   },
   "source": [
    "## Preparar los datos"
   ]
  },
  {
   "cell_type": "markdown",
   "metadata": {
    "id": "vUuZw80S0q01"
   },
   "source": [
    "[Los datos para este proyecto se dividen en varias tablas. Explora cada una para tener una comprensión inicial de los datos. Si es necesario, haz las correcciones requeridas en cada tabla.]"
   ]
  },
  {
   "cell_type": "markdown",
   "metadata": {
    "id": "ohBhimvH0q01"
   },
   "source": [
    "## Tarifas"
   ]
  },
  {
   "cell_type": "code",
   "execution_count": 132,
   "metadata": {
    "id": "GptqP3Q40q02"
   },
   "outputs": [
    {
     "name": "stdout",
     "output_type": "stream",
     "text": [
      "<class 'pandas.core.frame.DataFrame'>\n",
      "RangeIndex: 2 entries, 0 to 1\n",
      "Data columns (total 8 columns):\n",
      " #   Column                 Non-Null Count  Dtype  \n",
      "---  ------                 --------------  -----  \n",
      " 0   messages_included      2 non-null      int64  \n",
      " 1   mb_per_month_included  2 non-null      int64  \n",
      " 2   minutes_included       2 non-null      int64  \n",
      " 3   usd_monthly_pay        2 non-null      int64  \n",
      " 4   usd_per_gb             2 non-null      int64  \n",
      " 5   usd_per_message        2 non-null      float64\n",
      " 6   usd_per_minute         2 non-null      float64\n",
      " 7   plan_name              2 non-null      object \n",
      "dtypes: float64(2), int64(5), object(1)\n",
      "memory usage: 256.0+ bytes\n"
     ]
    }
   ],
   "source": [
    "plans_df.info()# Imprime la información general/resumida sobre el DataFrame de las tarifas\n",
    "\n"
   ]
  },
  {
   "cell_type": "code",
   "execution_count": 133,
   "metadata": {
    "id": "64xzjwL70q02"
   },
   "outputs": [
    {
     "data": {
      "text/html": [
       "<div>\n",
       "<style scoped>\n",
       "    .dataframe tbody tr th:only-of-type {\n",
       "        vertical-align: middle;\n",
       "    }\n",
       "\n",
       "    .dataframe tbody tr th {\n",
       "        vertical-align: top;\n",
       "    }\n",
       "\n",
       "    .dataframe thead th {\n",
       "        text-align: right;\n",
       "    }\n",
       "</style>\n",
       "<table border=\"1\" class=\"dataframe\">\n",
       "  <thead>\n",
       "    <tr style=\"text-align: right;\">\n",
       "      <th></th>\n",
       "      <th>messages_included</th>\n",
       "      <th>mb_per_month_included</th>\n",
       "      <th>minutes_included</th>\n",
       "      <th>usd_monthly_pay</th>\n",
       "      <th>usd_per_gb</th>\n",
       "      <th>usd_per_message</th>\n",
       "      <th>usd_per_minute</th>\n",
       "      <th>plan_name</th>\n",
       "    </tr>\n",
       "  </thead>\n",
       "  <tbody>\n",
       "    <tr>\n",
       "      <th>0</th>\n",
       "      <td>50</td>\n",
       "      <td>15360</td>\n",
       "      <td>500</td>\n",
       "      <td>20</td>\n",
       "      <td>10</td>\n",
       "      <td>0.03</td>\n",
       "      <td>0.03</td>\n",
       "      <td>surf</td>\n",
       "    </tr>\n",
       "    <tr>\n",
       "      <th>1</th>\n",
       "      <td>1000</td>\n",
       "      <td>30720</td>\n",
       "      <td>3000</td>\n",
       "      <td>70</td>\n",
       "      <td>7</td>\n",
       "      <td>0.01</td>\n",
       "      <td>0.01</td>\n",
       "      <td>ultimate</td>\n",
       "    </tr>\n",
       "  </tbody>\n",
       "</table>\n",
       "</div>"
      ],
      "text/plain": [
       "   messages_included  mb_per_month_included  minutes_included  \\\n",
       "0                 50                  15360               500   \n",
       "1               1000                  30720              3000   \n",
       "\n",
       "   usd_monthly_pay  usd_per_gb  usd_per_message  usd_per_minute plan_name  \n",
       "0               20          10             0.03            0.03      surf  \n",
       "1               70           7             0.01            0.01  ultimate  "
      ]
     },
     "execution_count": 133,
     "metadata": {},
     "output_type": "execute_result"
    }
   ],
   "source": [
    "plans_df.head()# Imprime una muestra de los datos para las tarifas\n",
    "\n"
   ]
  },
  {
   "cell_type": "markdown",
   "metadata": {
    "id": "mEc_3_hs0q02"
   },
   "source": [
    "[Describe lo que ves y observas en la información general y en la muestra de datos impresa para el precio de datos anterior. ¿Hay algún problema (tipos de datos no adecuados, datos ausentes, etc.) que pudieran necesitar investigación y cambios adicionales? ¿Cómo se puede arreglar?]\n",
    "\n",
    "Nuestro pago se describe en gb mientras que el consumo se realiza en mb, ¿habrá que hacer una conversión?. "
   ]
  },
  {
   "cell_type": "markdown",
   "metadata": {
    "id": "R3C05i1l0q03"
   },
   "source": [
    "## Corregir datos"
   ]
  },
  {
   "cell_type": "markdown",
   "metadata": {
    "id": "bIi8StZI0q03"
   },
   "source": [
    "[Corrige los problemas obvios con los datos basándote en las observaciones iniciales.]"
   ]
  },
  {
   "cell_type": "markdown",
   "metadata": {
    "id": "Y7SVmjGn0q03"
   },
   "source": [
    "No hay correcciones para esete data frame"
   ]
  },
  {
   "cell_type": "markdown",
   "metadata": {
    "id": "LJir7bml0q03"
   },
   "source": [
    "## Enriquecer los datos"
   ]
  },
  {
   "cell_type": "markdown",
   "metadata": {
    "id": "eqADpCfg0q04"
   },
   "source": [
    "[Agrega factores adicionales a los datos si crees que pudieran ser útiles.]"
   ]
  },
  {
   "cell_type": "markdown",
   "metadata": {
    "id": "gfcIEuXV0q04"
   },
   "source": [
    "No hay enriquecimiento para este data frame de momento."
   ]
  },
  {
   "cell_type": "markdown",
   "metadata": {
    "id": "1n2X6WXf0q04"
   },
   "source": [
    "## Usuarios/as"
   ]
  },
  {
   "cell_type": "code",
   "execution_count": 134,
   "metadata": {
    "id": "2NgjWFqx0q05"
   },
   "outputs": [
    {
     "name": "stdout",
     "output_type": "stream",
     "text": [
      "<class 'pandas.core.frame.DataFrame'>\n",
      "RangeIndex: 500 entries, 0 to 499\n",
      "Data columns (total 8 columns):\n",
      " #   Column      Non-Null Count  Dtype \n",
      "---  ------      --------------  ----- \n",
      " 0   user_id     500 non-null    int64 \n",
      " 1   first_name  500 non-null    object\n",
      " 2   last_name   500 non-null    object\n",
      " 3   age         500 non-null    int64 \n",
      " 4   city        500 non-null    object\n",
      " 5   reg_date    500 non-null    object\n",
      " 6   plan        500 non-null    object\n",
      " 7   churn_date  34 non-null     object\n",
      "dtypes: int64(2), object(6)\n",
      "memory usage: 31.4+ KB\n"
     ]
    }
   ],
   "source": [
    "users_df.info()# Imprime la información general/resumida sobre el DataFrame de usuarios\n",
    "\n"
   ]
  },
  {
   "cell_type": "code",
   "execution_count": 135,
   "metadata": {
    "id": "1IN1L9uh0q05"
   },
   "outputs": [
    {
     "data": {
      "text/html": [
       "<div>\n",
       "<style scoped>\n",
       "    .dataframe tbody tr th:only-of-type {\n",
       "        vertical-align: middle;\n",
       "    }\n",
       "\n",
       "    .dataframe tbody tr th {\n",
       "        vertical-align: top;\n",
       "    }\n",
       "\n",
       "    .dataframe thead th {\n",
       "        text-align: right;\n",
       "    }\n",
       "</style>\n",
       "<table border=\"1\" class=\"dataframe\">\n",
       "  <thead>\n",
       "    <tr style=\"text-align: right;\">\n",
       "      <th></th>\n",
       "      <th>user_id</th>\n",
       "      <th>first_name</th>\n",
       "      <th>last_name</th>\n",
       "      <th>age</th>\n",
       "      <th>city</th>\n",
       "      <th>reg_date</th>\n",
       "      <th>plan</th>\n",
       "      <th>churn_date</th>\n",
       "    </tr>\n",
       "  </thead>\n",
       "  <tbody>\n",
       "    <tr>\n",
       "      <th>228</th>\n",
       "      <td>1228</td>\n",
       "      <td>Jude</td>\n",
       "      <td>Hale</td>\n",
       "      <td>26</td>\n",
       "      <td>Detroit-Warren-Dearborn, MI MSA</td>\n",
       "      <td>2018-04-15</td>\n",
       "      <td>surf</td>\n",
       "      <td>NaN</td>\n",
       "    </tr>\n",
       "  </tbody>\n",
       "</table>\n",
       "</div>"
      ],
      "text/plain": [
       "     user_id first_name last_name  age                             city  \\\n",
       "228     1228       Jude      Hale   26  Detroit-Warren-Dearborn, MI MSA   \n",
       "\n",
       "       reg_date  plan churn_date  \n",
       "228  2018-04-15  surf        NaN  "
      ]
     },
     "execution_count": 135,
     "metadata": {},
     "output_type": "execute_result"
    }
   ],
   "source": [
    "users_df.sample()# Imprime una muestra de datos para usuarios\n",
    "\n"
   ]
  },
  {
   "cell_type": "markdown",
   "metadata": {
    "id": "dCZoUq4f0q06"
   },
   "source": [
    "[Describe lo que ves y observas en la información general y en la muestra de datos impresa para el precio de datos anterior. ¿Hay algún problema (tipos de datos no adecuados, datos ausentes, etc.) que pudieran necesitar investigación y cambios adicionales? ¿Cómo se puede arreglar?]\n",
    "\n",
    "Nuestra tabla contiene un total de 8 columnas, en las que podemos ver que la columna **churn-date** unicamente tiene 466 datos marcados como nulos, al checar los datos, se pudo ver que estos eran congruentes a la información dada y que no era necesario realizar alguna corrección o cambio, según nuestra columna esta información unicamente se llena cuando se ha decidido cancelar el plan, por lo que se asume que los 466 datos nulos, pertenecen a usuarios que siguen usando el servicio. \n",
    "\n",
    "Además de eso, se notaron algunas columnas en las que se plantea hacer algunas correciones; la columna de **id** cambiara de nombre a **user_id** debido a que en otras tablas tenemos columnas con ese mismo nombre y es importante diferenciar cada una de eelas para evitar posibles confusiones. Tanto para las columnas de **reg_date** y **churn_date** podemos observar que los datos proporcionados son fechas pero el formato de estos es \"object\" lo cual lo hace un tranto inconveniente para realizar uso de estos datos en el futuro, por lo que se buscará realizar un cambio de formato a \"date\". \n"
   ]
  },
  {
   "cell_type": "markdown",
   "metadata": {
    "id": "BX5FQh_I0q06"
   },
   "source": [
    "### Corregir los datos"
   ]
  },
  {
   "cell_type": "markdown",
   "metadata": {
    "id": "8OdKMwJv0q06"
   },
   "source": [
    "[Corrige los problemas obvios con los datos basándote en las observaciones iniciales.]"
   ]
  },
  {
   "cell_type": "code",
   "execution_count": 139,
   "metadata": {
    "id": "yUqX-K0C0q07"
   },
   "outputs": [],
   "source": [
    "users_df.rename(columns={'plan_id':'plan_name'},inplace =True)"
   ]
  },
  {
   "cell_type": "code",
   "execution_count": 8,
   "metadata": {},
   "outputs": [],
   "source": [
    "users_df['reg_date'] = pd.to_datetime(users_df['reg_date'],format = '%Y-%m-%d')\n"
   ]
  },
  {
   "cell_type": "code",
   "execution_count": 9,
   "metadata": {},
   "outputs": [],
   "source": [
    "users_df['churn_date'] = pd.to_datetime(users_df['churn_date'],format = '%Y-%m-%d')\n"
   ]
  },
  {
   "cell_type": "code",
   "execution_count": 10,
   "metadata": {},
   "outputs": [
    {
     "name": "stdout",
     "output_type": "stream",
     "text": [
      "<class 'pandas.core.frame.DataFrame'>\n",
      "RangeIndex: 500 entries, 0 to 499\n",
      "Data columns (total 8 columns):\n",
      " #   Column      Non-Null Count  Dtype         \n",
      "---  ------      --------------  -----         \n",
      " 0   user_id     500 non-null    int64         \n",
      " 1   first_name  500 non-null    object        \n",
      " 2   last_name   500 non-null    object        \n",
      " 3   age         500 non-null    int64         \n",
      " 4   city        500 non-null    object        \n",
      " 5   reg_date    500 non-null    datetime64[ns]\n",
      " 6   plan        500 non-null    object        \n",
      " 7   churn_date  34 non-null     datetime64[ns]\n",
      "dtypes: datetime64[ns](2), int64(2), object(4)\n",
      "memory usage: 31.4+ KB\n"
     ]
    }
   ],
   "source": [
    "users_df.info()"
   ]
  },
  {
   "cell_type": "markdown",
   "metadata": {
    "id": "ycwuARJp0q07"
   },
   "source": [
    "### Enriquecer los datos"
   ]
  },
  {
   "cell_type": "markdown",
   "metadata": {
    "id": "96NIh4CJ0q08"
   },
   "source": [
    "[Agrega factores adicionales a los datos si crees que pudieran ser útiles.]"
   ]
  },
  {
   "cell_type": "code",
   "execution_count": 11,
   "metadata": {
    "id": "iq0AaBS90q08"
   },
   "outputs": [],
   "source": [
    "users_df ['reg_mes'] = pd.DatetimeIndex(users_df['reg_date']).month\n",
    "users_df ['churn_mes'] = pd.DatetimeIndex(users_df['churn_date']).month\n"
   ]
  },
  {
   "cell_type": "code",
   "execution_count": 12,
   "metadata": {},
   "outputs": [
    {
     "data": {
      "text/html": [
       "<div>\n",
       "<style scoped>\n",
       "    .dataframe tbody tr th:only-of-type {\n",
       "        vertical-align: middle;\n",
       "    }\n",
       "\n",
       "    .dataframe tbody tr th {\n",
       "        vertical-align: top;\n",
       "    }\n",
       "\n",
       "    .dataframe thead th {\n",
       "        text-align: right;\n",
       "    }\n",
       "</style>\n",
       "<table border=\"1\" class=\"dataframe\">\n",
       "  <thead>\n",
       "    <tr style=\"text-align: right;\">\n",
       "      <th></th>\n",
       "      <th>user_id</th>\n",
       "      <th>first_name</th>\n",
       "      <th>last_name</th>\n",
       "      <th>age</th>\n",
       "      <th>city</th>\n",
       "      <th>reg_date</th>\n",
       "      <th>plan</th>\n",
       "      <th>churn_date</th>\n",
       "      <th>reg_mes</th>\n",
       "      <th>churn_mes</th>\n",
       "    </tr>\n",
       "  </thead>\n",
       "  <tbody>\n",
       "    <tr>\n",
       "      <th>0</th>\n",
       "      <td>1000</td>\n",
       "      <td>Anamaria</td>\n",
       "      <td>Bauer</td>\n",
       "      <td>45</td>\n",
       "      <td>Atlanta-Sandy Springs-Roswell, GA MSA</td>\n",
       "      <td>2018-12-24</td>\n",
       "      <td>ultimate</td>\n",
       "      <td>NaT</td>\n",
       "      <td>12</td>\n",
       "      <td>NaN</td>\n",
       "    </tr>\n",
       "    <tr>\n",
       "      <th>1</th>\n",
       "      <td>1001</td>\n",
       "      <td>Mickey</td>\n",
       "      <td>Wilkerson</td>\n",
       "      <td>28</td>\n",
       "      <td>Seattle-Tacoma-Bellevue, WA MSA</td>\n",
       "      <td>2018-08-13</td>\n",
       "      <td>surf</td>\n",
       "      <td>NaT</td>\n",
       "      <td>8</td>\n",
       "      <td>NaN</td>\n",
       "    </tr>\n",
       "    <tr>\n",
       "      <th>2</th>\n",
       "      <td>1002</td>\n",
       "      <td>Carlee</td>\n",
       "      <td>Hoffman</td>\n",
       "      <td>36</td>\n",
       "      <td>Las Vegas-Henderson-Paradise, NV MSA</td>\n",
       "      <td>2018-10-21</td>\n",
       "      <td>surf</td>\n",
       "      <td>NaT</td>\n",
       "      <td>10</td>\n",
       "      <td>NaN</td>\n",
       "    </tr>\n",
       "    <tr>\n",
       "      <th>3</th>\n",
       "      <td>1003</td>\n",
       "      <td>Reynaldo</td>\n",
       "      <td>Jenkins</td>\n",
       "      <td>52</td>\n",
       "      <td>Tulsa, OK MSA</td>\n",
       "      <td>2018-01-28</td>\n",
       "      <td>surf</td>\n",
       "      <td>NaT</td>\n",
       "      <td>1</td>\n",
       "      <td>NaN</td>\n",
       "    </tr>\n",
       "    <tr>\n",
       "      <th>4</th>\n",
       "      <td>1004</td>\n",
       "      <td>Leonila</td>\n",
       "      <td>Thompson</td>\n",
       "      <td>40</td>\n",
       "      <td>Seattle-Tacoma-Bellevue, WA MSA</td>\n",
       "      <td>2018-05-23</td>\n",
       "      <td>surf</td>\n",
       "      <td>NaT</td>\n",
       "      <td>5</td>\n",
       "      <td>NaN</td>\n",
       "    </tr>\n",
       "  </tbody>\n",
       "</table>\n",
       "</div>"
      ],
      "text/plain": [
       "   user_id first_name  last_name  age                                   city  \\\n",
       "0     1000   Anamaria      Bauer   45  Atlanta-Sandy Springs-Roswell, GA MSA   \n",
       "1     1001     Mickey  Wilkerson   28        Seattle-Tacoma-Bellevue, WA MSA   \n",
       "2     1002     Carlee    Hoffman   36   Las Vegas-Henderson-Paradise, NV MSA   \n",
       "3     1003   Reynaldo    Jenkins   52                          Tulsa, OK MSA   \n",
       "4     1004    Leonila   Thompson   40        Seattle-Tacoma-Bellevue, WA MSA   \n",
       "\n",
       "    reg_date      plan churn_date  reg_mes  churn_mes  \n",
       "0 2018-12-24  ultimate        NaT       12        NaN  \n",
       "1 2018-08-13      surf        NaT        8        NaN  \n",
       "2 2018-10-21      surf        NaT       10        NaN  \n",
       "3 2018-01-28      surf        NaT        1        NaN  \n",
       "4 2018-05-23      surf        NaT        5        NaN  "
      ]
     },
     "execution_count": 12,
     "metadata": {},
     "output_type": "execute_result"
    }
   ],
   "source": [
    "users_df.head()\n"
   ]
  },
  {
   "cell_type": "code",
   "execution_count": 13,
   "metadata": {},
   "outputs": [
    {
     "name": "stdout",
     "output_type": "stream",
     "text": [
      "<class 'pandas.core.frame.DataFrame'>\n",
      "RangeIndex: 500 entries, 0 to 499\n",
      "Data columns (total 10 columns):\n",
      " #   Column      Non-Null Count  Dtype         \n",
      "---  ------      --------------  -----         \n",
      " 0   user_id     500 non-null    int64         \n",
      " 1   first_name  500 non-null    object        \n",
      " 2   last_name   500 non-null    object        \n",
      " 3   age         500 non-null    int64         \n",
      " 4   city        500 non-null    object        \n",
      " 5   reg_date    500 non-null    datetime64[ns]\n",
      " 6   plan        500 non-null    object        \n",
      " 7   churn_date  34 non-null     datetime64[ns]\n",
      " 8   reg_mes     500 non-null    int64         \n",
      " 9   churn_mes   34 non-null     float64       \n",
      "dtypes: datetime64[ns](2), float64(1), int64(3), object(4)\n",
      "memory usage: 39.2+ KB\n"
     ]
    }
   ],
   "source": [
    "users_df.info()"
   ]
  },
  {
   "cell_type": "markdown",
   "metadata": {
    "id": "o7MeKCid0q08"
   },
   "source": [
    "## Llamadas"
   ]
  },
  {
   "cell_type": "code",
   "execution_count": 14,
   "metadata": {
    "id": "6dDlnoDm0q08"
   },
   "outputs": [
    {
     "name": "stdout",
     "output_type": "stream",
     "text": [
      "<class 'pandas.core.frame.DataFrame'>\n",
      "RangeIndex: 137735 entries, 0 to 137734\n",
      "Data columns (total 4 columns):\n",
      " #   Column     Non-Null Count   Dtype  \n",
      "---  ------     --------------   -----  \n",
      " 0   id         137735 non-null  object \n",
      " 1   user_id    137735 non-null  int64  \n",
      " 2   call_date  137735 non-null  object \n",
      " 3   duration   137735 non-null  float64\n",
      "dtypes: float64(1), int64(1), object(2)\n",
      "memory usage: 4.2+ MB\n"
     ]
    }
   ],
   "source": [
    "calls_df.info()# Imprime la información general/resumida sobre el DataFrame de las llamadas\n",
    "\n"
   ]
  },
  {
   "cell_type": "code",
   "execution_count": 15,
   "metadata": {
    "id": "kuh1vlNB0q09"
   },
   "outputs": [
    {
     "data": {
      "text/html": [
       "<div>\n",
       "<style scoped>\n",
       "    .dataframe tbody tr th:only-of-type {\n",
       "        vertical-align: middle;\n",
       "    }\n",
       "\n",
       "    .dataframe tbody tr th {\n",
       "        vertical-align: top;\n",
       "    }\n",
       "\n",
       "    .dataframe thead th {\n",
       "        text-align: right;\n",
       "    }\n",
       "</style>\n",
       "<table border=\"1\" class=\"dataframe\">\n",
       "  <thead>\n",
       "    <tr style=\"text-align: right;\">\n",
       "      <th></th>\n",
       "      <th>id</th>\n",
       "      <th>user_id</th>\n",
       "      <th>call_date</th>\n",
       "      <th>duration</th>\n",
       "    </tr>\n",
       "  </thead>\n",
       "  <tbody>\n",
       "    <tr>\n",
       "      <th>67350</th>\n",
       "      <td>1241_186</td>\n",
       "      <td>1241</td>\n",
       "      <td>2018-12-17</td>\n",
       "      <td>4.25</td>\n",
       "    </tr>\n",
       "  </tbody>\n",
       "</table>\n",
       "</div>"
      ],
      "text/plain": [
       "             id  user_id   call_date  duration\n",
       "67350  1241_186     1241  2018-12-17      4.25"
      ]
     },
     "execution_count": 15,
     "metadata": {},
     "output_type": "execute_result"
    }
   ],
   "source": [
    "calls_df.sample()# Imprime una muestra de datos para las llamadas\n",
    "\n"
   ]
  },
  {
   "cell_type": "markdown",
   "metadata": {
    "id": "DOAxYJSx0q09"
   },
   "source": [
    "[Describe lo que ves y observas en la información general y en la muestra de datos impresa para el precio de datos anterior. ¿Hay algún problema (tipos de datos no adecuados, datos ausentes, etc.) que pudieran necesitar investigación y cambios adicionales? ¿Cómo se puede arreglar?]\n",
    "\n",
    "Aquí la columna de **id** cambiara de nombre a **calls_id debido** a que en otras tablas tenemos columnas con ese mismo nombre y es importante diferenciar cada una de ellas para evitar posibles confusiones. \n",
    "\n",
    "Para la columna de **call_date** se observa que los datos proporcionados son fechas pero el formato de estos es \"object\" lo cual lo hace un tranto inconveniente para realizar uso de estos datos en el futuro, por lo que se buscará realizar un cambio de formato a \"date\".\n",
    "\n",
    "Se realizará una columna que nos indica del mes, para saber que llamadas se realizaron durante cada mes.\n",
    "\n",
    "Por último, se realizará una nueva columna, la cual tomara los datos de duración y los redondeara al siguiente numero, contando solo minutos y no segundos."
   ]
  },
  {
   "cell_type": "markdown",
   "metadata": {
    "id": "S7hzxmbX0q0-"
   },
   "source": [
    "### Corregir los datos"
   ]
  },
  {
   "cell_type": "markdown",
   "metadata": {
    "id": "YxWyAjD20q0-"
   },
   "source": [
    "[Corrige los problemas obvios con los datos basándote en las observaciones iniciales.]"
   ]
  },
  {
   "cell_type": "code",
   "execution_count": 16,
   "metadata": {
    "id": "S2r8xA4f0q0-"
   },
   "outputs": [],
   "source": [
    "calls_df.rename(columns={'id':'calls_id'}, inplace = True)"
   ]
  },
  {
   "cell_type": "code",
   "execution_count": 17,
   "metadata": {},
   "outputs": [
    {
     "data": {
      "text/html": [
       "<div>\n",
       "<style scoped>\n",
       "    .dataframe tbody tr th:only-of-type {\n",
       "        vertical-align: middle;\n",
       "    }\n",
       "\n",
       "    .dataframe tbody tr th {\n",
       "        vertical-align: top;\n",
       "    }\n",
       "\n",
       "    .dataframe thead th {\n",
       "        text-align: right;\n",
       "    }\n",
       "</style>\n",
       "<table border=\"1\" class=\"dataframe\">\n",
       "  <thead>\n",
       "    <tr style=\"text-align: right;\">\n",
       "      <th></th>\n",
       "      <th>calls_id</th>\n",
       "      <th>user_id</th>\n",
       "      <th>call_date</th>\n",
       "      <th>duration</th>\n",
       "    </tr>\n",
       "  </thead>\n",
       "  <tbody>\n",
       "    <tr>\n",
       "      <th>131785</th>\n",
       "      <td>1474_182</td>\n",
       "      <td>1474</td>\n",
       "      <td>2018-11-17</td>\n",
       "      <td>2.52</td>\n",
       "    </tr>\n",
       "  </tbody>\n",
       "</table>\n",
       "</div>"
      ],
      "text/plain": [
       "        calls_id  user_id   call_date  duration\n",
       "131785  1474_182     1474  2018-11-17      2.52"
      ]
     },
     "execution_count": 17,
     "metadata": {},
     "output_type": "execute_result"
    }
   ],
   "source": [
    "calls_df.sample()"
   ]
  },
  {
   "cell_type": "markdown",
   "metadata": {
    "id": "KrMgTrlG0q0_"
   },
   "source": [
    "### Enriquecer los datos"
   ]
  },
  {
   "cell_type": "markdown",
   "metadata": {
    "id": "a9MbmEvE0q0_"
   },
   "source": [
    "[Agrega factores adicionales a los datos si crees que pudieran ser útiles.]"
   ]
  },
  {
   "cell_type": "code",
   "execution_count": 18,
   "metadata": {
    "id": "iZ1avpA_0q0_"
   },
   "outputs": [],
   "source": [
    "calls_df['call_date'] = pd.to_datetime(calls_df['call_date'],format = '%Y-%m-%d')"
   ]
  },
  {
   "cell_type": "code",
   "execution_count": 19,
   "metadata": {},
   "outputs": [
    {
     "name": "stdout",
     "output_type": "stream",
     "text": [
      "<class 'pandas.core.frame.DataFrame'>\n",
      "RangeIndex: 137735 entries, 0 to 137734\n",
      "Data columns (total 4 columns):\n",
      " #   Column     Non-Null Count   Dtype         \n",
      "---  ------     --------------   -----         \n",
      " 0   calls_id   137735 non-null  object        \n",
      " 1   user_id    137735 non-null  int64         \n",
      " 2   call_date  137735 non-null  datetime64[ns]\n",
      " 3   duration   137735 non-null  float64       \n",
      "dtypes: datetime64[ns](1), float64(1), int64(1), object(1)\n",
      "memory usage: 4.2+ MB\n"
     ]
    }
   ],
   "source": [
    "calls_df.info()"
   ]
  },
  {
   "cell_type": "code",
   "execution_count": 20,
   "metadata": {},
   "outputs": [],
   "source": [
    "calls_df ['mes'] = pd.DatetimeIndex(calls_df['call_date']).month"
   ]
  },
  {
   "cell_type": "code",
   "execution_count": 21,
   "metadata": {},
   "outputs": [
    {
     "data": {
      "text/html": [
       "<div>\n",
       "<style scoped>\n",
       "    .dataframe tbody tr th:only-of-type {\n",
       "        vertical-align: middle;\n",
       "    }\n",
       "\n",
       "    .dataframe tbody tr th {\n",
       "        vertical-align: top;\n",
       "    }\n",
       "\n",
       "    .dataframe thead th {\n",
       "        text-align: right;\n",
       "    }\n",
       "</style>\n",
       "<table border=\"1\" class=\"dataframe\">\n",
       "  <thead>\n",
       "    <tr style=\"text-align: right;\">\n",
       "      <th></th>\n",
       "      <th>calls_id</th>\n",
       "      <th>user_id</th>\n",
       "      <th>call_date</th>\n",
       "      <th>duration</th>\n",
       "      <th>mes</th>\n",
       "    </tr>\n",
       "  </thead>\n",
       "  <tbody>\n",
       "    <tr>\n",
       "      <th>0</th>\n",
       "      <td>1000_93</td>\n",
       "      <td>1000</td>\n",
       "      <td>2018-12-27</td>\n",
       "      <td>8.52</td>\n",
       "      <td>12</td>\n",
       "    </tr>\n",
       "    <tr>\n",
       "      <th>1</th>\n",
       "      <td>1000_145</td>\n",
       "      <td>1000</td>\n",
       "      <td>2018-12-27</td>\n",
       "      <td>13.66</td>\n",
       "      <td>12</td>\n",
       "    </tr>\n",
       "    <tr>\n",
       "      <th>2</th>\n",
       "      <td>1000_247</td>\n",
       "      <td>1000</td>\n",
       "      <td>2018-12-27</td>\n",
       "      <td>14.48</td>\n",
       "      <td>12</td>\n",
       "    </tr>\n",
       "    <tr>\n",
       "      <th>3</th>\n",
       "      <td>1000_309</td>\n",
       "      <td>1000</td>\n",
       "      <td>2018-12-28</td>\n",
       "      <td>5.76</td>\n",
       "      <td>12</td>\n",
       "    </tr>\n",
       "    <tr>\n",
       "      <th>4</th>\n",
       "      <td>1000_380</td>\n",
       "      <td>1000</td>\n",
       "      <td>2018-12-30</td>\n",
       "      <td>4.22</td>\n",
       "      <td>12</td>\n",
       "    </tr>\n",
       "  </tbody>\n",
       "</table>\n",
       "</div>"
      ],
      "text/plain": [
       "   calls_id  user_id  call_date  duration  mes\n",
       "0   1000_93     1000 2018-12-27      8.52   12\n",
       "1  1000_145     1000 2018-12-27     13.66   12\n",
       "2  1000_247     1000 2018-12-27     14.48   12\n",
       "3  1000_309     1000 2018-12-28      5.76   12\n",
       "4  1000_380     1000 2018-12-30      4.22   12"
      ]
     },
     "execution_count": 21,
     "metadata": {},
     "output_type": "execute_result"
    }
   ],
   "source": [
    "calls_df.head()"
   ]
  },
  {
   "cell_type": "code",
   "execution_count": 22,
   "metadata": {},
   "outputs": [],
   "source": [
    "import math\n",
    "\n",
    "calls_df['duracion_redondeada_prueba'] = calls_df['duration'].apply(math.ceil)"
   ]
  },
  {
   "cell_type": "code",
   "execution_count": 23,
   "metadata": {},
   "outputs": [
    {
     "data": {
      "text/html": [
       "<div>\n",
       "<style scoped>\n",
       "    .dataframe tbody tr th:only-of-type {\n",
       "        vertical-align: middle;\n",
       "    }\n",
       "\n",
       "    .dataframe tbody tr th {\n",
       "        vertical-align: top;\n",
       "    }\n",
       "\n",
       "    .dataframe thead th {\n",
       "        text-align: right;\n",
       "    }\n",
       "</style>\n",
       "<table border=\"1\" class=\"dataframe\">\n",
       "  <thead>\n",
       "    <tr style=\"text-align: right;\">\n",
       "      <th></th>\n",
       "      <th>calls_id</th>\n",
       "      <th>user_id</th>\n",
       "      <th>call_date</th>\n",
       "      <th>duration</th>\n",
       "      <th>mes</th>\n",
       "      <th>duracion_redondeada_prueba</th>\n",
       "    </tr>\n",
       "  </thead>\n",
       "  <tbody>\n",
       "    <tr>\n",
       "      <th>0</th>\n",
       "      <td>1000_93</td>\n",
       "      <td>1000</td>\n",
       "      <td>2018-12-27</td>\n",
       "      <td>8.52</td>\n",
       "      <td>12</td>\n",
       "      <td>9</td>\n",
       "    </tr>\n",
       "    <tr>\n",
       "      <th>1</th>\n",
       "      <td>1000_145</td>\n",
       "      <td>1000</td>\n",
       "      <td>2018-12-27</td>\n",
       "      <td>13.66</td>\n",
       "      <td>12</td>\n",
       "      <td>14</td>\n",
       "    </tr>\n",
       "    <tr>\n",
       "      <th>2</th>\n",
       "      <td>1000_247</td>\n",
       "      <td>1000</td>\n",
       "      <td>2018-12-27</td>\n",
       "      <td>14.48</td>\n",
       "      <td>12</td>\n",
       "      <td>15</td>\n",
       "    </tr>\n",
       "    <tr>\n",
       "      <th>3</th>\n",
       "      <td>1000_309</td>\n",
       "      <td>1000</td>\n",
       "      <td>2018-12-28</td>\n",
       "      <td>5.76</td>\n",
       "      <td>12</td>\n",
       "      <td>6</td>\n",
       "    </tr>\n",
       "    <tr>\n",
       "      <th>4</th>\n",
       "      <td>1000_380</td>\n",
       "      <td>1000</td>\n",
       "      <td>2018-12-30</td>\n",
       "      <td>4.22</td>\n",
       "      <td>12</td>\n",
       "      <td>5</td>\n",
       "    </tr>\n",
       "  </tbody>\n",
       "</table>\n",
       "</div>"
      ],
      "text/plain": [
       "   calls_id  user_id  call_date  duration  mes  duracion_redondeada_prueba\n",
       "0   1000_93     1000 2018-12-27      8.52   12                           9\n",
       "1  1000_145     1000 2018-12-27     13.66   12                          14\n",
       "2  1000_247     1000 2018-12-27     14.48   12                          15\n",
       "3  1000_309     1000 2018-12-28      5.76   12                           6\n",
       "4  1000_380     1000 2018-12-30      4.22   12                           5"
      ]
     },
     "execution_count": 23,
     "metadata": {},
     "output_type": "execute_result"
    }
   ],
   "source": [
    "calls_df.head()"
   ]
  },
  {
   "cell_type": "code",
   "execution_count": 24,
   "metadata": {},
   "outputs": [],
   "source": [
    "import math\n",
    "def redondeo_llamadas(duracion): \n",
    "    redondeo = math.ceil(duracion)\n",
    "    return redondeo"
   ]
  },
  {
   "cell_type": "code",
   "execution_count": 25,
   "metadata": {},
   "outputs": [],
   "source": [
    "calls_df['duracion_redondeada'] = calls_df['duration'].apply(redondeo_llamadas)"
   ]
  },
  {
   "cell_type": "code",
   "execution_count": 26,
   "metadata": {},
   "outputs": [
    {
     "name": "stdout",
     "output_type": "stream",
     "text": [
      "<class 'pandas.core.frame.DataFrame'>\n",
      "RangeIndex: 137735 entries, 0 to 137734\n",
      "Data columns (total 7 columns):\n",
      " #   Column                      Non-Null Count   Dtype         \n",
      "---  ------                      --------------   -----         \n",
      " 0   calls_id                    137735 non-null  object        \n",
      " 1   user_id                     137735 non-null  int64         \n",
      " 2   call_date                   137735 non-null  datetime64[ns]\n",
      " 3   duration                    137735 non-null  float64       \n",
      " 4   mes                         137735 non-null  int64         \n",
      " 5   duracion_redondeada_prueba  137735 non-null  int64         \n",
      " 6   duracion_redondeada         137735 non-null  int64         \n",
      "dtypes: datetime64[ns](1), float64(1), int64(4), object(1)\n",
      "memory usage: 7.4+ MB\n"
     ]
    }
   ],
   "source": [
    "calls_df.info()"
   ]
  },
  {
   "cell_type": "code",
   "execution_count": 27,
   "metadata": {},
   "outputs": [
    {
     "data": {
      "text/html": [
       "<div>\n",
       "<style scoped>\n",
       "    .dataframe tbody tr th:only-of-type {\n",
       "        vertical-align: middle;\n",
       "    }\n",
       "\n",
       "    .dataframe tbody tr th {\n",
       "        vertical-align: top;\n",
       "    }\n",
       "\n",
       "    .dataframe thead th {\n",
       "        text-align: right;\n",
       "    }\n",
       "</style>\n",
       "<table border=\"1\" class=\"dataframe\">\n",
       "  <thead>\n",
       "    <tr style=\"text-align: right;\">\n",
       "      <th></th>\n",
       "      <th>calls_id</th>\n",
       "      <th>user_id</th>\n",
       "      <th>call_date</th>\n",
       "      <th>duration</th>\n",
       "      <th>mes</th>\n",
       "      <th>duracion_redondeada_prueba</th>\n",
       "      <th>duracion_redondeada</th>\n",
       "    </tr>\n",
       "  </thead>\n",
       "  <tbody>\n",
       "    <tr>\n",
       "      <th>0</th>\n",
       "      <td>1000_93</td>\n",
       "      <td>1000</td>\n",
       "      <td>2018-12-27</td>\n",
       "      <td>8.52</td>\n",
       "      <td>12</td>\n",
       "      <td>9</td>\n",
       "      <td>9</td>\n",
       "    </tr>\n",
       "    <tr>\n",
       "      <th>1</th>\n",
       "      <td>1000_145</td>\n",
       "      <td>1000</td>\n",
       "      <td>2018-12-27</td>\n",
       "      <td>13.66</td>\n",
       "      <td>12</td>\n",
       "      <td>14</td>\n",
       "      <td>14</td>\n",
       "    </tr>\n",
       "    <tr>\n",
       "      <th>2</th>\n",
       "      <td>1000_247</td>\n",
       "      <td>1000</td>\n",
       "      <td>2018-12-27</td>\n",
       "      <td>14.48</td>\n",
       "      <td>12</td>\n",
       "      <td>15</td>\n",
       "      <td>15</td>\n",
       "    </tr>\n",
       "    <tr>\n",
       "      <th>3</th>\n",
       "      <td>1000_309</td>\n",
       "      <td>1000</td>\n",
       "      <td>2018-12-28</td>\n",
       "      <td>5.76</td>\n",
       "      <td>12</td>\n",
       "      <td>6</td>\n",
       "      <td>6</td>\n",
       "    </tr>\n",
       "    <tr>\n",
       "      <th>4</th>\n",
       "      <td>1000_380</td>\n",
       "      <td>1000</td>\n",
       "      <td>2018-12-30</td>\n",
       "      <td>4.22</td>\n",
       "      <td>12</td>\n",
       "      <td>5</td>\n",
       "      <td>5</td>\n",
       "    </tr>\n",
       "  </tbody>\n",
       "</table>\n",
       "</div>"
      ],
      "text/plain": [
       "   calls_id  user_id  call_date  duration  mes  duracion_redondeada_prueba  \\\n",
       "0   1000_93     1000 2018-12-27      8.52   12                           9   \n",
       "1  1000_145     1000 2018-12-27     13.66   12                          14   \n",
       "2  1000_247     1000 2018-12-27     14.48   12                          15   \n",
       "3  1000_309     1000 2018-12-28      5.76   12                           6   \n",
       "4  1000_380     1000 2018-12-30      4.22   12                           5   \n",
       "\n",
       "   duracion_redondeada  \n",
       "0                    9  \n",
       "1                   14  \n",
       "2                   15  \n",
       "3                    6  \n",
       "4                    5  "
      ]
     },
     "execution_count": 27,
     "metadata": {},
     "output_type": "execute_result"
    }
   ],
   "source": [
    "calls_df.head()"
   ]
  },
  {
   "cell_type": "markdown",
   "metadata": {
    "id": "mOUZSi180q0_"
   },
   "source": [
    "## Mensajes"
   ]
  },
  {
   "cell_type": "code",
   "execution_count": 28,
   "metadata": {
    "id": "R-bYJpdV0q1A"
   },
   "outputs": [
    {
     "name": "stdout",
     "output_type": "stream",
     "text": [
      "<class 'pandas.core.frame.DataFrame'>\n",
      "RangeIndex: 76051 entries, 0 to 76050\n",
      "Data columns (total 3 columns):\n",
      " #   Column        Non-Null Count  Dtype \n",
      "---  ------        --------------  ----- \n",
      " 0   id            76051 non-null  object\n",
      " 1   user_id       76051 non-null  int64 \n",
      " 2   message_date  76051 non-null  object\n",
      "dtypes: int64(1), object(2)\n",
      "memory usage: 1.7+ MB\n"
     ]
    }
   ],
   "source": [
    "messages_df.info()# Imprime la información general/resumida sobre el DataFrame de los mensajes\n",
    "\n"
   ]
  },
  {
   "cell_type": "code",
   "execution_count": 29,
   "metadata": {
    "id": "mCEl2iGE0q1A"
   },
   "outputs": [
    {
     "data": {
      "text/html": [
       "<div>\n",
       "<style scoped>\n",
       "    .dataframe tbody tr th:only-of-type {\n",
       "        vertical-align: middle;\n",
       "    }\n",
       "\n",
       "    .dataframe tbody tr th {\n",
       "        vertical-align: top;\n",
       "    }\n",
       "\n",
       "    .dataframe thead th {\n",
       "        text-align: right;\n",
       "    }\n",
       "</style>\n",
       "<table border=\"1\" class=\"dataframe\">\n",
       "  <thead>\n",
       "    <tr style=\"text-align: right;\">\n",
       "      <th></th>\n",
       "      <th>id</th>\n",
       "      <th>user_id</th>\n",
       "      <th>message_date</th>\n",
       "    </tr>\n",
       "  </thead>\n",
       "  <tbody>\n",
       "    <tr>\n",
       "      <th>26233</th>\n",
       "      <td>1159_236</td>\n",
       "      <td>1159</td>\n",
       "      <td>2018-10-10</td>\n",
       "    </tr>\n",
       "  </tbody>\n",
       "</table>\n",
       "</div>"
      ],
      "text/plain": [
       "             id  user_id message_date\n",
       "26233  1159_236     1159   2018-10-10"
      ]
     },
     "execution_count": 29,
     "metadata": {},
     "output_type": "execute_result"
    }
   ],
   "source": [
    "messages_df.sample()# Imprime una muestra de datos para los mensajes\n",
    "\n"
   ]
  },
  {
   "cell_type": "markdown",
   "metadata": {
    "id": "04xDj7KH0q1A"
   },
   "source": [
    "[Describe lo que ves y observas en la información general y en la muestra de datos impresa para el precio de datos anterior. ¿Hay algún problema (tipos de datos no adecuados, datos ausentes, etc.) que pudieran necesitar investigación y cambios adicionales? ¿Cómo se puede arreglar?]\n",
    "\n",
    "Aquí la columna de **id** cambiara de nombre a **message_id** debido a que en otras tablas tenemos columnas con ese mismo nombre y es importante diferenciar cada una de ellas para evitar posibles confusiones.\n",
    "\n",
    "Para la columna de message_date se observa que los datos proporcionados son fechas pero el formato de estos es \"object\" lo cual lo hace un tranto inconveniente para realizar uso de estos datos en el futuro, por lo que se buscará realizar un cambio de formato a \"date\".\n",
    "\n",
    "Se realizará una columna que nos indica del mes, para saber los mensajes que fueron enviados durante cada mes."
   ]
  },
  {
   "cell_type": "markdown",
   "metadata": {
    "id": "Sprfak900q1B"
   },
   "source": [
    "### Corregir los datos"
   ]
  },
  {
   "cell_type": "markdown",
   "metadata": {
    "id": "eGw7d9j10q1B"
   },
   "source": [
    "[Corrige los problemas obvios con los datos basándote en las observaciones iniciales.]"
   ]
  },
  {
   "cell_type": "code",
   "execution_count": 30,
   "metadata": {
    "id": "vsllvkoa0q1B"
   },
   "outputs": [],
   "source": [
    "messages_df['messages_date'] = pd.to_datetime( messages_df['message_date'], format= '%Y-%m-%d')"
   ]
  },
  {
   "cell_type": "code",
   "execution_count": 31,
   "metadata": {},
   "outputs": [
    {
     "name": "stdout",
     "output_type": "stream",
     "text": [
      "<class 'pandas.core.frame.DataFrame'>\n",
      "RangeIndex: 76051 entries, 0 to 76050\n",
      "Data columns (total 4 columns):\n",
      " #   Column         Non-Null Count  Dtype         \n",
      "---  ------         --------------  -----         \n",
      " 0   id             76051 non-null  object        \n",
      " 1   user_id        76051 non-null  int64         \n",
      " 2   message_date   76051 non-null  object        \n",
      " 3   messages_date  76051 non-null  datetime64[ns]\n",
      "dtypes: datetime64[ns](1), int64(1), object(2)\n",
      "memory usage: 2.3+ MB\n"
     ]
    }
   ],
   "source": [
    "messages_df.info()"
   ]
  },
  {
   "cell_type": "code",
   "execution_count": 32,
   "metadata": {},
   "outputs": [],
   "source": [
    "messages_df.rename(columns={'id':'message_id'}, inplace = True)"
   ]
  },
  {
   "cell_type": "code",
   "execution_count": 33,
   "metadata": {},
   "outputs": [
    {
     "data": {
      "text/html": [
       "<div>\n",
       "<style scoped>\n",
       "    .dataframe tbody tr th:only-of-type {\n",
       "        vertical-align: middle;\n",
       "    }\n",
       "\n",
       "    .dataframe tbody tr th {\n",
       "        vertical-align: top;\n",
       "    }\n",
       "\n",
       "    .dataframe thead th {\n",
       "        text-align: right;\n",
       "    }\n",
       "</style>\n",
       "<table border=\"1\" class=\"dataframe\">\n",
       "  <thead>\n",
       "    <tr style=\"text-align: right;\">\n",
       "      <th></th>\n",
       "      <th>message_id</th>\n",
       "      <th>user_id</th>\n",
       "      <th>message_date</th>\n",
       "      <th>messages_date</th>\n",
       "    </tr>\n",
       "  </thead>\n",
       "  <tbody>\n",
       "    <tr>\n",
       "      <th>39129</th>\n",
       "      <td>1255_111</td>\n",
       "      <td>1255</td>\n",
       "      <td>2018-12-16</td>\n",
       "      <td>2018-12-16</td>\n",
       "    </tr>\n",
       "  </tbody>\n",
       "</table>\n",
       "</div>"
      ],
      "text/plain": [
       "      message_id  user_id message_date messages_date\n",
       "39129   1255_111     1255   2018-12-16    2018-12-16"
      ]
     },
     "execution_count": 33,
     "metadata": {},
     "output_type": "execute_result"
    }
   ],
   "source": [
    "messages_df.sample()"
   ]
  },
  {
   "cell_type": "markdown",
   "metadata": {
    "id": "HvLid7iD0q1B"
   },
   "source": [
    "### Enriquecer los datos"
   ]
  },
  {
   "cell_type": "markdown",
   "metadata": {
    "id": "8nhPFKIe0q1C"
   },
   "source": [
    "[Agrega factores adicionales a los datos si crees que pudieran ser útiles.]"
   ]
  },
  {
   "cell_type": "code",
   "execution_count": 34,
   "metadata": {
    "id": "zYEXZac10q1C"
   },
   "outputs": [],
   "source": [
    "messages_df['month'] = pd.DatetimeIndex(messages_df['message_date']).month"
   ]
  },
  {
   "cell_type": "code",
   "execution_count": 35,
   "metadata": {},
   "outputs": [
    {
     "data": {
      "text/html": [
       "<div>\n",
       "<style scoped>\n",
       "    .dataframe tbody tr th:only-of-type {\n",
       "        vertical-align: middle;\n",
       "    }\n",
       "\n",
       "    .dataframe tbody tr th {\n",
       "        vertical-align: top;\n",
       "    }\n",
       "\n",
       "    .dataframe thead th {\n",
       "        text-align: right;\n",
       "    }\n",
       "</style>\n",
       "<table border=\"1\" class=\"dataframe\">\n",
       "  <thead>\n",
       "    <tr style=\"text-align: right;\">\n",
       "      <th></th>\n",
       "      <th>message_id</th>\n",
       "      <th>user_id</th>\n",
       "      <th>message_date</th>\n",
       "      <th>messages_date</th>\n",
       "      <th>month</th>\n",
       "    </tr>\n",
       "  </thead>\n",
       "  <tbody>\n",
       "    <tr>\n",
       "      <th>0</th>\n",
       "      <td>1000_125</td>\n",
       "      <td>1000</td>\n",
       "      <td>2018-12-27</td>\n",
       "      <td>2018-12-27</td>\n",
       "      <td>12</td>\n",
       "    </tr>\n",
       "    <tr>\n",
       "      <th>1</th>\n",
       "      <td>1000_160</td>\n",
       "      <td>1000</td>\n",
       "      <td>2018-12-31</td>\n",
       "      <td>2018-12-31</td>\n",
       "      <td>12</td>\n",
       "    </tr>\n",
       "    <tr>\n",
       "      <th>2</th>\n",
       "      <td>1000_223</td>\n",
       "      <td>1000</td>\n",
       "      <td>2018-12-31</td>\n",
       "      <td>2018-12-31</td>\n",
       "      <td>12</td>\n",
       "    </tr>\n",
       "    <tr>\n",
       "      <th>3</th>\n",
       "      <td>1000_251</td>\n",
       "      <td>1000</td>\n",
       "      <td>2018-12-27</td>\n",
       "      <td>2018-12-27</td>\n",
       "      <td>12</td>\n",
       "    </tr>\n",
       "    <tr>\n",
       "      <th>4</th>\n",
       "      <td>1000_255</td>\n",
       "      <td>1000</td>\n",
       "      <td>2018-12-26</td>\n",
       "      <td>2018-12-26</td>\n",
       "      <td>12</td>\n",
       "    </tr>\n",
       "  </tbody>\n",
       "</table>\n",
       "</div>"
      ],
      "text/plain": [
       "  message_id  user_id message_date messages_date  month\n",
       "0   1000_125     1000   2018-12-27    2018-12-27     12\n",
       "1   1000_160     1000   2018-12-31    2018-12-31     12\n",
       "2   1000_223     1000   2018-12-31    2018-12-31     12\n",
       "3   1000_251     1000   2018-12-27    2018-12-27     12\n",
       "4   1000_255     1000   2018-12-26    2018-12-26     12"
      ]
     },
     "execution_count": 35,
     "metadata": {},
     "output_type": "execute_result"
    }
   ],
   "source": [
    "messages_df.head()"
   ]
  },
  {
   "cell_type": "markdown",
   "metadata": {
    "id": "bStkaxn40q1C"
   },
   "source": [
    "## Internet"
   ]
  },
  {
   "cell_type": "code",
   "execution_count": 36,
   "metadata": {
    "id": "e-Uz5qyn0q1C"
   },
   "outputs": [
    {
     "name": "stdout",
     "output_type": "stream",
     "text": [
      "<class 'pandas.core.frame.DataFrame'>\n",
      "RangeIndex: 104825 entries, 0 to 104824\n",
      "Data columns (total 4 columns):\n",
      " #   Column        Non-Null Count   Dtype  \n",
      "---  ------        --------------   -----  \n",
      " 0   id            104825 non-null  object \n",
      " 1   user_id       104825 non-null  int64  \n",
      " 2   session_date  104825 non-null  object \n",
      " 3   mb_used       104825 non-null  float64\n",
      "dtypes: float64(1), int64(1), object(2)\n",
      "memory usage: 3.2+ MB\n"
     ]
    }
   ],
   "source": [
    "internet_df.info()# Imprime la información general/resumida sobre el DataFrame de internet\n",
    "\n"
   ]
  },
  {
   "cell_type": "code",
   "execution_count": 37,
   "metadata": {
    "id": "9r3x_XLw0q1C"
   },
   "outputs": [
    {
     "data": {
      "text/html": [
       "<div>\n",
       "<style scoped>\n",
       "    .dataframe tbody tr th:only-of-type {\n",
       "        vertical-align: middle;\n",
       "    }\n",
       "\n",
       "    .dataframe tbody tr th {\n",
       "        vertical-align: top;\n",
       "    }\n",
       "\n",
       "    .dataframe thead th {\n",
       "        text-align: right;\n",
       "    }\n",
       "</style>\n",
       "<table border=\"1\" class=\"dataframe\">\n",
       "  <thead>\n",
       "    <tr style=\"text-align: right;\">\n",
       "      <th></th>\n",
       "      <th>id</th>\n",
       "      <th>user_id</th>\n",
       "      <th>session_date</th>\n",
       "      <th>mb_used</th>\n",
       "    </tr>\n",
       "  </thead>\n",
       "  <tbody>\n",
       "    <tr>\n",
       "      <th>52286</th>\n",
       "      <td>1236_131</td>\n",
       "      <td>1236</td>\n",
       "      <td>2018-04-06</td>\n",
       "      <td>317.68</td>\n",
       "    </tr>\n",
       "  </tbody>\n",
       "</table>\n",
       "</div>"
      ],
      "text/plain": [
       "             id  user_id session_date  mb_used\n",
       "52286  1236_131     1236   2018-04-06   317.68"
      ]
     },
     "execution_count": 37,
     "metadata": {},
     "output_type": "execute_result"
    }
   ],
   "source": [
    "internet_df.sample()# Imprime una muestra de datos para el tráfico de internet\n",
    "\n"
   ]
  },
  {
   "cell_type": "markdown",
   "metadata": {
    "id": "EzOG5ik30q1D"
   },
   "source": [
    "[Describe lo que ves y observas en la información general y en la muestra de datos impresa para el precio de datos anterior. ¿Hay algún problema (tipos de datos no adecuados, datos ausentes, etc.) que pudieran necesitar investigación y cambios adicionales? ¿Cómo se puede arreglar?]\n",
    "\n",
    "Aquí la columna de **id** cambiara de nombre a **internet_id** debido a que en otras tablas tenemos columnas con ese mismo nombre y es importante diferenciar cada una de ellas para evitar posibles confusiones. \n",
    "\n",
    "Para la columna de **session_date** se observa que los datos proporcionados son fechas pero el formato de estos es \"object\" lo cual lo hace un tranto inconveniente para realizar uso de estos datos en el futuro, por lo que se buscará realizar un cambio de formato a \"date\".\n",
    "\n",
    "Se realizará una columna que nos indica del mes, para saber cuanto internet se utilizo durante cada mes.\n",
    "\n",
    "La información de la columna de **mb_used** esta en mb pero el cobro se realiza en Gb, por lo que se hará un ajuste para saber cuantos gb se usan, para esto, se realizará una nueva columna, la cual tomara los mb y los redondeara a gb, contando solo gb y no mb."
   ]
  },
  {
   "cell_type": "markdown",
   "metadata": {
    "id": "yA0tkPFg0q1D"
   },
   "source": [
    "### Corregir los datos"
   ]
  },
  {
   "cell_type": "markdown",
   "metadata": {
    "id": "zlZMuIEK0q1D"
   },
   "source": [
    "[Corrige los problemas obvios con los datos basándote en las observaciones iniciales.]"
   ]
  },
  {
   "cell_type": "code",
   "execution_count": 38,
   "metadata": {
    "id": "zVeanzdd0q1E"
   },
   "outputs": [],
   "source": [
    "internet_df['session_date'] = pd.to_datetime( internet_df['session_date'], format= '%Y-%m-%d')"
   ]
  },
  {
   "cell_type": "code",
   "execution_count": 39,
   "metadata": {},
   "outputs": [
    {
     "name": "stdout",
     "output_type": "stream",
     "text": [
      "<class 'pandas.core.frame.DataFrame'>\n",
      "RangeIndex: 104825 entries, 0 to 104824\n",
      "Data columns (total 4 columns):\n",
      " #   Column        Non-Null Count   Dtype         \n",
      "---  ------        --------------   -----         \n",
      " 0   id            104825 non-null  object        \n",
      " 1   user_id       104825 non-null  int64         \n",
      " 2   session_date  104825 non-null  datetime64[ns]\n",
      " 3   mb_used       104825 non-null  float64       \n",
      "dtypes: datetime64[ns](1), float64(1), int64(1), object(1)\n",
      "memory usage: 3.2+ MB\n"
     ]
    }
   ],
   "source": [
    "internet_df.info()"
   ]
  },
  {
   "cell_type": "code",
   "execution_count": 40,
   "metadata": {},
   "outputs": [],
   "source": [
    "internet_df.rename(columns={'id':'internet_id'}, inplace = True)"
   ]
  },
  {
   "cell_type": "code",
   "execution_count": 41,
   "metadata": {},
   "outputs": [
    {
     "data": {
      "text/html": [
       "<div>\n",
       "<style scoped>\n",
       "    .dataframe tbody tr th:only-of-type {\n",
       "        vertical-align: middle;\n",
       "    }\n",
       "\n",
       "    .dataframe tbody tr th {\n",
       "        vertical-align: top;\n",
       "    }\n",
       "\n",
       "    .dataframe thead th {\n",
       "        text-align: right;\n",
       "    }\n",
       "</style>\n",
       "<table border=\"1\" class=\"dataframe\">\n",
       "  <thead>\n",
       "    <tr style=\"text-align: right;\">\n",
       "      <th></th>\n",
       "      <th>internet_id</th>\n",
       "      <th>user_id</th>\n",
       "      <th>session_date</th>\n",
       "      <th>mb_used</th>\n",
       "    </tr>\n",
       "  </thead>\n",
       "  <tbody>\n",
       "    <tr>\n",
       "      <th>11595</th>\n",
       "      <td>1056_262</td>\n",
       "      <td>1056</td>\n",
       "      <td>2018-09-15</td>\n",
       "      <td>342.29</td>\n",
       "    </tr>\n",
       "  </tbody>\n",
       "</table>\n",
       "</div>"
      ],
      "text/plain": [
       "      internet_id  user_id session_date  mb_used\n",
       "11595    1056_262     1056   2018-09-15   342.29"
      ]
     },
     "execution_count": 41,
     "metadata": {},
     "output_type": "execute_result"
    }
   ],
   "source": [
    "internet_df.sample()"
   ]
  },
  {
   "cell_type": "markdown",
   "metadata": {
    "id": "e8_mLF4a0q1E"
   },
   "source": [
    "### Enriquecer los datos"
   ]
  },
  {
   "cell_type": "markdown",
   "metadata": {
    "id": "xhNdn2tE0q1E"
   },
   "source": [
    "[Agrega factores adicionales a los datos si crees que pudieran ser útiles.]"
   ]
  },
  {
   "cell_type": "code",
   "execution_count": 42,
   "metadata": {
    "id": "ESiYPIEK0q1E"
   },
   "outputs": [],
   "source": [
    "internet_df ['mes']=pd.DatetimeIndex(internet_df['session_date']).month"
   ]
  },
  {
   "cell_type": "code",
   "execution_count": 43,
   "metadata": {},
   "outputs": [
    {
     "data": {
      "text/html": [
       "<div>\n",
       "<style scoped>\n",
       "    .dataframe tbody tr th:only-of-type {\n",
       "        vertical-align: middle;\n",
       "    }\n",
       "\n",
       "    .dataframe tbody tr th {\n",
       "        vertical-align: top;\n",
       "    }\n",
       "\n",
       "    .dataframe thead th {\n",
       "        text-align: right;\n",
       "    }\n",
       "</style>\n",
       "<table border=\"1\" class=\"dataframe\">\n",
       "  <thead>\n",
       "    <tr style=\"text-align: right;\">\n",
       "      <th></th>\n",
       "      <th>internet_id</th>\n",
       "      <th>user_id</th>\n",
       "      <th>session_date</th>\n",
       "      <th>mb_used</th>\n",
       "      <th>mes</th>\n",
       "    </tr>\n",
       "  </thead>\n",
       "  <tbody>\n",
       "    <tr>\n",
       "      <th>0</th>\n",
       "      <td>1000_13</td>\n",
       "      <td>1000</td>\n",
       "      <td>2018-12-29</td>\n",
       "      <td>89.86</td>\n",
       "      <td>12</td>\n",
       "    </tr>\n",
       "    <tr>\n",
       "      <th>1</th>\n",
       "      <td>1000_204</td>\n",
       "      <td>1000</td>\n",
       "      <td>2018-12-31</td>\n",
       "      <td>0.00</td>\n",
       "      <td>12</td>\n",
       "    </tr>\n",
       "    <tr>\n",
       "      <th>2</th>\n",
       "      <td>1000_379</td>\n",
       "      <td>1000</td>\n",
       "      <td>2018-12-28</td>\n",
       "      <td>660.40</td>\n",
       "      <td>12</td>\n",
       "    </tr>\n",
       "    <tr>\n",
       "      <th>3</th>\n",
       "      <td>1000_413</td>\n",
       "      <td>1000</td>\n",
       "      <td>2018-12-26</td>\n",
       "      <td>270.99</td>\n",
       "      <td>12</td>\n",
       "    </tr>\n",
       "    <tr>\n",
       "      <th>4</th>\n",
       "      <td>1000_442</td>\n",
       "      <td>1000</td>\n",
       "      <td>2018-12-27</td>\n",
       "      <td>880.22</td>\n",
       "      <td>12</td>\n",
       "    </tr>\n",
       "  </tbody>\n",
       "</table>\n",
       "</div>"
      ],
      "text/plain": [
       "  internet_id  user_id session_date  mb_used  mes\n",
       "0     1000_13     1000   2018-12-29    89.86   12\n",
       "1    1000_204     1000   2018-12-31     0.00   12\n",
       "2    1000_379     1000   2018-12-28   660.40   12\n",
       "3    1000_413     1000   2018-12-26   270.99   12\n",
       "4    1000_442     1000   2018-12-27   880.22   12"
      ]
     },
     "execution_count": 43,
     "metadata": {},
     "output_type": "execute_result"
    }
   ],
   "source": [
    "internet_df.head()"
   ]
  },
  {
   "cell_type": "code",
   "execution_count": 44,
   "metadata": {},
   "outputs": [
    {
     "data": {
      "text/html": [
       "<div>\n",
       "<style scoped>\n",
       "    .dataframe tbody tr th:only-of-type {\n",
       "        vertical-align: middle;\n",
       "    }\n",
       "\n",
       "    .dataframe tbody tr th {\n",
       "        vertical-align: top;\n",
       "    }\n",
       "\n",
       "    .dataframe thead th {\n",
       "        text-align: right;\n",
       "    }\n",
       "</style>\n",
       "<table border=\"1\" class=\"dataframe\">\n",
       "  <thead>\n",
       "    <tr style=\"text-align: right;\">\n",
       "      <th></th>\n",
       "      <th>user_id</th>\n",
       "      <th>mb_used</th>\n",
       "      <th>mes</th>\n",
       "    </tr>\n",
       "  </thead>\n",
       "  <tbody>\n",
       "    <tr>\n",
       "      <th>count</th>\n",
       "      <td>104825.000000</td>\n",
       "      <td>104825.000000</td>\n",
       "      <td>104825.000000</td>\n",
       "    </tr>\n",
       "    <tr>\n",
       "      <th>mean</th>\n",
       "      <td>1242.496361</td>\n",
       "      <td>366.713701</td>\n",
       "      <td>9.342552</td>\n",
       "    </tr>\n",
       "    <tr>\n",
       "      <th>std</th>\n",
       "      <td>142.053913</td>\n",
       "      <td>277.170542</td>\n",
       "      <td>2.400404</td>\n",
       "    </tr>\n",
       "    <tr>\n",
       "      <th>min</th>\n",
       "      <td>1000.000000</td>\n",
       "      <td>0.000000</td>\n",
       "      <td>1.000000</td>\n",
       "    </tr>\n",
       "    <tr>\n",
       "      <th>25%</th>\n",
       "      <td>1122.000000</td>\n",
       "      <td>136.080000</td>\n",
       "      <td>8.000000</td>\n",
       "    </tr>\n",
       "    <tr>\n",
       "      <th>50%</th>\n",
       "      <td>1236.000000</td>\n",
       "      <td>343.980000</td>\n",
       "      <td>10.000000</td>\n",
       "    </tr>\n",
       "    <tr>\n",
       "      <th>75%</th>\n",
       "      <td>1367.000000</td>\n",
       "      <td>554.610000</td>\n",
       "      <td>11.000000</td>\n",
       "    </tr>\n",
       "    <tr>\n",
       "      <th>max</th>\n",
       "      <td>1499.000000</td>\n",
       "      <td>1693.470000</td>\n",
       "      <td>12.000000</td>\n",
       "    </tr>\n",
       "  </tbody>\n",
       "</table>\n",
       "</div>"
      ],
      "text/plain": [
       "             user_id        mb_used            mes\n",
       "count  104825.000000  104825.000000  104825.000000\n",
       "mean     1242.496361     366.713701       9.342552\n",
       "std       142.053913     277.170542       2.400404\n",
       "min      1000.000000       0.000000       1.000000\n",
       "25%      1122.000000     136.080000       8.000000\n",
       "50%      1236.000000     343.980000      10.000000\n",
       "75%      1367.000000     554.610000      11.000000\n",
       "max      1499.000000    1693.470000      12.000000"
      ]
     },
     "execution_count": 44,
     "metadata": {},
     "output_type": "execute_result"
    }
   ],
   "source": [
    "internet_df.describe()"
   ]
  },
  {
   "cell_type": "markdown",
   "metadata": {},
   "source": [
    "Se puede observar  que hay usuarios que no utilizan los mb, pues en el minimo es 0. ¿Que cantidad de estos usauarios no utilizaran los mb?"
   ]
  },
  {
   "cell_type": "code",
   "execution_count": 45,
   "metadata": {},
   "outputs": [
    {
     "data": {
      "text/plain": [
       "13.11423801574052"
      ]
     },
     "execution_count": 45,
     "metadata": {},
     "output_type": "execute_result"
    }
   ],
   "source": [
    "(len(internet_df.query('mb_used == 0' ))/len(internet_df))*100"
   ]
  },
  {
   "cell_type": "markdown",
   "metadata": {},
   "source": [
    "Resulto que un **13%** de los usuarios no utilizan este beneficio."
   ]
  },
  {
   "cell_type": "markdown",
   "metadata": {
    "id": "3UA2cqIW0q1E"
   },
   "source": [
    "## Estudiar las condiciones de las tarifas"
   ]
  },
  {
   "cell_type": "markdown",
   "metadata": {
    "id": "T86Sqltq0q1F"
   },
   "source": [
    "[Es sumamente importante entender cómo funcionan las tarifas, cómo se les cobra a los usuarios en función de su plan de suscripción. Así que te sugerimos imprimir la información de la tarifa para ver una vez más sus condiciones.]"
   ]
  },
  {
   "cell_type": "code",
   "execution_count": 46,
   "metadata": {
    "id": "i409op8p0q1F"
   },
   "outputs": [],
   "source": [
    "costo_mes_surf = 20 \n",
    "minutos_surf = 500\n",
    "messages_surf= 50 \n",
    "datos_surf = 15\n",
    "costo_llamada_surf = 0.03\n",
    "costo_message_surf = 0.03\n",
    "costo_datos_surf = 10\n",
    "\n",
    "costo_mes_ultimate= 70 \n",
    "minutos_ultimate = 3000\n",
    "messages_ultimate = 1000 \n",
    "datos_ultimate = 30\n",
    "costo_llamada_ultimate = 0.01\n",
    "costo_message_ultimate = 0.01\n",
    "costo_datos_ultimate = 7\n",
    "# Imprime las condiciones de la tarifa y asegúrate de que te quedan claras\n",
    "\n"
   ]
  },
  {
   "cell_type": "markdown",
   "metadata": {
    "id": "hMR1tP5d0q1F"
   },
   "source": [
    "## Agregar datos por usuario\n",
    "\n",
    "[Ahora que los datos están limpios, agrega los datos por usuario y por periodo para que solo haya un registro por usuario y por periodo. Esto facilitará mucho el análisis posterior.]"
   ]
  },
  {
   "cell_type": "code",
   "execution_count": 47,
   "metadata": {},
   "outputs": [
    {
     "data": {
      "text/html": [
       "<div>\n",
       "<style scoped>\n",
       "    .dataframe tbody tr th:only-of-type {\n",
       "        vertical-align: middle;\n",
       "    }\n",
       "\n",
       "    .dataframe tbody tr th {\n",
       "        vertical-align: top;\n",
       "    }\n",
       "\n",
       "    .dataframe thead th {\n",
       "        text-align: right;\n",
       "    }\n",
       "</style>\n",
       "<table border=\"1\" class=\"dataframe\">\n",
       "  <thead>\n",
       "    <tr style=\"text-align: right;\">\n",
       "      <th></th>\n",
       "      <th>calls_id</th>\n",
       "      <th>user_id</th>\n",
       "      <th>call_date</th>\n",
       "      <th>duration</th>\n",
       "      <th>mes</th>\n",
       "      <th>duracion_redondeada_prueba</th>\n",
       "      <th>duracion_redondeada</th>\n",
       "    </tr>\n",
       "  </thead>\n",
       "  <tbody>\n",
       "    <tr>\n",
       "      <th>0</th>\n",
       "      <td>1000_93</td>\n",
       "      <td>1000</td>\n",
       "      <td>2018-12-27</td>\n",
       "      <td>8.52</td>\n",
       "      <td>12</td>\n",
       "      <td>9</td>\n",
       "      <td>9</td>\n",
       "    </tr>\n",
       "    <tr>\n",
       "      <th>1</th>\n",
       "      <td>1000_145</td>\n",
       "      <td>1000</td>\n",
       "      <td>2018-12-27</td>\n",
       "      <td>13.66</td>\n",
       "      <td>12</td>\n",
       "      <td>14</td>\n",
       "      <td>14</td>\n",
       "    </tr>\n",
       "    <tr>\n",
       "      <th>2</th>\n",
       "      <td>1000_247</td>\n",
       "      <td>1000</td>\n",
       "      <td>2018-12-27</td>\n",
       "      <td>14.48</td>\n",
       "      <td>12</td>\n",
       "      <td>15</td>\n",
       "      <td>15</td>\n",
       "    </tr>\n",
       "    <tr>\n",
       "      <th>3</th>\n",
       "      <td>1000_309</td>\n",
       "      <td>1000</td>\n",
       "      <td>2018-12-28</td>\n",
       "      <td>5.76</td>\n",
       "      <td>12</td>\n",
       "      <td>6</td>\n",
       "      <td>6</td>\n",
       "    </tr>\n",
       "    <tr>\n",
       "      <th>4</th>\n",
       "      <td>1000_380</td>\n",
       "      <td>1000</td>\n",
       "      <td>2018-12-30</td>\n",
       "      <td>4.22</td>\n",
       "      <td>12</td>\n",
       "      <td>5</td>\n",
       "      <td>5</td>\n",
       "    </tr>\n",
       "  </tbody>\n",
       "</table>\n",
       "</div>"
      ],
      "text/plain": [
       "   calls_id  user_id  call_date  duration  mes  duracion_redondeada_prueba  \\\n",
       "0   1000_93     1000 2018-12-27      8.52   12                           9   \n",
       "1  1000_145     1000 2018-12-27     13.66   12                          14   \n",
       "2  1000_247     1000 2018-12-27     14.48   12                          15   \n",
       "3  1000_309     1000 2018-12-28      5.76   12                           6   \n",
       "4  1000_380     1000 2018-12-30      4.22   12                           5   \n",
       "\n",
       "   duracion_redondeada  \n",
       "0                    9  \n",
       "1                   14  \n",
       "2                   15  \n",
       "3                    6  \n",
       "4                    5  "
      ]
     },
     "execution_count": 47,
     "metadata": {},
     "output_type": "execute_result"
    }
   ],
   "source": [
    "calls_df.head()"
   ]
  },
  {
   "cell_type": "code",
   "execution_count": 48,
   "metadata": {
    "id": "A332cedB0q1G"
   },
   "outputs": [],
   "source": [
    "# Calcula el número de llamadas hechas por cada usuario al mes. Guarda el resultado.\n",
    "\n"
   ]
  },
  {
   "cell_type": "code",
   "execution_count": 49,
   "metadata": {
    "id": "aw2cmuql0q1G"
   },
   "outputs": [],
   "source": [
    "calls_analytics = calls_df.pivot_table(index= ['user_id','mes'], values = 'duracion_redondeada', aggfunc = ['sum','count'])# Calcula la cantidad de minutos usados por cada usuario al mes. Guarda el resultado.\n",
    "\n"
   ]
  },
  {
   "cell_type": "code",
   "execution_count": 50,
   "metadata": {},
   "outputs": [],
   "source": [
    "calls_analytics.columns= ['minutos usados', 'llamadas hechas']"
   ]
  },
  {
   "cell_type": "code",
   "execution_count": 51,
   "metadata": {},
   "outputs": [],
   "source": [
    "calls_analytics = calls_analytics.reset_index()"
   ]
  },
  {
   "cell_type": "code",
   "execution_count": 52,
   "metadata": {},
   "outputs": [
    {
     "data": {
      "text/html": [
       "<div>\n",
       "<style scoped>\n",
       "    .dataframe tbody tr th:only-of-type {\n",
       "        vertical-align: middle;\n",
       "    }\n",
       "\n",
       "    .dataframe tbody tr th {\n",
       "        vertical-align: top;\n",
       "    }\n",
       "\n",
       "    .dataframe thead th {\n",
       "        text-align: right;\n",
       "    }\n",
       "</style>\n",
       "<table border=\"1\" class=\"dataframe\">\n",
       "  <thead>\n",
       "    <tr style=\"text-align: right;\">\n",
       "      <th></th>\n",
       "      <th>user_id</th>\n",
       "      <th>mes</th>\n",
       "      <th>minutos usados</th>\n",
       "      <th>llamadas hechas</th>\n",
       "    </tr>\n",
       "  </thead>\n",
       "  <tbody>\n",
       "    <tr>\n",
       "      <th>0</th>\n",
       "      <td>1000</td>\n",
       "      <td>12</td>\n",
       "      <td>124</td>\n",
       "      <td>16</td>\n",
       "    </tr>\n",
       "    <tr>\n",
       "      <th>1</th>\n",
       "      <td>1001</td>\n",
       "      <td>8</td>\n",
       "      <td>182</td>\n",
       "      <td>27</td>\n",
       "    </tr>\n",
       "    <tr>\n",
       "      <th>2</th>\n",
       "      <td>1001</td>\n",
       "      <td>9</td>\n",
       "      <td>315</td>\n",
       "      <td>49</td>\n",
       "    </tr>\n",
       "    <tr>\n",
       "      <th>3</th>\n",
       "      <td>1001</td>\n",
       "      <td>10</td>\n",
       "      <td>393</td>\n",
       "      <td>65</td>\n",
       "    </tr>\n",
       "    <tr>\n",
       "      <th>4</th>\n",
       "      <td>1001</td>\n",
       "      <td>11</td>\n",
       "      <td>426</td>\n",
       "      <td>64</td>\n",
       "    </tr>\n",
       "    <tr>\n",
       "      <th>...</th>\n",
       "      <td>...</td>\n",
       "      <td>...</td>\n",
       "      <td>...</td>\n",
       "      <td>...</td>\n",
       "    </tr>\n",
       "    <tr>\n",
       "      <th>2253</th>\n",
       "      <td>1498</td>\n",
       "      <td>12</td>\n",
       "      <td>339</td>\n",
       "      <td>39</td>\n",
       "    </tr>\n",
       "    <tr>\n",
       "      <th>2254</th>\n",
       "      <td>1499</td>\n",
       "      <td>9</td>\n",
       "      <td>346</td>\n",
       "      <td>41</td>\n",
       "    </tr>\n",
       "    <tr>\n",
       "      <th>2255</th>\n",
       "      <td>1499</td>\n",
       "      <td>10</td>\n",
       "      <td>385</td>\n",
       "      <td>53</td>\n",
       "    </tr>\n",
       "    <tr>\n",
       "      <th>2256</th>\n",
       "      <td>1499</td>\n",
       "      <td>11</td>\n",
       "      <td>308</td>\n",
       "      <td>45</td>\n",
       "    </tr>\n",
       "    <tr>\n",
       "      <th>2257</th>\n",
       "      <td>1499</td>\n",
       "      <td>12</td>\n",
       "      <td>496</td>\n",
       "      <td>65</td>\n",
       "    </tr>\n",
       "  </tbody>\n",
       "</table>\n",
       "<p>2258 rows × 4 columns</p>\n",
       "</div>"
      ],
      "text/plain": [
       "      user_id  mes  minutos usados  llamadas hechas\n",
       "0        1000   12             124               16\n",
       "1        1001    8             182               27\n",
       "2        1001    9             315               49\n",
       "3        1001   10             393               65\n",
       "4        1001   11             426               64\n",
       "...       ...  ...             ...              ...\n",
       "2253     1498   12             339               39\n",
       "2254     1499    9             346               41\n",
       "2255     1499   10             385               53\n",
       "2256     1499   11             308               45\n",
       "2257     1499   12             496               65\n",
       "\n",
       "[2258 rows x 4 columns]"
      ]
     },
     "execution_count": 52,
     "metadata": {},
     "output_type": "execute_result"
    }
   ],
   "source": [
    "calls_analytics"
   ]
  },
  {
   "cell_type": "code",
   "execution_count": 53,
   "metadata": {},
   "outputs": [
    {
     "data": {
      "text/html": [
       "<div>\n",
       "<style scoped>\n",
       "    .dataframe tbody tr th:only-of-type {\n",
       "        vertical-align: middle;\n",
       "    }\n",
       "\n",
       "    .dataframe tbody tr th {\n",
       "        vertical-align: top;\n",
       "    }\n",
       "\n",
       "    .dataframe thead th {\n",
       "        text-align: right;\n",
       "    }\n",
       "</style>\n",
       "<table border=\"1\" class=\"dataframe\">\n",
       "  <thead>\n",
       "    <tr style=\"text-align: right;\">\n",
       "      <th></th>\n",
       "      <th>message_id</th>\n",
       "      <th>user_id</th>\n",
       "      <th>message_date</th>\n",
       "      <th>messages_date</th>\n",
       "      <th>month</th>\n",
       "    </tr>\n",
       "  </thead>\n",
       "  <tbody>\n",
       "    <tr>\n",
       "      <th>10156</th>\n",
       "      <td>1076_353</td>\n",
       "      <td>1076</td>\n",
       "      <td>2018-12-12</td>\n",
       "      <td>2018-12-12</td>\n",
       "      <td>12</td>\n",
       "    </tr>\n",
       "  </tbody>\n",
       "</table>\n",
       "</div>"
      ],
      "text/plain": [
       "      message_id  user_id message_date messages_date  month\n",
       "10156   1076_353     1076   2018-12-12    2018-12-12     12"
      ]
     },
     "execution_count": 53,
     "metadata": {},
     "output_type": "execute_result"
    }
   ],
   "source": [
    "messages_df.sample()"
   ]
  },
  {
   "cell_type": "code",
   "execution_count": 54,
   "metadata": {
    "id": "CcQvNHn60q1G"
   },
   "outputs": [],
   "source": [
    "messages_analytics = messages_df.pivot_table( index = ['user_id', 'month'] , values = 'message_id',aggfunc = 'count') # Calcula el número de mensajes enviados por cada usuario al mes. Guarda el resultado.\n",
    "\n"
   ]
  },
  {
   "cell_type": "code",
   "execution_count": 55,
   "metadata": {},
   "outputs": [],
   "source": [
    "messages_analytics.columns= ['cantidad_de_mensajes']"
   ]
  },
  {
   "cell_type": "code",
   "execution_count": 56,
   "metadata": {},
   "outputs": [],
   "source": [
    "messages_analytics = messages_analytics.reset_index()"
   ]
  },
  {
   "cell_type": "code",
   "execution_count": 57,
   "metadata": {},
   "outputs": [],
   "source": [
    "messages_analytics.rename(columns={'month':'mes'}, inplace=True)"
   ]
  },
  {
   "cell_type": "code",
   "execution_count": 58,
   "metadata": {},
   "outputs": [
    {
     "data": {
      "text/html": [
       "<div>\n",
       "<style scoped>\n",
       "    .dataframe tbody tr th:only-of-type {\n",
       "        vertical-align: middle;\n",
       "    }\n",
       "\n",
       "    .dataframe tbody tr th {\n",
       "        vertical-align: top;\n",
       "    }\n",
       "\n",
       "    .dataframe thead th {\n",
       "        text-align: right;\n",
       "    }\n",
       "</style>\n",
       "<table border=\"1\" class=\"dataframe\">\n",
       "  <thead>\n",
       "    <tr style=\"text-align: right;\">\n",
       "      <th></th>\n",
       "      <th>user_id</th>\n",
       "      <th>mes</th>\n",
       "      <th>cantidad_de_mensajes</th>\n",
       "    </tr>\n",
       "  </thead>\n",
       "  <tbody>\n",
       "    <tr>\n",
       "      <th>0</th>\n",
       "      <td>1000</td>\n",
       "      <td>12</td>\n",
       "      <td>11</td>\n",
       "    </tr>\n",
       "    <tr>\n",
       "      <th>1</th>\n",
       "      <td>1001</td>\n",
       "      <td>8</td>\n",
       "      <td>30</td>\n",
       "    </tr>\n",
       "    <tr>\n",
       "      <th>2</th>\n",
       "      <td>1001</td>\n",
       "      <td>9</td>\n",
       "      <td>44</td>\n",
       "    </tr>\n",
       "    <tr>\n",
       "      <th>3</th>\n",
       "      <td>1001</td>\n",
       "      <td>10</td>\n",
       "      <td>53</td>\n",
       "    </tr>\n",
       "    <tr>\n",
       "      <th>4</th>\n",
       "      <td>1001</td>\n",
       "      <td>11</td>\n",
       "      <td>36</td>\n",
       "    </tr>\n",
       "    <tr>\n",
       "      <th>...</th>\n",
       "      <td>...</td>\n",
       "      <td>...</td>\n",
       "      <td>...</td>\n",
       "    </tr>\n",
       "    <tr>\n",
       "      <th>1801</th>\n",
       "      <td>1496</td>\n",
       "      <td>9</td>\n",
       "      <td>21</td>\n",
       "    </tr>\n",
       "    <tr>\n",
       "      <th>1802</th>\n",
       "      <td>1496</td>\n",
       "      <td>10</td>\n",
       "      <td>18</td>\n",
       "    </tr>\n",
       "    <tr>\n",
       "      <th>1803</th>\n",
       "      <td>1496</td>\n",
       "      <td>11</td>\n",
       "      <td>13</td>\n",
       "    </tr>\n",
       "    <tr>\n",
       "      <th>1804</th>\n",
       "      <td>1496</td>\n",
       "      <td>12</td>\n",
       "      <td>11</td>\n",
       "    </tr>\n",
       "    <tr>\n",
       "      <th>1805</th>\n",
       "      <td>1497</td>\n",
       "      <td>12</td>\n",
       "      <td>50</td>\n",
       "    </tr>\n",
       "  </tbody>\n",
       "</table>\n",
       "<p>1806 rows × 3 columns</p>\n",
       "</div>"
      ],
      "text/plain": [
       "      user_id  mes  cantidad_de_mensajes\n",
       "0        1000   12                    11\n",
       "1        1001    8                    30\n",
       "2        1001    9                    44\n",
       "3        1001   10                    53\n",
       "4        1001   11                    36\n",
       "...       ...  ...                   ...\n",
       "1801     1496    9                    21\n",
       "1802     1496   10                    18\n",
       "1803     1496   11                    13\n",
       "1804     1496   12                    11\n",
       "1805     1497   12                    50\n",
       "\n",
       "[1806 rows x 3 columns]"
      ]
     },
     "execution_count": 58,
     "metadata": {},
     "output_type": "execute_result"
    }
   ],
   "source": [
    "messages_analytics"
   ]
  },
  {
   "cell_type": "code",
   "execution_count": 59,
   "metadata": {},
   "outputs": [
    {
     "data": {
      "text/html": [
       "<div>\n",
       "<style scoped>\n",
       "    .dataframe tbody tr th:only-of-type {\n",
       "        vertical-align: middle;\n",
       "    }\n",
       "\n",
       "    .dataframe tbody tr th {\n",
       "        vertical-align: top;\n",
       "    }\n",
       "\n",
       "    .dataframe thead th {\n",
       "        text-align: right;\n",
       "    }\n",
       "</style>\n",
       "<table border=\"1\" class=\"dataframe\">\n",
       "  <thead>\n",
       "    <tr style=\"text-align: right;\">\n",
       "      <th></th>\n",
       "      <th>internet_id</th>\n",
       "      <th>user_id</th>\n",
       "      <th>session_date</th>\n",
       "      <th>mb_used</th>\n",
       "      <th>mes</th>\n",
       "    </tr>\n",
       "  </thead>\n",
       "  <tbody>\n",
       "    <tr>\n",
       "      <th>0</th>\n",
       "      <td>1000_13</td>\n",
       "      <td>1000</td>\n",
       "      <td>2018-12-29</td>\n",
       "      <td>89.86</td>\n",
       "      <td>12</td>\n",
       "    </tr>\n",
       "    <tr>\n",
       "      <th>1</th>\n",
       "      <td>1000_204</td>\n",
       "      <td>1000</td>\n",
       "      <td>2018-12-31</td>\n",
       "      <td>0.00</td>\n",
       "      <td>12</td>\n",
       "    </tr>\n",
       "    <tr>\n",
       "      <th>2</th>\n",
       "      <td>1000_379</td>\n",
       "      <td>1000</td>\n",
       "      <td>2018-12-28</td>\n",
       "      <td>660.40</td>\n",
       "      <td>12</td>\n",
       "    </tr>\n",
       "    <tr>\n",
       "      <th>3</th>\n",
       "      <td>1000_413</td>\n",
       "      <td>1000</td>\n",
       "      <td>2018-12-26</td>\n",
       "      <td>270.99</td>\n",
       "      <td>12</td>\n",
       "    </tr>\n",
       "    <tr>\n",
       "      <th>4</th>\n",
       "      <td>1000_442</td>\n",
       "      <td>1000</td>\n",
       "      <td>2018-12-27</td>\n",
       "      <td>880.22</td>\n",
       "      <td>12</td>\n",
       "    </tr>\n",
       "  </tbody>\n",
       "</table>\n",
       "</div>"
      ],
      "text/plain": [
       "  internet_id  user_id session_date  mb_used  mes\n",
       "0     1000_13     1000   2018-12-29    89.86   12\n",
       "1    1000_204     1000   2018-12-31     0.00   12\n",
       "2    1000_379     1000   2018-12-28   660.40   12\n",
       "3    1000_413     1000   2018-12-26   270.99   12\n",
       "4    1000_442     1000   2018-12-27   880.22   12"
      ]
     },
     "execution_count": 59,
     "metadata": {},
     "output_type": "execute_result"
    }
   ],
   "source": [
    "internet_df.head()"
   ]
  },
  {
   "cell_type": "code",
   "execution_count": 60,
   "metadata": {
    "id": "H1AqN2eG0q1H"
   },
   "outputs": [],
   "source": [
    "internet_analytics = internet_df.pivot_table(index=['user_id','mes'], values = 'mb_used', aggfunc= 'sum')# Calcula el volumen del tráfico de Internet usado por cada usuario al mes. Guarda el resultado.\n",
    "\n"
   ]
  },
  {
   "cell_type": "code",
   "execution_count": 61,
   "metadata": {},
   "outputs": [],
   "source": [
    "internet_analytics.columns = ['datos_usados']"
   ]
  },
  {
   "cell_type": "code",
   "execution_count": 62,
   "metadata": {},
   "outputs": [],
   "source": [
    "internet_analytics = internet_analytics.reset_index()"
   ]
  },
  {
   "cell_type": "code",
   "execution_count": 63,
   "metadata": {},
   "outputs": [
    {
     "data": {
      "text/html": [
       "<div>\n",
       "<style scoped>\n",
       "    .dataframe tbody tr th:only-of-type {\n",
       "        vertical-align: middle;\n",
       "    }\n",
       "\n",
       "    .dataframe tbody tr th {\n",
       "        vertical-align: top;\n",
       "    }\n",
       "\n",
       "    .dataframe thead th {\n",
       "        text-align: right;\n",
       "    }\n",
       "</style>\n",
       "<table border=\"1\" class=\"dataframe\">\n",
       "  <thead>\n",
       "    <tr style=\"text-align: right;\">\n",
       "      <th></th>\n",
       "      <th>user_id</th>\n",
       "      <th>mes</th>\n",
       "      <th>datos_usados</th>\n",
       "    </tr>\n",
       "  </thead>\n",
       "  <tbody>\n",
       "    <tr>\n",
       "      <th>0</th>\n",
       "      <td>1000</td>\n",
       "      <td>12</td>\n",
       "      <td>1901.47</td>\n",
       "    </tr>\n",
       "    <tr>\n",
       "      <th>1</th>\n",
       "      <td>1001</td>\n",
       "      <td>8</td>\n",
       "      <td>6919.15</td>\n",
       "    </tr>\n",
       "    <tr>\n",
       "      <th>2</th>\n",
       "      <td>1001</td>\n",
       "      <td>9</td>\n",
       "      <td>13314.82</td>\n",
       "    </tr>\n",
       "    <tr>\n",
       "      <th>3</th>\n",
       "      <td>1001</td>\n",
       "      <td>10</td>\n",
       "      <td>22330.49</td>\n",
       "    </tr>\n",
       "    <tr>\n",
       "      <th>4</th>\n",
       "      <td>1001</td>\n",
       "      <td>11</td>\n",
       "      <td>18504.30</td>\n",
       "    </tr>\n",
       "    <tr>\n",
       "      <th>...</th>\n",
       "      <td>...</td>\n",
       "      <td>...</td>\n",
       "      <td>...</td>\n",
       "    </tr>\n",
       "    <tr>\n",
       "      <th>2272</th>\n",
       "      <td>1498</td>\n",
       "      <td>12</td>\n",
       "      <td>23137.69</td>\n",
       "    </tr>\n",
       "    <tr>\n",
       "      <th>2273</th>\n",
       "      <td>1499</td>\n",
       "      <td>9</td>\n",
       "      <td>12984.76</td>\n",
       "    </tr>\n",
       "    <tr>\n",
       "      <th>2274</th>\n",
       "      <td>1499</td>\n",
       "      <td>10</td>\n",
       "      <td>19492.43</td>\n",
       "    </tr>\n",
       "    <tr>\n",
       "      <th>2275</th>\n",
       "      <td>1499</td>\n",
       "      <td>11</td>\n",
       "      <td>16813.83</td>\n",
       "    </tr>\n",
       "    <tr>\n",
       "      <th>2276</th>\n",
       "      <td>1499</td>\n",
       "      <td>12</td>\n",
       "      <td>22059.21</td>\n",
       "    </tr>\n",
       "  </tbody>\n",
       "</table>\n",
       "<p>2277 rows × 3 columns</p>\n",
       "</div>"
      ],
      "text/plain": [
       "      user_id  mes  datos_usados\n",
       "0        1000   12       1901.47\n",
       "1        1001    8       6919.15\n",
       "2        1001    9      13314.82\n",
       "3        1001   10      22330.49\n",
       "4        1001   11      18504.30\n",
       "...       ...  ...           ...\n",
       "2272     1498   12      23137.69\n",
       "2273     1499    9      12984.76\n",
       "2274     1499   10      19492.43\n",
       "2275     1499   11      16813.83\n",
       "2276     1499   12      22059.21\n",
       "\n",
       "[2277 rows x 3 columns]"
      ]
     },
     "execution_count": 63,
     "metadata": {},
     "output_type": "execute_result"
    }
   ],
   "source": [
    "internet_analytics"
   ]
  },
  {
   "cell_type": "code",
   "execution_count": 64,
   "metadata": {},
   "outputs": [],
   "source": [
    "def redondeo_datos(mb): \n",
    "    redondeo = math.ceil (mb/1024)\n",
    "    return redondeo"
   ]
  },
  {
   "cell_type": "code",
   "execution_count": 65,
   "metadata": {},
   "outputs": [],
   "source": [
    "internet_analytics ['datos_usados_gb'] = internet_analytics['datos_usados'].apply(redondeo_datos)"
   ]
  },
  {
   "cell_type": "code",
   "execution_count": 66,
   "metadata": {},
   "outputs": [
    {
     "data": {
      "text/html": [
       "<div>\n",
       "<style scoped>\n",
       "    .dataframe tbody tr th:only-of-type {\n",
       "        vertical-align: middle;\n",
       "    }\n",
       "\n",
       "    .dataframe tbody tr th {\n",
       "        vertical-align: top;\n",
       "    }\n",
       "\n",
       "    .dataframe thead th {\n",
       "        text-align: right;\n",
       "    }\n",
       "</style>\n",
       "<table border=\"1\" class=\"dataframe\">\n",
       "  <thead>\n",
       "    <tr style=\"text-align: right;\">\n",
       "      <th></th>\n",
       "      <th>user_id</th>\n",
       "      <th>mes</th>\n",
       "      <th>datos_usados</th>\n",
       "      <th>datos_usados_gb</th>\n",
       "    </tr>\n",
       "  </thead>\n",
       "  <tbody>\n",
       "    <tr>\n",
       "      <th>0</th>\n",
       "      <td>1000</td>\n",
       "      <td>12</td>\n",
       "      <td>1901.47</td>\n",
       "      <td>2</td>\n",
       "    </tr>\n",
       "    <tr>\n",
       "      <th>1</th>\n",
       "      <td>1001</td>\n",
       "      <td>8</td>\n",
       "      <td>6919.15</td>\n",
       "      <td>7</td>\n",
       "    </tr>\n",
       "    <tr>\n",
       "      <th>2</th>\n",
       "      <td>1001</td>\n",
       "      <td>9</td>\n",
       "      <td>13314.82</td>\n",
       "      <td>14</td>\n",
       "    </tr>\n",
       "    <tr>\n",
       "      <th>3</th>\n",
       "      <td>1001</td>\n",
       "      <td>10</td>\n",
       "      <td>22330.49</td>\n",
       "      <td>22</td>\n",
       "    </tr>\n",
       "    <tr>\n",
       "      <th>4</th>\n",
       "      <td>1001</td>\n",
       "      <td>11</td>\n",
       "      <td>18504.30</td>\n",
       "      <td>19</td>\n",
       "    </tr>\n",
       "    <tr>\n",
       "      <th>...</th>\n",
       "      <td>...</td>\n",
       "      <td>...</td>\n",
       "      <td>...</td>\n",
       "      <td>...</td>\n",
       "    </tr>\n",
       "    <tr>\n",
       "      <th>2272</th>\n",
       "      <td>1498</td>\n",
       "      <td>12</td>\n",
       "      <td>23137.69</td>\n",
       "      <td>23</td>\n",
       "    </tr>\n",
       "    <tr>\n",
       "      <th>2273</th>\n",
       "      <td>1499</td>\n",
       "      <td>9</td>\n",
       "      <td>12984.76</td>\n",
       "      <td>13</td>\n",
       "    </tr>\n",
       "    <tr>\n",
       "      <th>2274</th>\n",
       "      <td>1499</td>\n",
       "      <td>10</td>\n",
       "      <td>19492.43</td>\n",
       "      <td>20</td>\n",
       "    </tr>\n",
       "    <tr>\n",
       "      <th>2275</th>\n",
       "      <td>1499</td>\n",
       "      <td>11</td>\n",
       "      <td>16813.83</td>\n",
       "      <td>17</td>\n",
       "    </tr>\n",
       "    <tr>\n",
       "      <th>2276</th>\n",
       "      <td>1499</td>\n",
       "      <td>12</td>\n",
       "      <td>22059.21</td>\n",
       "      <td>22</td>\n",
       "    </tr>\n",
       "  </tbody>\n",
       "</table>\n",
       "<p>2277 rows × 4 columns</p>\n",
       "</div>"
      ],
      "text/plain": [
       "      user_id  mes  datos_usados  datos_usados_gb\n",
       "0        1000   12       1901.47                2\n",
       "1        1001    8       6919.15                7\n",
       "2        1001    9      13314.82               14\n",
       "3        1001   10      22330.49               22\n",
       "4        1001   11      18504.30               19\n",
       "...       ...  ...           ...              ...\n",
       "2272     1498   12      23137.69               23\n",
       "2273     1499    9      12984.76               13\n",
       "2274     1499   10      19492.43               20\n",
       "2275     1499   11      16813.83               17\n",
       "2276     1499   12      22059.21               22\n",
       "\n",
       "[2277 rows x 4 columns]"
      ]
     },
     "execution_count": 66,
     "metadata": {},
     "output_type": "execute_result"
    }
   ],
   "source": [
    "internet_analytics"
   ]
  },
  {
   "cell_type": "markdown",
   "metadata": {
    "id": "VDfYXnj80q1H"
   },
   "source": [
    "[Junta los datos agregados en un DataFrame para que haya un registro que represente lo que consumió un usuario único en un mes determinado.]"
   ]
  },
  {
   "cell_type": "code",
   "execution_count": 67,
   "metadata": {},
   "outputs": [
    {
     "data": {
      "text/html": [
       "<div>\n",
       "<style scoped>\n",
       "    .dataframe tbody tr th:only-of-type {\n",
       "        vertical-align: middle;\n",
       "    }\n",
       "\n",
       "    .dataframe tbody tr th {\n",
       "        vertical-align: top;\n",
       "    }\n",
       "\n",
       "    .dataframe thead th {\n",
       "        text-align: right;\n",
       "    }\n",
       "</style>\n",
       "<table border=\"1\" class=\"dataframe\">\n",
       "  <thead>\n",
       "    <tr style=\"text-align: right;\">\n",
       "      <th></th>\n",
       "      <th>user_id</th>\n",
       "      <th>mes</th>\n",
       "      <th>minutos usados</th>\n",
       "      <th>llamadas hechas</th>\n",
       "    </tr>\n",
       "  </thead>\n",
       "  <tbody>\n",
       "    <tr>\n",
       "      <th>0</th>\n",
       "      <td>1000</td>\n",
       "      <td>12</td>\n",
       "      <td>124</td>\n",
       "      <td>16</td>\n",
       "    </tr>\n",
       "    <tr>\n",
       "      <th>1</th>\n",
       "      <td>1001</td>\n",
       "      <td>8</td>\n",
       "      <td>182</td>\n",
       "      <td>27</td>\n",
       "    </tr>\n",
       "    <tr>\n",
       "      <th>2</th>\n",
       "      <td>1001</td>\n",
       "      <td>9</td>\n",
       "      <td>315</td>\n",
       "      <td>49</td>\n",
       "    </tr>\n",
       "    <tr>\n",
       "      <th>3</th>\n",
       "      <td>1001</td>\n",
       "      <td>10</td>\n",
       "      <td>393</td>\n",
       "      <td>65</td>\n",
       "    </tr>\n",
       "    <tr>\n",
       "      <th>4</th>\n",
       "      <td>1001</td>\n",
       "      <td>11</td>\n",
       "      <td>426</td>\n",
       "      <td>64</td>\n",
       "    </tr>\n",
       "    <tr>\n",
       "      <th>...</th>\n",
       "      <td>...</td>\n",
       "      <td>...</td>\n",
       "      <td>...</td>\n",
       "      <td>...</td>\n",
       "    </tr>\n",
       "    <tr>\n",
       "      <th>2253</th>\n",
       "      <td>1498</td>\n",
       "      <td>12</td>\n",
       "      <td>339</td>\n",
       "      <td>39</td>\n",
       "    </tr>\n",
       "    <tr>\n",
       "      <th>2254</th>\n",
       "      <td>1499</td>\n",
       "      <td>9</td>\n",
       "      <td>346</td>\n",
       "      <td>41</td>\n",
       "    </tr>\n",
       "    <tr>\n",
       "      <th>2255</th>\n",
       "      <td>1499</td>\n",
       "      <td>10</td>\n",
       "      <td>385</td>\n",
       "      <td>53</td>\n",
       "    </tr>\n",
       "    <tr>\n",
       "      <th>2256</th>\n",
       "      <td>1499</td>\n",
       "      <td>11</td>\n",
       "      <td>308</td>\n",
       "      <td>45</td>\n",
       "    </tr>\n",
       "    <tr>\n",
       "      <th>2257</th>\n",
       "      <td>1499</td>\n",
       "      <td>12</td>\n",
       "      <td>496</td>\n",
       "      <td>65</td>\n",
       "    </tr>\n",
       "  </tbody>\n",
       "</table>\n",
       "<p>2258 rows × 4 columns</p>\n",
       "</div>"
      ],
      "text/plain": [
       "      user_id  mes  minutos usados  llamadas hechas\n",
       "0        1000   12             124               16\n",
       "1        1001    8             182               27\n",
       "2        1001    9             315               49\n",
       "3        1001   10             393               65\n",
       "4        1001   11             426               64\n",
       "...       ...  ...             ...              ...\n",
       "2253     1498   12             339               39\n",
       "2254     1499    9             346               41\n",
       "2255     1499   10             385               53\n",
       "2256     1499   11             308               45\n",
       "2257     1499   12             496               65\n",
       "\n",
       "[2258 rows x 4 columns]"
      ]
     },
     "execution_count": 67,
     "metadata": {},
     "output_type": "execute_result"
    }
   ],
   "source": [
    "calls_analytics"
   ]
  },
  {
   "cell_type": "code",
   "execution_count": 68,
   "metadata": {},
   "outputs": [
    {
     "data": {
      "text/html": [
       "<div>\n",
       "<style scoped>\n",
       "    .dataframe tbody tr th:only-of-type {\n",
       "        vertical-align: middle;\n",
       "    }\n",
       "\n",
       "    .dataframe tbody tr th {\n",
       "        vertical-align: top;\n",
       "    }\n",
       "\n",
       "    .dataframe thead th {\n",
       "        text-align: right;\n",
       "    }\n",
       "</style>\n",
       "<table border=\"1\" class=\"dataframe\">\n",
       "  <thead>\n",
       "    <tr style=\"text-align: right;\">\n",
       "      <th></th>\n",
       "      <th>user_id</th>\n",
       "      <th>mes</th>\n",
       "      <th>cantidad_de_mensajes</th>\n",
       "    </tr>\n",
       "  </thead>\n",
       "  <tbody>\n",
       "    <tr>\n",
       "      <th>0</th>\n",
       "      <td>1000</td>\n",
       "      <td>12</td>\n",
       "      <td>11</td>\n",
       "    </tr>\n",
       "    <tr>\n",
       "      <th>1</th>\n",
       "      <td>1001</td>\n",
       "      <td>8</td>\n",
       "      <td>30</td>\n",
       "    </tr>\n",
       "    <tr>\n",
       "      <th>2</th>\n",
       "      <td>1001</td>\n",
       "      <td>9</td>\n",
       "      <td>44</td>\n",
       "    </tr>\n",
       "    <tr>\n",
       "      <th>3</th>\n",
       "      <td>1001</td>\n",
       "      <td>10</td>\n",
       "      <td>53</td>\n",
       "    </tr>\n",
       "    <tr>\n",
       "      <th>4</th>\n",
       "      <td>1001</td>\n",
       "      <td>11</td>\n",
       "      <td>36</td>\n",
       "    </tr>\n",
       "    <tr>\n",
       "      <th>...</th>\n",
       "      <td>...</td>\n",
       "      <td>...</td>\n",
       "      <td>...</td>\n",
       "    </tr>\n",
       "    <tr>\n",
       "      <th>1801</th>\n",
       "      <td>1496</td>\n",
       "      <td>9</td>\n",
       "      <td>21</td>\n",
       "    </tr>\n",
       "    <tr>\n",
       "      <th>1802</th>\n",
       "      <td>1496</td>\n",
       "      <td>10</td>\n",
       "      <td>18</td>\n",
       "    </tr>\n",
       "    <tr>\n",
       "      <th>1803</th>\n",
       "      <td>1496</td>\n",
       "      <td>11</td>\n",
       "      <td>13</td>\n",
       "    </tr>\n",
       "    <tr>\n",
       "      <th>1804</th>\n",
       "      <td>1496</td>\n",
       "      <td>12</td>\n",
       "      <td>11</td>\n",
       "    </tr>\n",
       "    <tr>\n",
       "      <th>1805</th>\n",
       "      <td>1497</td>\n",
       "      <td>12</td>\n",
       "      <td>50</td>\n",
       "    </tr>\n",
       "  </tbody>\n",
       "</table>\n",
       "<p>1806 rows × 3 columns</p>\n",
       "</div>"
      ],
      "text/plain": [
       "      user_id  mes  cantidad_de_mensajes\n",
       "0        1000   12                    11\n",
       "1        1001    8                    30\n",
       "2        1001    9                    44\n",
       "3        1001   10                    53\n",
       "4        1001   11                    36\n",
       "...       ...  ...                   ...\n",
       "1801     1496    9                    21\n",
       "1802     1496   10                    18\n",
       "1803     1496   11                    13\n",
       "1804     1496   12                    11\n",
       "1805     1497   12                    50\n",
       "\n",
       "[1806 rows x 3 columns]"
      ]
     },
     "execution_count": 68,
     "metadata": {},
     "output_type": "execute_result"
    }
   ],
   "source": [
    "messages_analytics"
   ]
  },
  {
   "cell_type": "code",
   "execution_count": 69,
   "metadata": {
    "id": "FW99ykyf0q1H"
   },
   "outputs": [],
   "source": [
    "calls_messages = calls_analytics.merge(messages_analytics, on= ['user_id','mes'], how ='outer')# Fusiona los datos de llamadas, minutos, mensajes e Internet con base en user_id y month\n",
    "\n"
   ]
  },
  {
   "cell_type": "code",
   "execution_count": 70,
   "metadata": {},
   "outputs": [
    {
     "data": {
      "text/html": [
       "<div>\n",
       "<style scoped>\n",
       "    .dataframe tbody tr th:only-of-type {\n",
       "        vertical-align: middle;\n",
       "    }\n",
       "\n",
       "    .dataframe tbody tr th {\n",
       "        vertical-align: top;\n",
       "    }\n",
       "\n",
       "    .dataframe thead th {\n",
       "        text-align: right;\n",
       "    }\n",
       "</style>\n",
       "<table border=\"1\" class=\"dataframe\">\n",
       "  <thead>\n",
       "    <tr style=\"text-align: right;\">\n",
       "      <th></th>\n",
       "      <th>user_id</th>\n",
       "      <th>mes</th>\n",
       "      <th>minutos usados</th>\n",
       "      <th>llamadas hechas</th>\n",
       "      <th>cantidad_de_mensajes</th>\n",
       "    </tr>\n",
       "  </thead>\n",
       "  <tbody>\n",
       "    <tr>\n",
       "      <th>0</th>\n",
       "      <td>1000</td>\n",
       "      <td>12</td>\n",
       "      <td>124.0</td>\n",
       "      <td>16.0</td>\n",
       "      <td>11.0</td>\n",
       "    </tr>\n",
       "    <tr>\n",
       "      <th>1</th>\n",
       "      <td>1001</td>\n",
       "      <td>8</td>\n",
       "      <td>182.0</td>\n",
       "      <td>27.0</td>\n",
       "      <td>30.0</td>\n",
       "    </tr>\n",
       "    <tr>\n",
       "      <th>2</th>\n",
       "      <td>1001</td>\n",
       "      <td>9</td>\n",
       "      <td>315.0</td>\n",
       "      <td>49.0</td>\n",
       "      <td>44.0</td>\n",
       "    </tr>\n",
       "    <tr>\n",
       "      <th>3</th>\n",
       "      <td>1001</td>\n",
       "      <td>10</td>\n",
       "      <td>393.0</td>\n",
       "      <td>65.0</td>\n",
       "      <td>53.0</td>\n",
       "    </tr>\n",
       "    <tr>\n",
       "      <th>4</th>\n",
       "      <td>1001</td>\n",
       "      <td>11</td>\n",
       "      <td>426.0</td>\n",
       "      <td>64.0</td>\n",
       "      <td>36.0</td>\n",
       "    </tr>\n",
       "    <tr>\n",
       "      <th>...</th>\n",
       "      <td>...</td>\n",
       "      <td>...</td>\n",
       "      <td>...</td>\n",
       "      <td>...</td>\n",
       "      <td>...</td>\n",
       "    </tr>\n",
       "    <tr>\n",
       "      <th>2286</th>\n",
       "      <td>1349</td>\n",
       "      <td>10</td>\n",
       "      <td>NaN</td>\n",
       "      <td>NaN</td>\n",
       "      <td>76.0</td>\n",
       "    </tr>\n",
       "    <tr>\n",
       "      <th>2287</th>\n",
       "      <td>1349</td>\n",
       "      <td>11</td>\n",
       "      <td>NaN</td>\n",
       "      <td>NaN</td>\n",
       "      <td>72.0</td>\n",
       "    </tr>\n",
       "    <tr>\n",
       "      <th>2288</th>\n",
       "      <td>1349</td>\n",
       "      <td>12</td>\n",
       "      <td>NaN</td>\n",
       "      <td>NaN</td>\n",
       "      <td>61.0</td>\n",
       "    </tr>\n",
       "    <tr>\n",
       "      <th>2289</th>\n",
       "      <td>1361</td>\n",
       "      <td>5</td>\n",
       "      <td>NaN</td>\n",
       "      <td>NaN</td>\n",
       "      <td>2.0</td>\n",
       "    </tr>\n",
       "    <tr>\n",
       "      <th>2290</th>\n",
       "      <td>1482</td>\n",
       "      <td>10</td>\n",
       "      <td>NaN</td>\n",
       "      <td>NaN</td>\n",
       "      <td>2.0</td>\n",
       "    </tr>\n",
       "  </tbody>\n",
       "</table>\n",
       "<p>2291 rows × 5 columns</p>\n",
       "</div>"
      ],
      "text/plain": [
       "      user_id  mes  minutos usados  llamadas hechas  cantidad_de_mensajes\n",
       "0        1000   12           124.0             16.0                  11.0\n",
       "1        1001    8           182.0             27.0                  30.0\n",
       "2        1001    9           315.0             49.0                  44.0\n",
       "3        1001   10           393.0             65.0                  53.0\n",
       "4        1001   11           426.0             64.0                  36.0\n",
       "...       ...  ...             ...              ...                   ...\n",
       "2286     1349   10             NaN              NaN                  76.0\n",
       "2287     1349   11             NaN              NaN                  72.0\n",
       "2288     1349   12             NaN              NaN                  61.0\n",
       "2289     1361    5             NaN              NaN                   2.0\n",
       "2290     1482   10             NaN              NaN                   2.0\n",
       "\n",
       "[2291 rows x 5 columns]"
      ]
     },
     "execution_count": 70,
     "metadata": {},
     "output_type": "execute_result"
    }
   ],
   "source": [
    "calls_messages"
   ]
  },
  {
   "cell_type": "code",
   "execution_count": 71,
   "metadata": {},
   "outputs": [],
   "source": [
    "consumo = calls_messages.merge(internet_analytics, on= ['user_id','mes'], how ='outer')"
   ]
  },
  {
   "cell_type": "code",
   "execution_count": 72,
   "metadata": {},
   "outputs": [
    {
     "data": {
      "text/html": [
       "<div>\n",
       "<style scoped>\n",
       "    .dataframe tbody tr th:only-of-type {\n",
       "        vertical-align: middle;\n",
       "    }\n",
       "\n",
       "    .dataframe tbody tr th {\n",
       "        vertical-align: top;\n",
       "    }\n",
       "\n",
       "    .dataframe thead th {\n",
       "        text-align: right;\n",
       "    }\n",
       "</style>\n",
       "<table border=\"1\" class=\"dataframe\">\n",
       "  <thead>\n",
       "    <tr style=\"text-align: right;\">\n",
       "      <th></th>\n",
       "      <th>user_id</th>\n",
       "      <th>mes</th>\n",
       "      <th>minutos usados</th>\n",
       "      <th>llamadas hechas</th>\n",
       "      <th>cantidad_de_mensajes</th>\n",
       "      <th>datos_usados</th>\n",
       "      <th>datos_usados_gb</th>\n",
       "    </tr>\n",
       "  </thead>\n",
       "  <tbody>\n",
       "    <tr>\n",
       "      <th>0</th>\n",
       "      <td>1000</td>\n",
       "      <td>12</td>\n",
       "      <td>124.0</td>\n",
       "      <td>16.0</td>\n",
       "      <td>11.0</td>\n",
       "      <td>1901.47</td>\n",
       "      <td>2.0</td>\n",
       "    </tr>\n",
       "    <tr>\n",
       "      <th>1</th>\n",
       "      <td>1001</td>\n",
       "      <td>8</td>\n",
       "      <td>182.0</td>\n",
       "      <td>27.0</td>\n",
       "      <td>30.0</td>\n",
       "      <td>6919.15</td>\n",
       "      <td>7.0</td>\n",
       "    </tr>\n",
       "    <tr>\n",
       "      <th>2</th>\n",
       "      <td>1001</td>\n",
       "      <td>9</td>\n",
       "      <td>315.0</td>\n",
       "      <td>49.0</td>\n",
       "      <td>44.0</td>\n",
       "      <td>13314.82</td>\n",
       "      <td>14.0</td>\n",
       "    </tr>\n",
       "    <tr>\n",
       "      <th>3</th>\n",
       "      <td>1001</td>\n",
       "      <td>10</td>\n",
       "      <td>393.0</td>\n",
       "      <td>65.0</td>\n",
       "      <td>53.0</td>\n",
       "      <td>22330.49</td>\n",
       "      <td>22.0</td>\n",
       "    </tr>\n",
       "    <tr>\n",
       "      <th>4</th>\n",
       "      <td>1001</td>\n",
       "      <td>11</td>\n",
       "      <td>426.0</td>\n",
       "      <td>64.0</td>\n",
       "      <td>36.0</td>\n",
       "      <td>18504.30</td>\n",
       "      <td>19.0</td>\n",
       "    </tr>\n",
       "    <tr>\n",
       "      <th>...</th>\n",
       "      <td>...</td>\n",
       "      <td>...</td>\n",
       "      <td>...</td>\n",
       "      <td>...</td>\n",
       "      <td>...</td>\n",
       "      <td>...</td>\n",
       "      <td>...</td>\n",
       "    </tr>\n",
       "    <tr>\n",
       "      <th>2288</th>\n",
       "      <td>1349</td>\n",
       "      <td>12</td>\n",
       "      <td>NaN</td>\n",
       "      <td>NaN</td>\n",
       "      <td>61.0</td>\n",
       "      <td>13039.91</td>\n",
       "      <td>13.0</td>\n",
       "    </tr>\n",
       "    <tr>\n",
       "      <th>2289</th>\n",
       "      <td>1361</td>\n",
       "      <td>5</td>\n",
       "      <td>NaN</td>\n",
       "      <td>NaN</td>\n",
       "      <td>2.0</td>\n",
       "      <td>1519.69</td>\n",
       "      <td>2.0</td>\n",
       "    </tr>\n",
       "    <tr>\n",
       "      <th>2290</th>\n",
       "      <td>1482</td>\n",
       "      <td>10</td>\n",
       "      <td>NaN</td>\n",
       "      <td>NaN</td>\n",
       "      <td>2.0</td>\n",
       "      <td>NaN</td>\n",
       "      <td>NaN</td>\n",
       "    </tr>\n",
       "    <tr>\n",
       "      <th>2291</th>\n",
       "      <td>1108</td>\n",
       "      <td>12</td>\n",
       "      <td>NaN</td>\n",
       "      <td>NaN</td>\n",
       "      <td>NaN</td>\n",
       "      <td>233.17</td>\n",
       "      <td>1.0</td>\n",
       "    </tr>\n",
       "    <tr>\n",
       "      <th>2292</th>\n",
       "      <td>1311</td>\n",
       "      <td>6</td>\n",
       "      <td>NaN</td>\n",
       "      <td>NaN</td>\n",
       "      <td>NaN</td>\n",
       "      <td>1498.83</td>\n",
       "      <td>2.0</td>\n",
       "    </tr>\n",
       "  </tbody>\n",
       "</table>\n",
       "<p>2293 rows × 7 columns</p>\n",
       "</div>"
      ],
      "text/plain": [
       "      user_id  mes  minutos usados  llamadas hechas  cantidad_de_mensajes  \\\n",
       "0        1000   12           124.0             16.0                  11.0   \n",
       "1        1001    8           182.0             27.0                  30.0   \n",
       "2        1001    9           315.0             49.0                  44.0   \n",
       "3        1001   10           393.0             65.0                  53.0   \n",
       "4        1001   11           426.0             64.0                  36.0   \n",
       "...       ...  ...             ...              ...                   ...   \n",
       "2288     1349   12             NaN              NaN                  61.0   \n",
       "2289     1361    5             NaN              NaN                   2.0   \n",
       "2290     1482   10             NaN              NaN                   2.0   \n",
       "2291     1108   12             NaN              NaN                   NaN   \n",
       "2292     1311    6             NaN              NaN                   NaN   \n",
       "\n",
       "      datos_usados  datos_usados_gb  \n",
       "0          1901.47              2.0  \n",
       "1          6919.15              7.0  \n",
       "2         13314.82             14.0  \n",
       "3         22330.49             22.0  \n",
       "4         18504.30             19.0  \n",
       "...            ...              ...  \n",
       "2288      13039.91             13.0  \n",
       "2289       1519.69              2.0  \n",
       "2290           NaN              NaN  \n",
       "2291        233.17              1.0  \n",
       "2292       1498.83              2.0  \n",
       "\n",
       "[2293 rows x 7 columns]"
      ]
     },
     "execution_count": 72,
     "metadata": {},
     "output_type": "execute_result"
    }
   ],
   "source": [
    "consumo"
   ]
  },
  {
   "cell_type": "code",
   "execution_count": 73,
   "metadata": {
    "id": "0dNOXHag0q1H"
   },
   "outputs": [
    {
     "data": {
      "text/html": [
       "<div>\n",
       "<style scoped>\n",
       "    .dataframe tbody tr th:only-of-type {\n",
       "        vertical-align: middle;\n",
       "    }\n",
       "\n",
       "    .dataframe tbody tr th {\n",
       "        vertical-align: top;\n",
       "    }\n",
       "\n",
       "    .dataframe thead th {\n",
       "        text-align: right;\n",
       "    }\n",
       "</style>\n",
       "<table border=\"1\" class=\"dataframe\">\n",
       "  <thead>\n",
       "    <tr style=\"text-align: right;\">\n",
       "      <th></th>\n",
       "      <th>messages_included</th>\n",
       "      <th>mb_per_month_included</th>\n",
       "      <th>minutes_included</th>\n",
       "      <th>usd_monthly_pay</th>\n",
       "      <th>usd_per_gb</th>\n",
       "      <th>usd_per_message</th>\n",
       "      <th>usd_per_minute</th>\n",
       "      <th>plan_name</th>\n",
       "    </tr>\n",
       "  </thead>\n",
       "  <tbody>\n",
       "    <tr>\n",
       "      <th>0</th>\n",
       "      <td>50</td>\n",
       "      <td>15360</td>\n",
       "      <td>500</td>\n",
       "      <td>20</td>\n",
       "      <td>10</td>\n",
       "      <td>0.03</td>\n",
       "      <td>0.03</td>\n",
       "      <td>surf</td>\n",
       "    </tr>\n",
       "    <tr>\n",
       "      <th>1</th>\n",
       "      <td>1000</td>\n",
       "      <td>30720</td>\n",
       "      <td>3000</td>\n",
       "      <td>70</td>\n",
       "      <td>7</td>\n",
       "      <td>0.01</td>\n",
       "      <td>0.01</td>\n",
       "      <td>ultimate</td>\n",
       "    </tr>\n",
       "  </tbody>\n",
       "</table>\n",
       "</div>"
      ],
      "text/plain": [
       "   messages_included  mb_per_month_included  minutes_included  \\\n",
       "0                 50                  15360               500   \n",
       "1               1000                  30720              3000   \n",
       "\n",
       "   usd_monthly_pay  usd_per_gb  usd_per_message  usd_per_minute plan_name  \n",
       "0               20          10             0.03            0.03      surf  \n",
       "1               70           7             0.01            0.01  ultimate  "
      ]
     },
     "execution_count": 73,
     "metadata": {},
     "output_type": "execute_result"
    }
   ],
   "source": [
    "plans_df# Añade la información de la tarifa\n",
    "\n"
   ]
  },
  {
   "cell_type": "markdown",
   "metadata": {
    "id": "1IwGo4wg0q1I"
   },
   "source": [
    "[Calcula los ingresos mensuales por usuario (resta el límite del paquete gratuito del número total de llamadas, mensajes de texto y datos; multiplica el resultado por el valor del plan de llamadas; añade la tarifa mensual en función del plan de llamadas). Nota: Dadas las condiciones del plan, ¡esto podría no ser tan trivial como un par de líneas! Así que no pasa nada si dedicas algo de tiempo a ello.]"
   ]
  },
  {
   "cell_type": "code",
   "execution_count": 74,
   "metadata": {
    "id": "5FGCf_c60q1I"
   },
   "outputs": [],
   "source": [
    "plan_analytics = users_df[['user_id', 'plan','city']]# Calcula el ingreso mensual para cada usuario\n",
    "\n"
   ]
  },
  {
   "cell_type": "code",
   "execution_count": 75,
   "metadata": {},
   "outputs": [
    {
     "data": {
      "text/html": [
       "<div>\n",
       "<style scoped>\n",
       "    .dataframe tbody tr th:only-of-type {\n",
       "        vertical-align: middle;\n",
       "    }\n",
       "\n",
       "    .dataframe tbody tr th {\n",
       "        vertical-align: top;\n",
       "    }\n",
       "\n",
       "    .dataframe thead th {\n",
       "        text-align: right;\n",
       "    }\n",
       "</style>\n",
       "<table border=\"1\" class=\"dataframe\">\n",
       "  <thead>\n",
       "    <tr style=\"text-align: right;\">\n",
       "      <th></th>\n",
       "      <th>user_id</th>\n",
       "      <th>plan</th>\n",
       "      <th>city</th>\n",
       "    </tr>\n",
       "  </thead>\n",
       "  <tbody>\n",
       "    <tr>\n",
       "      <th>0</th>\n",
       "      <td>1000</td>\n",
       "      <td>ultimate</td>\n",
       "      <td>Atlanta-Sandy Springs-Roswell, GA MSA</td>\n",
       "    </tr>\n",
       "    <tr>\n",
       "      <th>1</th>\n",
       "      <td>1001</td>\n",
       "      <td>surf</td>\n",
       "      <td>Seattle-Tacoma-Bellevue, WA MSA</td>\n",
       "    </tr>\n",
       "    <tr>\n",
       "      <th>2</th>\n",
       "      <td>1002</td>\n",
       "      <td>surf</td>\n",
       "      <td>Las Vegas-Henderson-Paradise, NV MSA</td>\n",
       "    </tr>\n",
       "    <tr>\n",
       "      <th>3</th>\n",
       "      <td>1003</td>\n",
       "      <td>surf</td>\n",
       "      <td>Tulsa, OK MSA</td>\n",
       "    </tr>\n",
       "    <tr>\n",
       "      <th>4</th>\n",
       "      <td>1004</td>\n",
       "      <td>surf</td>\n",
       "      <td>Seattle-Tacoma-Bellevue, WA MSA</td>\n",
       "    </tr>\n",
       "    <tr>\n",
       "      <th>...</th>\n",
       "      <td>...</td>\n",
       "      <td>...</td>\n",
       "      <td>...</td>\n",
       "    </tr>\n",
       "    <tr>\n",
       "      <th>495</th>\n",
       "      <td>1495</td>\n",
       "      <td>surf</td>\n",
       "      <td>New York-Newark-Jersey City, NY-NJ-PA MSA</td>\n",
       "    </tr>\n",
       "    <tr>\n",
       "      <th>496</th>\n",
       "      <td>1496</td>\n",
       "      <td>surf</td>\n",
       "      <td>New Orleans-Metairie, LA MSA</td>\n",
       "    </tr>\n",
       "    <tr>\n",
       "      <th>497</th>\n",
       "      <td>1497</td>\n",
       "      <td>ultimate</td>\n",
       "      <td>Los Angeles-Long Beach-Anaheim, CA MSA</td>\n",
       "    </tr>\n",
       "    <tr>\n",
       "      <th>498</th>\n",
       "      <td>1498</td>\n",
       "      <td>surf</td>\n",
       "      <td>New York-Newark-Jersey City, NY-NJ-PA MSA</td>\n",
       "    </tr>\n",
       "    <tr>\n",
       "      <th>499</th>\n",
       "      <td>1499</td>\n",
       "      <td>surf</td>\n",
       "      <td>Orlando-Kissimmee-Sanford, FL MSA</td>\n",
       "    </tr>\n",
       "  </tbody>\n",
       "</table>\n",
       "<p>500 rows × 3 columns</p>\n",
       "</div>"
      ],
      "text/plain": [
       "     user_id      plan                                       city\n",
       "0       1000  ultimate      Atlanta-Sandy Springs-Roswell, GA MSA\n",
       "1       1001      surf            Seattle-Tacoma-Bellevue, WA MSA\n",
       "2       1002      surf       Las Vegas-Henderson-Paradise, NV MSA\n",
       "3       1003      surf                              Tulsa, OK MSA\n",
       "4       1004      surf            Seattle-Tacoma-Bellevue, WA MSA\n",
       "..       ...       ...                                        ...\n",
       "495     1495      surf  New York-Newark-Jersey City, NY-NJ-PA MSA\n",
       "496     1496      surf               New Orleans-Metairie, LA MSA\n",
       "497     1497  ultimate     Los Angeles-Long Beach-Anaheim, CA MSA\n",
       "498     1498      surf  New York-Newark-Jersey City, NY-NJ-PA MSA\n",
       "499     1499      surf          Orlando-Kissimmee-Sanford, FL MSA\n",
       "\n",
       "[500 rows x 3 columns]"
      ]
     },
     "execution_count": 75,
     "metadata": {},
     "output_type": "execute_result"
    }
   ],
   "source": [
    "plan_analytics "
   ]
  },
  {
   "cell_type": "code",
   "execution_count": 76,
   "metadata": {},
   "outputs": [],
   "source": [
    "consumo_planes = consumo.merge(plan_analytics, on =['user_id'], how='outer')"
   ]
  },
  {
   "cell_type": "code",
   "execution_count": 77,
   "metadata": {},
   "outputs": [
    {
     "data": {
      "text/html": [
       "<div>\n",
       "<style scoped>\n",
       "    .dataframe tbody tr th:only-of-type {\n",
       "        vertical-align: middle;\n",
       "    }\n",
       "\n",
       "    .dataframe tbody tr th {\n",
       "        vertical-align: top;\n",
       "    }\n",
       "\n",
       "    .dataframe thead th {\n",
       "        text-align: right;\n",
       "    }\n",
       "</style>\n",
       "<table border=\"1\" class=\"dataframe\">\n",
       "  <thead>\n",
       "    <tr style=\"text-align: right;\">\n",
       "      <th></th>\n",
       "      <th>user_id</th>\n",
       "      <th>mes</th>\n",
       "      <th>minutos usados</th>\n",
       "      <th>llamadas hechas</th>\n",
       "      <th>cantidad_de_mensajes</th>\n",
       "      <th>datos_usados</th>\n",
       "      <th>datos_usados_gb</th>\n",
       "      <th>plan</th>\n",
       "      <th>city</th>\n",
       "    </tr>\n",
       "  </thead>\n",
       "  <tbody>\n",
       "    <tr>\n",
       "      <th>0</th>\n",
       "      <td>1000</td>\n",
       "      <td>12.0</td>\n",
       "      <td>124.0</td>\n",
       "      <td>16.0</td>\n",
       "      <td>11.0</td>\n",
       "      <td>1901.47</td>\n",
       "      <td>2.0</td>\n",
       "      <td>ultimate</td>\n",
       "      <td>Atlanta-Sandy Springs-Roswell, GA MSA</td>\n",
       "    </tr>\n",
       "    <tr>\n",
       "      <th>1</th>\n",
       "      <td>1001</td>\n",
       "      <td>8.0</td>\n",
       "      <td>182.0</td>\n",
       "      <td>27.0</td>\n",
       "      <td>30.0</td>\n",
       "      <td>6919.15</td>\n",
       "      <td>7.0</td>\n",
       "      <td>surf</td>\n",
       "      <td>Seattle-Tacoma-Bellevue, WA MSA</td>\n",
       "    </tr>\n",
       "    <tr>\n",
       "      <th>2</th>\n",
       "      <td>1001</td>\n",
       "      <td>9.0</td>\n",
       "      <td>315.0</td>\n",
       "      <td>49.0</td>\n",
       "      <td>44.0</td>\n",
       "      <td>13314.82</td>\n",
       "      <td>14.0</td>\n",
       "      <td>surf</td>\n",
       "      <td>Seattle-Tacoma-Bellevue, WA MSA</td>\n",
       "    </tr>\n",
       "    <tr>\n",
       "      <th>3</th>\n",
       "      <td>1001</td>\n",
       "      <td>10.0</td>\n",
       "      <td>393.0</td>\n",
       "      <td>65.0</td>\n",
       "      <td>53.0</td>\n",
       "      <td>22330.49</td>\n",
       "      <td>22.0</td>\n",
       "      <td>surf</td>\n",
       "      <td>Seattle-Tacoma-Bellevue, WA MSA</td>\n",
       "    </tr>\n",
       "    <tr>\n",
       "      <th>4</th>\n",
       "      <td>1001</td>\n",
       "      <td>11.0</td>\n",
       "      <td>426.0</td>\n",
       "      <td>64.0</td>\n",
       "      <td>36.0</td>\n",
       "      <td>18504.30</td>\n",
       "      <td>19.0</td>\n",
       "      <td>surf</td>\n",
       "      <td>Seattle-Tacoma-Bellevue, WA MSA</td>\n",
       "    </tr>\n",
       "    <tr>\n",
       "      <th>...</th>\n",
       "      <td>...</td>\n",
       "      <td>...</td>\n",
       "      <td>...</td>\n",
       "      <td>...</td>\n",
       "      <td>...</td>\n",
       "      <td>...</td>\n",
       "      <td>...</td>\n",
       "      <td>...</td>\n",
       "      <td>...</td>\n",
       "    </tr>\n",
       "    <tr>\n",
       "      <th>2298</th>\n",
       "      <td>1307</td>\n",
       "      <td>NaN</td>\n",
       "      <td>NaN</td>\n",
       "      <td>NaN</td>\n",
       "      <td>NaN</td>\n",
       "      <td>NaN</td>\n",
       "      <td>NaN</td>\n",
       "      <td>surf</td>\n",
       "      <td>Boston-Cambridge-Newton, MA-NH MSA</td>\n",
       "    </tr>\n",
       "    <tr>\n",
       "      <th>2299</th>\n",
       "      <td>1319</td>\n",
       "      <td>NaN</td>\n",
       "      <td>NaN</td>\n",
       "      <td>NaN</td>\n",
       "      <td>NaN</td>\n",
       "      <td>NaN</td>\n",
       "      <td>NaN</td>\n",
       "      <td>surf</td>\n",
       "      <td>Colorado Springs, CO MSA</td>\n",
       "    </tr>\n",
       "    <tr>\n",
       "      <th>2300</th>\n",
       "      <td>1378</td>\n",
       "      <td>NaN</td>\n",
       "      <td>NaN</td>\n",
       "      <td>NaN</td>\n",
       "      <td>NaN</td>\n",
       "      <td>NaN</td>\n",
       "      <td>NaN</td>\n",
       "      <td>surf</td>\n",
       "      <td>Denver-Aurora-Lakewood, CO MSA</td>\n",
       "    </tr>\n",
       "    <tr>\n",
       "      <th>2301</th>\n",
       "      <td>1463</td>\n",
       "      <td>NaN</td>\n",
       "      <td>NaN</td>\n",
       "      <td>NaN</td>\n",
       "      <td>NaN</td>\n",
       "      <td>NaN</td>\n",
       "      <td>NaN</td>\n",
       "      <td>ultimate</td>\n",
       "      <td>Atlanta-Sandy Springs-Roswell, GA MSA</td>\n",
       "    </tr>\n",
       "    <tr>\n",
       "      <th>2302</th>\n",
       "      <td>1473</td>\n",
       "      <td>NaN</td>\n",
       "      <td>NaN</td>\n",
       "      <td>NaN</td>\n",
       "      <td>NaN</td>\n",
       "      <td>NaN</td>\n",
       "      <td>NaN</td>\n",
       "      <td>surf</td>\n",
       "      <td>Louisville/Jefferson County, KY-IN MSA</td>\n",
       "    </tr>\n",
       "  </tbody>\n",
       "</table>\n",
       "<p>2303 rows × 9 columns</p>\n",
       "</div>"
      ],
      "text/plain": [
       "      user_id   mes  minutos usados  llamadas hechas  cantidad_de_mensajes  \\\n",
       "0        1000  12.0           124.0             16.0                  11.0   \n",
       "1        1001   8.0           182.0             27.0                  30.0   \n",
       "2        1001   9.0           315.0             49.0                  44.0   \n",
       "3        1001  10.0           393.0             65.0                  53.0   \n",
       "4        1001  11.0           426.0             64.0                  36.0   \n",
       "...       ...   ...             ...              ...                   ...   \n",
       "2298     1307   NaN             NaN              NaN                   NaN   \n",
       "2299     1319   NaN             NaN              NaN                   NaN   \n",
       "2300     1378   NaN             NaN              NaN                   NaN   \n",
       "2301     1463   NaN             NaN              NaN                   NaN   \n",
       "2302     1473   NaN             NaN              NaN                   NaN   \n",
       "\n",
       "      datos_usados  datos_usados_gb      plan  \\\n",
       "0          1901.47              2.0  ultimate   \n",
       "1          6919.15              7.0      surf   \n",
       "2         13314.82             14.0      surf   \n",
       "3         22330.49             22.0      surf   \n",
       "4         18504.30             19.0      surf   \n",
       "...            ...              ...       ...   \n",
       "2298           NaN              NaN      surf   \n",
       "2299           NaN              NaN      surf   \n",
       "2300           NaN              NaN      surf   \n",
       "2301           NaN              NaN  ultimate   \n",
       "2302           NaN              NaN      surf   \n",
       "\n",
       "                                        city  \n",
       "0      Atlanta-Sandy Springs-Roswell, GA MSA  \n",
       "1            Seattle-Tacoma-Bellevue, WA MSA  \n",
       "2            Seattle-Tacoma-Bellevue, WA MSA  \n",
       "3            Seattle-Tacoma-Bellevue, WA MSA  \n",
       "4            Seattle-Tacoma-Bellevue, WA MSA  \n",
       "...                                      ...  \n",
       "2298      Boston-Cambridge-Newton, MA-NH MSA  \n",
       "2299                Colorado Springs, CO MSA  \n",
       "2300          Denver-Aurora-Lakewood, CO MSA  \n",
       "2301   Atlanta-Sandy Springs-Roswell, GA MSA  \n",
       "2302  Louisville/Jefferson County, KY-IN MSA  \n",
       "\n",
       "[2303 rows x 9 columns]"
      ]
     },
     "execution_count": 77,
     "metadata": {},
     "output_type": "execute_result"
    }
   ],
   "source": [
    "consumo_planes "
   ]
  },
  {
   "cell_type": "code",
   "execution_count": 78,
   "metadata": {},
   "outputs": [],
   "source": [
    "def llamadas_por_cobrar(fila): \n",
    "    plan=fila['plan']\n",
    "    minutos_usados = fila['minutos usados']\n",
    "    \n",
    "    cobrables= 0 \n",
    "    \n",
    "    if plan == 'surf': \n",
    "        if minutos_usados > minutos_surf:\n",
    "            cobrables= minutos_usados - minutos_surf\n",
    "            \n",
    "    elif plan == 'ultimate': \n",
    "        if minutos_usados > minutos_ultimate: \n",
    "            cobrables = minutos_usados - minutos_ultimate\n",
    "        \n",
    "        \n",
    "    return cobrables\n",
    "    "
   ]
  },
  {
   "cell_type": "code",
   "execution_count": 79,
   "metadata": {},
   "outputs": [],
   "source": [
    "consumo_planes ['minutos_cobrables'] = consumo_planes.apply(llamadas_por_cobrar,axis = 1)"
   ]
  },
  {
   "cell_type": "code",
   "execution_count": 80,
   "metadata": {},
   "outputs": [],
   "source": [
    "def llamadas_a_cobrar(fila): \n",
    "    plan=fila['plan']\n",
    "    minutos_a_cobrar = fila['minutos_cobrables']\n",
    "    \n",
    "    cobrables= 0 \n",
    "    \n",
    "    if plan == 'surf': \n",
    "        if minutos_a_cobrar > 0:\n",
    "            cobrables= minutos_a_cobrar * costo_llamada_surf\n",
    "            \n",
    "    elif plan == 'ultimate': \n",
    "        if minutos_a_cobrar > 0:\n",
    "            cobrables= minutos_a_cobrar * costo_llamada_ultimate\n",
    "        \n",
    "        \n",
    "    return cobrables"
   ]
  },
  {
   "cell_type": "code",
   "execution_count": 81,
   "metadata": {},
   "outputs": [],
   "source": [
    "consumo_planes ['cargo_extra_minutos'] = consumo_planes.apply(llamadas_a_cobrar,axis = 1)"
   ]
  },
  {
   "cell_type": "code",
   "execution_count": 82,
   "metadata": {},
   "outputs": [
    {
     "data": {
      "text/html": [
       "<div>\n",
       "<style scoped>\n",
       "    .dataframe tbody tr th:only-of-type {\n",
       "        vertical-align: middle;\n",
       "    }\n",
       "\n",
       "    .dataframe tbody tr th {\n",
       "        vertical-align: top;\n",
       "    }\n",
       "\n",
       "    .dataframe thead th {\n",
       "        text-align: right;\n",
       "    }\n",
       "</style>\n",
       "<table border=\"1\" class=\"dataframe\">\n",
       "  <thead>\n",
       "    <tr style=\"text-align: right;\">\n",
       "      <th></th>\n",
       "      <th>user_id</th>\n",
       "      <th>mes</th>\n",
       "      <th>minutos usados</th>\n",
       "      <th>llamadas hechas</th>\n",
       "      <th>cantidad_de_mensajes</th>\n",
       "      <th>datos_usados</th>\n",
       "      <th>datos_usados_gb</th>\n",
       "      <th>plan</th>\n",
       "      <th>city</th>\n",
       "      <th>minutos_cobrables</th>\n",
       "      <th>cargo_extra_minutos</th>\n",
       "    </tr>\n",
       "  </thead>\n",
       "  <tbody>\n",
       "    <tr>\n",
       "      <th>0</th>\n",
       "      <td>1000</td>\n",
       "      <td>12.0</td>\n",
       "      <td>124.0</td>\n",
       "      <td>16.0</td>\n",
       "      <td>11.0</td>\n",
       "      <td>1901.47</td>\n",
       "      <td>2.0</td>\n",
       "      <td>ultimate</td>\n",
       "      <td>Atlanta-Sandy Springs-Roswell, GA MSA</td>\n",
       "      <td>0.0</td>\n",
       "      <td>0.0</td>\n",
       "    </tr>\n",
       "    <tr>\n",
       "      <th>1</th>\n",
       "      <td>1001</td>\n",
       "      <td>8.0</td>\n",
       "      <td>182.0</td>\n",
       "      <td>27.0</td>\n",
       "      <td>30.0</td>\n",
       "      <td>6919.15</td>\n",
       "      <td>7.0</td>\n",
       "      <td>surf</td>\n",
       "      <td>Seattle-Tacoma-Bellevue, WA MSA</td>\n",
       "      <td>0.0</td>\n",
       "      <td>0.0</td>\n",
       "    </tr>\n",
       "    <tr>\n",
       "      <th>2</th>\n",
       "      <td>1001</td>\n",
       "      <td>9.0</td>\n",
       "      <td>315.0</td>\n",
       "      <td>49.0</td>\n",
       "      <td>44.0</td>\n",
       "      <td>13314.82</td>\n",
       "      <td>14.0</td>\n",
       "      <td>surf</td>\n",
       "      <td>Seattle-Tacoma-Bellevue, WA MSA</td>\n",
       "      <td>0.0</td>\n",
       "      <td>0.0</td>\n",
       "    </tr>\n",
       "    <tr>\n",
       "      <th>3</th>\n",
       "      <td>1001</td>\n",
       "      <td>10.0</td>\n",
       "      <td>393.0</td>\n",
       "      <td>65.0</td>\n",
       "      <td>53.0</td>\n",
       "      <td>22330.49</td>\n",
       "      <td>22.0</td>\n",
       "      <td>surf</td>\n",
       "      <td>Seattle-Tacoma-Bellevue, WA MSA</td>\n",
       "      <td>0.0</td>\n",
       "      <td>0.0</td>\n",
       "    </tr>\n",
       "    <tr>\n",
       "      <th>4</th>\n",
       "      <td>1001</td>\n",
       "      <td>11.0</td>\n",
       "      <td>426.0</td>\n",
       "      <td>64.0</td>\n",
       "      <td>36.0</td>\n",
       "      <td>18504.30</td>\n",
       "      <td>19.0</td>\n",
       "      <td>surf</td>\n",
       "      <td>Seattle-Tacoma-Bellevue, WA MSA</td>\n",
       "      <td>0.0</td>\n",
       "      <td>0.0</td>\n",
       "    </tr>\n",
       "    <tr>\n",
       "      <th>...</th>\n",
       "      <td>...</td>\n",
       "      <td>...</td>\n",
       "      <td>...</td>\n",
       "      <td>...</td>\n",
       "      <td>...</td>\n",
       "      <td>...</td>\n",
       "      <td>...</td>\n",
       "      <td>...</td>\n",
       "      <td>...</td>\n",
       "      <td>...</td>\n",
       "      <td>...</td>\n",
       "    </tr>\n",
       "    <tr>\n",
       "      <th>2298</th>\n",
       "      <td>1307</td>\n",
       "      <td>NaN</td>\n",
       "      <td>NaN</td>\n",
       "      <td>NaN</td>\n",
       "      <td>NaN</td>\n",
       "      <td>NaN</td>\n",
       "      <td>NaN</td>\n",
       "      <td>surf</td>\n",
       "      <td>Boston-Cambridge-Newton, MA-NH MSA</td>\n",
       "      <td>0.0</td>\n",
       "      <td>0.0</td>\n",
       "    </tr>\n",
       "    <tr>\n",
       "      <th>2299</th>\n",
       "      <td>1319</td>\n",
       "      <td>NaN</td>\n",
       "      <td>NaN</td>\n",
       "      <td>NaN</td>\n",
       "      <td>NaN</td>\n",
       "      <td>NaN</td>\n",
       "      <td>NaN</td>\n",
       "      <td>surf</td>\n",
       "      <td>Colorado Springs, CO MSA</td>\n",
       "      <td>0.0</td>\n",
       "      <td>0.0</td>\n",
       "    </tr>\n",
       "    <tr>\n",
       "      <th>2300</th>\n",
       "      <td>1378</td>\n",
       "      <td>NaN</td>\n",
       "      <td>NaN</td>\n",
       "      <td>NaN</td>\n",
       "      <td>NaN</td>\n",
       "      <td>NaN</td>\n",
       "      <td>NaN</td>\n",
       "      <td>surf</td>\n",
       "      <td>Denver-Aurora-Lakewood, CO MSA</td>\n",
       "      <td>0.0</td>\n",
       "      <td>0.0</td>\n",
       "    </tr>\n",
       "    <tr>\n",
       "      <th>2301</th>\n",
       "      <td>1463</td>\n",
       "      <td>NaN</td>\n",
       "      <td>NaN</td>\n",
       "      <td>NaN</td>\n",
       "      <td>NaN</td>\n",
       "      <td>NaN</td>\n",
       "      <td>NaN</td>\n",
       "      <td>ultimate</td>\n",
       "      <td>Atlanta-Sandy Springs-Roswell, GA MSA</td>\n",
       "      <td>0.0</td>\n",
       "      <td>0.0</td>\n",
       "    </tr>\n",
       "    <tr>\n",
       "      <th>2302</th>\n",
       "      <td>1473</td>\n",
       "      <td>NaN</td>\n",
       "      <td>NaN</td>\n",
       "      <td>NaN</td>\n",
       "      <td>NaN</td>\n",
       "      <td>NaN</td>\n",
       "      <td>NaN</td>\n",
       "      <td>surf</td>\n",
       "      <td>Louisville/Jefferson County, KY-IN MSA</td>\n",
       "      <td>0.0</td>\n",
       "      <td>0.0</td>\n",
       "    </tr>\n",
       "  </tbody>\n",
       "</table>\n",
       "<p>2303 rows × 11 columns</p>\n",
       "</div>"
      ],
      "text/plain": [
       "      user_id   mes  minutos usados  llamadas hechas  cantidad_de_mensajes  \\\n",
       "0        1000  12.0           124.0             16.0                  11.0   \n",
       "1        1001   8.0           182.0             27.0                  30.0   \n",
       "2        1001   9.0           315.0             49.0                  44.0   \n",
       "3        1001  10.0           393.0             65.0                  53.0   \n",
       "4        1001  11.0           426.0             64.0                  36.0   \n",
       "...       ...   ...             ...              ...                   ...   \n",
       "2298     1307   NaN             NaN              NaN                   NaN   \n",
       "2299     1319   NaN             NaN              NaN                   NaN   \n",
       "2300     1378   NaN             NaN              NaN                   NaN   \n",
       "2301     1463   NaN             NaN              NaN                   NaN   \n",
       "2302     1473   NaN             NaN              NaN                   NaN   \n",
       "\n",
       "      datos_usados  datos_usados_gb      plan  \\\n",
       "0          1901.47              2.0  ultimate   \n",
       "1          6919.15              7.0      surf   \n",
       "2         13314.82             14.0      surf   \n",
       "3         22330.49             22.0      surf   \n",
       "4         18504.30             19.0      surf   \n",
       "...            ...              ...       ...   \n",
       "2298           NaN              NaN      surf   \n",
       "2299           NaN              NaN      surf   \n",
       "2300           NaN              NaN      surf   \n",
       "2301           NaN              NaN  ultimate   \n",
       "2302           NaN              NaN      surf   \n",
       "\n",
       "                                        city  minutos_cobrables  \\\n",
       "0      Atlanta-Sandy Springs-Roswell, GA MSA                0.0   \n",
       "1            Seattle-Tacoma-Bellevue, WA MSA                0.0   \n",
       "2            Seattle-Tacoma-Bellevue, WA MSA                0.0   \n",
       "3            Seattle-Tacoma-Bellevue, WA MSA                0.0   \n",
       "4            Seattle-Tacoma-Bellevue, WA MSA                0.0   \n",
       "...                                      ...                ...   \n",
       "2298      Boston-Cambridge-Newton, MA-NH MSA                0.0   \n",
       "2299                Colorado Springs, CO MSA                0.0   \n",
       "2300          Denver-Aurora-Lakewood, CO MSA                0.0   \n",
       "2301   Atlanta-Sandy Springs-Roswell, GA MSA                0.0   \n",
       "2302  Louisville/Jefferson County, KY-IN MSA                0.0   \n",
       "\n",
       "      cargo_extra_minutos  \n",
       "0                     0.0  \n",
       "1                     0.0  \n",
       "2                     0.0  \n",
       "3                     0.0  \n",
       "4                     0.0  \n",
       "...                   ...  \n",
       "2298                  0.0  \n",
       "2299                  0.0  \n",
       "2300                  0.0  \n",
       "2301                  0.0  \n",
       "2302                  0.0  \n",
       "\n",
       "[2303 rows x 11 columns]"
      ]
     },
     "execution_count": 82,
     "metadata": {},
     "output_type": "execute_result"
    }
   ],
   "source": [
    "consumo_planes"
   ]
  },
  {
   "cell_type": "code",
   "execution_count": 83,
   "metadata": {},
   "outputs": [
    {
     "data": {
      "text/plain": [
       "0.2457663916630482"
      ]
     },
     "execution_count": 83,
     "metadata": {},
     "output_type": "execute_result"
    }
   ],
   "source": [
    "len(consumo_planes.query('minutos_cobrables > 0'))/len(consumo_planes)"
   ]
  },
  {
   "cell_type": "markdown",
   "metadata": {},
   "source": [
    "El 24% de usuarios se les cobrara minutos, ya que han pasado lo otorgado por el plan que tienen."
   ]
  },
  {
   "cell_type": "code",
   "execution_count": 84,
   "metadata": {},
   "outputs": [],
   "source": [
    "def menssages_por_cobrar(fila): \n",
    "    plan=fila['plan']\n",
    "    mensajes_enviados = fila['cantidad_de_mensajes']\n",
    "    \n",
    "    cobrables= 0 \n",
    "    \n",
    "    if plan == 'surf': \n",
    "        if mensajes_enviados > messages_surf:\n",
    "            cobrables= mensajes_enviados - messages_surf\n",
    "            \n",
    "    elif plan == 'ultimate': \n",
    "        if mensajes_enviados > messages_ultimate: \n",
    "            cobrables = mensajes_enviados - messages_ultimate\n",
    "        \n",
    "        \n",
    "    return cobrables\n",
    "    "
   ]
  },
  {
   "cell_type": "code",
   "execution_count": 85,
   "metadata": {},
   "outputs": [],
   "source": [
    "consumo_planes['messages_cobrables']= consumo_planes.apply(menssages_por_cobrar, axis=1) "
   ]
  },
  {
   "cell_type": "code",
   "execution_count": 86,
   "metadata": {},
   "outputs": [],
   "source": [
    "def messages_a_cobrar(fila): \n",
    "    plan=fila['plan']\n",
    "    messages_a_cobrar = fila['messages_cobrables']\n",
    "    \n",
    "    cobrables= 0 \n",
    "    \n",
    "    if plan == 'surf': \n",
    "        if  messages_a_cobrar > 0:\n",
    "            cobrables=  messages_a_cobrar  * costo_message_surf\n",
    "            \n",
    "    elif plan == 'ultimate': \n",
    "        if messages_a_cobrar > 0:\n",
    "            cobrables=  messages_a_cobrar  * costo_message_ultimate\n",
    "        \n",
    "        \n",
    "    return cobrables"
   ]
  },
  {
   "cell_type": "code",
   "execution_count": 87,
   "metadata": {},
   "outputs": [],
   "source": [
    "consumo_planes ['cargo_extra_messages'] = consumo_planes.apply(messages_a_cobrar,axis = 1)"
   ]
  },
  {
   "cell_type": "code",
   "execution_count": 88,
   "metadata": {},
   "outputs": [
    {
     "data": {
      "text/html": [
       "<div>\n",
       "<style scoped>\n",
       "    .dataframe tbody tr th:only-of-type {\n",
       "        vertical-align: middle;\n",
       "    }\n",
       "\n",
       "    .dataframe tbody tr th {\n",
       "        vertical-align: top;\n",
       "    }\n",
       "\n",
       "    .dataframe thead th {\n",
       "        text-align: right;\n",
       "    }\n",
       "</style>\n",
       "<table border=\"1\" class=\"dataframe\">\n",
       "  <thead>\n",
       "    <tr style=\"text-align: right;\">\n",
       "      <th></th>\n",
       "      <th>user_id</th>\n",
       "      <th>mes</th>\n",
       "      <th>minutos usados</th>\n",
       "      <th>llamadas hechas</th>\n",
       "      <th>cantidad_de_mensajes</th>\n",
       "      <th>datos_usados</th>\n",
       "      <th>datos_usados_gb</th>\n",
       "      <th>plan</th>\n",
       "      <th>city</th>\n",
       "      <th>minutos_cobrables</th>\n",
       "      <th>cargo_extra_minutos</th>\n",
       "      <th>messages_cobrables</th>\n",
       "      <th>cargo_extra_messages</th>\n",
       "    </tr>\n",
       "  </thead>\n",
       "  <tbody>\n",
       "    <tr>\n",
       "      <th>0</th>\n",
       "      <td>1000</td>\n",
       "      <td>12.0</td>\n",
       "      <td>124.0</td>\n",
       "      <td>16.0</td>\n",
       "      <td>11.0</td>\n",
       "      <td>1901.47</td>\n",
       "      <td>2.0</td>\n",
       "      <td>ultimate</td>\n",
       "      <td>Atlanta-Sandy Springs-Roswell, GA MSA</td>\n",
       "      <td>0.0</td>\n",
       "      <td>0.0</td>\n",
       "      <td>0.0</td>\n",
       "      <td>0.00</td>\n",
       "    </tr>\n",
       "    <tr>\n",
       "      <th>1</th>\n",
       "      <td>1001</td>\n",
       "      <td>8.0</td>\n",
       "      <td>182.0</td>\n",
       "      <td>27.0</td>\n",
       "      <td>30.0</td>\n",
       "      <td>6919.15</td>\n",
       "      <td>7.0</td>\n",
       "      <td>surf</td>\n",
       "      <td>Seattle-Tacoma-Bellevue, WA MSA</td>\n",
       "      <td>0.0</td>\n",
       "      <td>0.0</td>\n",
       "      <td>0.0</td>\n",
       "      <td>0.00</td>\n",
       "    </tr>\n",
       "    <tr>\n",
       "      <th>2</th>\n",
       "      <td>1001</td>\n",
       "      <td>9.0</td>\n",
       "      <td>315.0</td>\n",
       "      <td>49.0</td>\n",
       "      <td>44.0</td>\n",
       "      <td>13314.82</td>\n",
       "      <td>14.0</td>\n",
       "      <td>surf</td>\n",
       "      <td>Seattle-Tacoma-Bellevue, WA MSA</td>\n",
       "      <td>0.0</td>\n",
       "      <td>0.0</td>\n",
       "      <td>0.0</td>\n",
       "      <td>0.00</td>\n",
       "    </tr>\n",
       "    <tr>\n",
       "      <th>3</th>\n",
       "      <td>1001</td>\n",
       "      <td>10.0</td>\n",
       "      <td>393.0</td>\n",
       "      <td>65.0</td>\n",
       "      <td>53.0</td>\n",
       "      <td>22330.49</td>\n",
       "      <td>22.0</td>\n",
       "      <td>surf</td>\n",
       "      <td>Seattle-Tacoma-Bellevue, WA MSA</td>\n",
       "      <td>0.0</td>\n",
       "      <td>0.0</td>\n",
       "      <td>3.0</td>\n",
       "      <td>0.09</td>\n",
       "    </tr>\n",
       "    <tr>\n",
       "      <th>4</th>\n",
       "      <td>1001</td>\n",
       "      <td>11.0</td>\n",
       "      <td>426.0</td>\n",
       "      <td>64.0</td>\n",
       "      <td>36.0</td>\n",
       "      <td>18504.30</td>\n",
       "      <td>19.0</td>\n",
       "      <td>surf</td>\n",
       "      <td>Seattle-Tacoma-Bellevue, WA MSA</td>\n",
       "      <td>0.0</td>\n",
       "      <td>0.0</td>\n",
       "      <td>0.0</td>\n",
       "      <td>0.00</td>\n",
       "    </tr>\n",
       "    <tr>\n",
       "      <th>...</th>\n",
       "      <td>...</td>\n",
       "      <td>...</td>\n",
       "      <td>...</td>\n",
       "      <td>...</td>\n",
       "      <td>...</td>\n",
       "      <td>...</td>\n",
       "      <td>...</td>\n",
       "      <td>...</td>\n",
       "      <td>...</td>\n",
       "      <td>...</td>\n",
       "      <td>...</td>\n",
       "      <td>...</td>\n",
       "      <td>...</td>\n",
       "    </tr>\n",
       "    <tr>\n",
       "      <th>2298</th>\n",
       "      <td>1307</td>\n",
       "      <td>NaN</td>\n",
       "      <td>NaN</td>\n",
       "      <td>NaN</td>\n",
       "      <td>NaN</td>\n",
       "      <td>NaN</td>\n",
       "      <td>NaN</td>\n",
       "      <td>surf</td>\n",
       "      <td>Boston-Cambridge-Newton, MA-NH MSA</td>\n",
       "      <td>0.0</td>\n",
       "      <td>0.0</td>\n",
       "      <td>0.0</td>\n",
       "      <td>0.00</td>\n",
       "    </tr>\n",
       "    <tr>\n",
       "      <th>2299</th>\n",
       "      <td>1319</td>\n",
       "      <td>NaN</td>\n",
       "      <td>NaN</td>\n",
       "      <td>NaN</td>\n",
       "      <td>NaN</td>\n",
       "      <td>NaN</td>\n",
       "      <td>NaN</td>\n",
       "      <td>surf</td>\n",
       "      <td>Colorado Springs, CO MSA</td>\n",
       "      <td>0.0</td>\n",
       "      <td>0.0</td>\n",
       "      <td>0.0</td>\n",
       "      <td>0.00</td>\n",
       "    </tr>\n",
       "    <tr>\n",
       "      <th>2300</th>\n",
       "      <td>1378</td>\n",
       "      <td>NaN</td>\n",
       "      <td>NaN</td>\n",
       "      <td>NaN</td>\n",
       "      <td>NaN</td>\n",
       "      <td>NaN</td>\n",
       "      <td>NaN</td>\n",
       "      <td>surf</td>\n",
       "      <td>Denver-Aurora-Lakewood, CO MSA</td>\n",
       "      <td>0.0</td>\n",
       "      <td>0.0</td>\n",
       "      <td>0.0</td>\n",
       "      <td>0.00</td>\n",
       "    </tr>\n",
       "    <tr>\n",
       "      <th>2301</th>\n",
       "      <td>1463</td>\n",
       "      <td>NaN</td>\n",
       "      <td>NaN</td>\n",
       "      <td>NaN</td>\n",
       "      <td>NaN</td>\n",
       "      <td>NaN</td>\n",
       "      <td>NaN</td>\n",
       "      <td>ultimate</td>\n",
       "      <td>Atlanta-Sandy Springs-Roswell, GA MSA</td>\n",
       "      <td>0.0</td>\n",
       "      <td>0.0</td>\n",
       "      <td>0.0</td>\n",
       "      <td>0.00</td>\n",
       "    </tr>\n",
       "    <tr>\n",
       "      <th>2302</th>\n",
       "      <td>1473</td>\n",
       "      <td>NaN</td>\n",
       "      <td>NaN</td>\n",
       "      <td>NaN</td>\n",
       "      <td>NaN</td>\n",
       "      <td>NaN</td>\n",
       "      <td>NaN</td>\n",
       "      <td>surf</td>\n",
       "      <td>Louisville/Jefferson County, KY-IN MSA</td>\n",
       "      <td>0.0</td>\n",
       "      <td>0.0</td>\n",
       "      <td>0.0</td>\n",
       "      <td>0.00</td>\n",
       "    </tr>\n",
       "  </tbody>\n",
       "</table>\n",
       "<p>2303 rows × 13 columns</p>\n",
       "</div>"
      ],
      "text/plain": [
       "      user_id   mes  minutos usados  llamadas hechas  cantidad_de_mensajes  \\\n",
       "0        1000  12.0           124.0             16.0                  11.0   \n",
       "1        1001   8.0           182.0             27.0                  30.0   \n",
       "2        1001   9.0           315.0             49.0                  44.0   \n",
       "3        1001  10.0           393.0             65.0                  53.0   \n",
       "4        1001  11.0           426.0             64.0                  36.0   \n",
       "...       ...   ...             ...              ...                   ...   \n",
       "2298     1307   NaN             NaN              NaN                   NaN   \n",
       "2299     1319   NaN             NaN              NaN                   NaN   \n",
       "2300     1378   NaN             NaN              NaN                   NaN   \n",
       "2301     1463   NaN             NaN              NaN                   NaN   \n",
       "2302     1473   NaN             NaN              NaN                   NaN   \n",
       "\n",
       "      datos_usados  datos_usados_gb      plan  \\\n",
       "0          1901.47              2.0  ultimate   \n",
       "1          6919.15              7.0      surf   \n",
       "2         13314.82             14.0      surf   \n",
       "3         22330.49             22.0      surf   \n",
       "4         18504.30             19.0      surf   \n",
       "...            ...              ...       ...   \n",
       "2298           NaN              NaN      surf   \n",
       "2299           NaN              NaN      surf   \n",
       "2300           NaN              NaN      surf   \n",
       "2301           NaN              NaN  ultimate   \n",
       "2302           NaN              NaN      surf   \n",
       "\n",
       "                                        city  minutos_cobrables  \\\n",
       "0      Atlanta-Sandy Springs-Roswell, GA MSA                0.0   \n",
       "1            Seattle-Tacoma-Bellevue, WA MSA                0.0   \n",
       "2            Seattle-Tacoma-Bellevue, WA MSA                0.0   \n",
       "3            Seattle-Tacoma-Bellevue, WA MSA                0.0   \n",
       "4            Seattle-Tacoma-Bellevue, WA MSA                0.0   \n",
       "...                                      ...                ...   \n",
       "2298      Boston-Cambridge-Newton, MA-NH MSA                0.0   \n",
       "2299                Colorado Springs, CO MSA                0.0   \n",
       "2300          Denver-Aurora-Lakewood, CO MSA                0.0   \n",
       "2301   Atlanta-Sandy Springs-Roswell, GA MSA                0.0   \n",
       "2302  Louisville/Jefferson County, KY-IN MSA                0.0   \n",
       "\n",
       "      cargo_extra_minutos  messages_cobrables  cargo_extra_messages  \n",
       "0                     0.0                 0.0                  0.00  \n",
       "1                     0.0                 0.0                  0.00  \n",
       "2                     0.0                 0.0                  0.00  \n",
       "3                     0.0                 3.0                  0.09  \n",
       "4                     0.0                 0.0                  0.00  \n",
       "...                   ...                 ...                   ...  \n",
       "2298                  0.0                 0.0                  0.00  \n",
       "2299                  0.0                 0.0                  0.00  \n",
       "2300                  0.0                 0.0                  0.00  \n",
       "2301                  0.0                 0.0                  0.00  \n",
       "2302                  0.0                 0.0                  0.00  \n",
       "\n",
       "[2303 rows x 13 columns]"
      ]
     },
     "execution_count": 88,
     "metadata": {},
     "output_type": "execute_result"
    }
   ],
   "source": [
    "consumo_planes"
   ]
  },
  {
   "cell_type": "code",
   "execution_count": 89,
   "metadata": {},
   "outputs": [
    {
     "data": {
      "text/plain": [
       "0.14763352149370387"
      ]
     },
     "execution_count": 89,
     "metadata": {},
     "output_type": "execute_result"
    }
   ],
   "source": [
    "len(consumo_planes.query('messages_cobrables > 0'))/len(consumo_planes)"
   ]
  },
  {
   "cell_type": "markdown",
   "metadata": {},
   "source": [
    "Se cobra 14% de los usuarios, ya que han pasado el numero de mensajes."
   ]
  },
  {
   "cell_type": "code",
   "execution_count": 90,
   "metadata": {},
   "outputs": [],
   "source": [
    "def datos_por_cobrar(fila): \n",
    "    plan=fila['plan']\n",
    "    datos_usados = fila['datos_usados_gb']\n",
    "    \n",
    "    cobrables= 0 \n",
    "    \n",
    "    if plan == 'surf': \n",
    "        if datos_usados > datos_surf:\n",
    "            cobrables= datos_usados - datos_surf\n",
    "            \n",
    "    elif plan == 'ultimate': \n",
    "        if datos_usados > datos_ultimate: \n",
    "            cobrables = datos_usados - datos_ultimate\n",
    "        \n",
    "        \n",
    "    return cobrables"
   ]
  },
  {
   "cell_type": "code",
   "execution_count": 91,
   "metadata": {},
   "outputs": [],
   "source": [
    "consumo_planes['datos_cobrables']= consumo_planes.apply(datos_por_cobrar, axis=1) "
   ]
  },
  {
   "cell_type": "code",
   "execution_count": 92,
   "metadata": {},
   "outputs": [],
   "source": [
    "def datos_a_cobrar(fila): \n",
    "    plan=fila['plan']\n",
    "    datos_a_cobrar = fila['datos_cobrables']\n",
    "    \n",
    "    cobrables= 0 \n",
    "    \n",
    "    if plan == 'surf': \n",
    "        if  datos_a_cobrar > 0:\n",
    "            cobrables=  datos_a_cobrar  * costo_datos_surf\n",
    "            \n",
    "    elif plan == 'ultimate': \n",
    "        if datos_a_cobrar > 0:\n",
    "            cobrables=  datos_a_cobrar  * costo_datos_ultimate\n",
    "        \n",
    "    return cobrables"
   ]
  },
  {
   "cell_type": "code",
   "execution_count": 93,
   "metadata": {},
   "outputs": [],
   "source": [
    "consumo_planes['cargo_extra_datos']= consumo_planes.apply(datos_a_cobrar, axis=1) "
   ]
  },
  {
   "cell_type": "code",
   "execution_count": 94,
   "metadata": {},
   "outputs": [
    {
     "data": {
      "text/html": [
       "<div>\n",
       "<style scoped>\n",
       "    .dataframe tbody tr th:only-of-type {\n",
       "        vertical-align: middle;\n",
       "    }\n",
       "\n",
       "    .dataframe tbody tr th {\n",
       "        vertical-align: top;\n",
       "    }\n",
       "\n",
       "    .dataframe thead th {\n",
       "        text-align: right;\n",
       "    }\n",
       "</style>\n",
       "<table border=\"1\" class=\"dataframe\">\n",
       "  <thead>\n",
       "    <tr style=\"text-align: right;\">\n",
       "      <th></th>\n",
       "      <th>user_id</th>\n",
       "      <th>mes</th>\n",
       "      <th>minutos usados</th>\n",
       "      <th>llamadas hechas</th>\n",
       "      <th>cantidad_de_mensajes</th>\n",
       "      <th>datos_usados</th>\n",
       "      <th>datos_usados_gb</th>\n",
       "      <th>plan</th>\n",
       "      <th>city</th>\n",
       "      <th>minutos_cobrables</th>\n",
       "      <th>cargo_extra_minutos</th>\n",
       "      <th>messages_cobrables</th>\n",
       "      <th>cargo_extra_messages</th>\n",
       "      <th>datos_cobrables</th>\n",
       "      <th>cargo_extra_datos</th>\n",
       "    </tr>\n",
       "  </thead>\n",
       "  <tbody>\n",
       "    <tr>\n",
       "      <th>0</th>\n",
       "      <td>1000</td>\n",
       "      <td>12.0</td>\n",
       "      <td>124.0</td>\n",
       "      <td>16.0</td>\n",
       "      <td>11.0</td>\n",
       "      <td>1901.47</td>\n",
       "      <td>2.0</td>\n",
       "      <td>ultimate</td>\n",
       "      <td>Atlanta-Sandy Springs-Roswell, GA MSA</td>\n",
       "      <td>0.0</td>\n",
       "      <td>0.0</td>\n",
       "      <td>0.0</td>\n",
       "      <td>0.00</td>\n",
       "      <td>0.0</td>\n",
       "      <td>0.0</td>\n",
       "    </tr>\n",
       "    <tr>\n",
       "      <th>1</th>\n",
       "      <td>1001</td>\n",
       "      <td>8.0</td>\n",
       "      <td>182.0</td>\n",
       "      <td>27.0</td>\n",
       "      <td>30.0</td>\n",
       "      <td>6919.15</td>\n",
       "      <td>7.0</td>\n",
       "      <td>surf</td>\n",
       "      <td>Seattle-Tacoma-Bellevue, WA MSA</td>\n",
       "      <td>0.0</td>\n",
       "      <td>0.0</td>\n",
       "      <td>0.0</td>\n",
       "      <td>0.00</td>\n",
       "      <td>0.0</td>\n",
       "      <td>0.0</td>\n",
       "    </tr>\n",
       "    <tr>\n",
       "      <th>2</th>\n",
       "      <td>1001</td>\n",
       "      <td>9.0</td>\n",
       "      <td>315.0</td>\n",
       "      <td>49.0</td>\n",
       "      <td>44.0</td>\n",
       "      <td>13314.82</td>\n",
       "      <td>14.0</td>\n",
       "      <td>surf</td>\n",
       "      <td>Seattle-Tacoma-Bellevue, WA MSA</td>\n",
       "      <td>0.0</td>\n",
       "      <td>0.0</td>\n",
       "      <td>0.0</td>\n",
       "      <td>0.00</td>\n",
       "      <td>0.0</td>\n",
       "      <td>0.0</td>\n",
       "    </tr>\n",
       "    <tr>\n",
       "      <th>3</th>\n",
       "      <td>1001</td>\n",
       "      <td>10.0</td>\n",
       "      <td>393.0</td>\n",
       "      <td>65.0</td>\n",
       "      <td>53.0</td>\n",
       "      <td>22330.49</td>\n",
       "      <td>22.0</td>\n",
       "      <td>surf</td>\n",
       "      <td>Seattle-Tacoma-Bellevue, WA MSA</td>\n",
       "      <td>0.0</td>\n",
       "      <td>0.0</td>\n",
       "      <td>3.0</td>\n",
       "      <td>0.09</td>\n",
       "      <td>7.0</td>\n",
       "      <td>70.0</td>\n",
       "    </tr>\n",
       "    <tr>\n",
       "      <th>4</th>\n",
       "      <td>1001</td>\n",
       "      <td>11.0</td>\n",
       "      <td>426.0</td>\n",
       "      <td>64.0</td>\n",
       "      <td>36.0</td>\n",
       "      <td>18504.30</td>\n",
       "      <td>19.0</td>\n",
       "      <td>surf</td>\n",
       "      <td>Seattle-Tacoma-Bellevue, WA MSA</td>\n",
       "      <td>0.0</td>\n",
       "      <td>0.0</td>\n",
       "      <td>0.0</td>\n",
       "      <td>0.00</td>\n",
       "      <td>4.0</td>\n",
       "      <td>40.0</td>\n",
       "    </tr>\n",
       "    <tr>\n",
       "      <th>...</th>\n",
       "      <td>...</td>\n",
       "      <td>...</td>\n",
       "      <td>...</td>\n",
       "      <td>...</td>\n",
       "      <td>...</td>\n",
       "      <td>...</td>\n",
       "      <td>...</td>\n",
       "      <td>...</td>\n",
       "      <td>...</td>\n",
       "      <td>...</td>\n",
       "      <td>...</td>\n",
       "      <td>...</td>\n",
       "      <td>...</td>\n",
       "      <td>...</td>\n",
       "      <td>...</td>\n",
       "    </tr>\n",
       "    <tr>\n",
       "      <th>2298</th>\n",
       "      <td>1307</td>\n",
       "      <td>NaN</td>\n",
       "      <td>NaN</td>\n",
       "      <td>NaN</td>\n",
       "      <td>NaN</td>\n",
       "      <td>NaN</td>\n",
       "      <td>NaN</td>\n",
       "      <td>surf</td>\n",
       "      <td>Boston-Cambridge-Newton, MA-NH MSA</td>\n",
       "      <td>0.0</td>\n",
       "      <td>0.0</td>\n",
       "      <td>0.0</td>\n",
       "      <td>0.00</td>\n",
       "      <td>0.0</td>\n",
       "      <td>0.0</td>\n",
       "    </tr>\n",
       "    <tr>\n",
       "      <th>2299</th>\n",
       "      <td>1319</td>\n",
       "      <td>NaN</td>\n",
       "      <td>NaN</td>\n",
       "      <td>NaN</td>\n",
       "      <td>NaN</td>\n",
       "      <td>NaN</td>\n",
       "      <td>NaN</td>\n",
       "      <td>surf</td>\n",
       "      <td>Colorado Springs, CO MSA</td>\n",
       "      <td>0.0</td>\n",
       "      <td>0.0</td>\n",
       "      <td>0.0</td>\n",
       "      <td>0.00</td>\n",
       "      <td>0.0</td>\n",
       "      <td>0.0</td>\n",
       "    </tr>\n",
       "    <tr>\n",
       "      <th>2300</th>\n",
       "      <td>1378</td>\n",
       "      <td>NaN</td>\n",
       "      <td>NaN</td>\n",
       "      <td>NaN</td>\n",
       "      <td>NaN</td>\n",
       "      <td>NaN</td>\n",
       "      <td>NaN</td>\n",
       "      <td>surf</td>\n",
       "      <td>Denver-Aurora-Lakewood, CO MSA</td>\n",
       "      <td>0.0</td>\n",
       "      <td>0.0</td>\n",
       "      <td>0.0</td>\n",
       "      <td>0.00</td>\n",
       "      <td>0.0</td>\n",
       "      <td>0.0</td>\n",
       "    </tr>\n",
       "    <tr>\n",
       "      <th>2301</th>\n",
       "      <td>1463</td>\n",
       "      <td>NaN</td>\n",
       "      <td>NaN</td>\n",
       "      <td>NaN</td>\n",
       "      <td>NaN</td>\n",
       "      <td>NaN</td>\n",
       "      <td>NaN</td>\n",
       "      <td>ultimate</td>\n",
       "      <td>Atlanta-Sandy Springs-Roswell, GA MSA</td>\n",
       "      <td>0.0</td>\n",
       "      <td>0.0</td>\n",
       "      <td>0.0</td>\n",
       "      <td>0.00</td>\n",
       "      <td>0.0</td>\n",
       "      <td>0.0</td>\n",
       "    </tr>\n",
       "    <tr>\n",
       "      <th>2302</th>\n",
       "      <td>1473</td>\n",
       "      <td>NaN</td>\n",
       "      <td>NaN</td>\n",
       "      <td>NaN</td>\n",
       "      <td>NaN</td>\n",
       "      <td>NaN</td>\n",
       "      <td>NaN</td>\n",
       "      <td>surf</td>\n",
       "      <td>Louisville/Jefferson County, KY-IN MSA</td>\n",
       "      <td>0.0</td>\n",
       "      <td>0.0</td>\n",
       "      <td>0.0</td>\n",
       "      <td>0.00</td>\n",
       "      <td>0.0</td>\n",
       "      <td>0.0</td>\n",
       "    </tr>\n",
       "  </tbody>\n",
       "</table>\n",
       "<p>2303 rows × 15 columns</p>\n",
       "</div>"
      ],
      "text/plain": [
       "      user_id   mes  minutos usados  llamadas hechas  cantidad_de_mensajes  \\\n",
       "0        1000  12.0           124.0             16.0                  11.0   \n",
       "1        1001   8.0           182.0             27.0                  30.0   \n",
       "2        1001   9.0           315.0             49.0                  44.0   \n",
       "3        1001  10.0           393.0             65.0                  53.0   \n",
       "4        1001  11.0           426.0             64.0                  36.0   \n",
       "...       ...   ...             ...              ...                   ...   \n",
       "2298     1307   NaN             NaN              NaN                   NaN   \n",
       "2299     1319   NaN             NaN              NaN                   NaN   \n",
       "2300     1378   NaN             NaN              NaN                   NaN   \n",
       "2301     1463   NaN             NaN              NaN                   NaN   \n",
       "2302     1473   NaN             NaN              NaN                   NaN   \n",
       "\n",
       "      datos_usados  datos_usados_gb      plan  \\\n",
       "0          1901.47              2.0  ultimate   \n",
       "1          6919.15              7.0      surf   \n",
       "2         13314.82             14.0      surf   \n",
       "3         22330.49             22.0      surf   \n",
       "4         18504.30             19.0      surf   \n",
       "...            ...              ...       ...   \n",
       "2298           NaN              NaN      surf   \n",
       "2299           NaN              NaN      surf   \n",
       "2300           NaN              NaN      surf   \n",
       "2301           NaN              NaN  ultimate   \n",
       "2302           NaN              NaN      surf   \n",
       "\n",
       "                                        city  minutos_cobrables  \\\n",
       "0      Atlanta-Sandy Springs-Roswell, GA MSA                0.0   \n",
       "1            Seattle-Tacoma-Bellevue, WA MSA                0.0   \n",
       "2            Seattle-Tacoma-Bellevue, WA MSA                0.0   \n",
       "3            Seattle-Tacoma-Bellevue, WA MSA                0.0   \n",
       "4            Seattle-Tacoma-Bellevue, WA MSA                0.0   \n",
       "...                                      ...                ...   \n",
       "2298      Boston-Cambridge-Newton, MA-NH MSA                0.0   \n",
       "2299                Colorado Springs, CO MSA                0.0   \n",
       "2300          Denver-Aurora-Lakewood, CO MSA                0.0   \n",
       "2301   Atlanta-Sandy Springs-Roswell, GA MSA                0.0   \n",
       "2302  Louisville/Jefferson County, KY-IN MSA                0.0   \n",
       "\n",
       "      cargo_extra_minutos  messages_cobrables  cargo_extra_messages  \\\n",
       "0                     0.0                 0.0                  0.00   \n",
       "1                     0.0                 0.0                  0.00   \n",
       "2                     0.0                 0.0                  0.00   \n",
       "3                     0.0                 3.0                  0.09   \n",
       "4                     0.0                 0.0                  0.00   \n",
       "...                   ...                 ...                   ...   \n",
       "2298                  0.0                 0.0                  0.00   \n",
       "2299                  0.0                 0.0                  0.00   \n",
       "2300                  0.0                 0.0                  0.00   \n",
       "2301                  0.0                 0.0                  0.00   \n",
       "2302                  0.0                 0.0                  0.00   \n",
       "\n",
       "      datos_cobrables  cargo_extra_datos  \n",
       "0                 0.0                0.0  \n",
       "1                 0.0                0.0  \n",
       "2                 0.0                0.0  \n",
       "3                 7.0               70.0  \n",
       "4                 4.0               40.0  \n",
       "...               ...                ...  \n",
       "2298              0.0                0.0  \n",
       "2299              0.0                0.0  \n",
       "2300              0.0                0.0  \n",
       "2301              0.0                0.0  \n",
       "2302              0.0                0.0  \n",
       "\n",
       "[2303 rows x 15 columns]"
      ]
     },
     "execution_count": 94,
     "metadata": {},
     "output_type": "execute_result"
    }
   ],
   "source": [
    "consumo_planes"
   ]
  },
  {
   "cell_type": "code",
   "execution_count": 95,
   "metadata": {},
   "outputs": [
    {
     "data": {
      "text/plain": [
       "0.4133738601823708"
      ]
     },
     "execution_count": 95,
     "metadata": {},
     "output_type": "execute_result"
    }
   ],
   "source": [
    "len(consumo_planes.query('datos_cobrables > 0'))/len(consumo_planes)"
   ]
  },
  {
   "cell_type": "markdown",
   "metadata": {},
   "source": [
    "El **41%** de los usuarios han pasado los datos de sus planes, por lo que se les cobrara. "
   ]
  },
  {
   "cell_type": "code",
   "execution_count": 96,
   "metadata": {},
   "outputs": [],
   "source": [
    "def total_a_pagar(fila): \n",
    "    plan=fila['plan']\n",
    "    minutos_a_cobrar = fila ['cargo_extra_minutos']\n",
    "    messages_a_cobrar = fila ['cargo_extra_messages']\n",
    "    datos_a_cobrar = fila['cargo_extra_datos']\n",
    "    \n",
    "    \n",
    "    total_por_cobrar= 0 \n",
    "    \n",
    "    if plan == 'surf':\n",
    "        total_por_cobrar = costo_mes_surf + minutos_a_cobrar + messages_a_cobrar + datos_a_cobrar\n",
    "            \n",
    "    elif plan == 'ultimate': \n",
    "        total_por_cobrar = costo_mes_ultimate + minutos_a_cobrar + messages_a_cobrar + datos_a_cobrar\n",
    "        \n",
    "    return total_por_cobrar\n",
    "    "
   ]
  },
  {
   "cell_type": "code",
   "execution_count": 97,
   "metadata": {},
   "outputs": [],
   "source": [
    "consumo_planes['Total_a_pagar']= consumo_planes.apply(total_a_pagar, axis=1) "
   ]
  },
  {
   "cell_type": "code",
   "execution_count": 98,
   "metadata": {},
   "outputs": [
    {
     "data": {
      "text/html": [
       "<div>\n",
       "<style scoped>\n",
       "    .dataframe tbody tr th:only-of-type {\n",
       "        vertical-align: middle;\n",
       "    }\n",
       "\n",
       "    .dataframe tbody tr th {\n",
       "        vertical-align: top;\n",
       "    }\n",
       "\n",
       "    .dataframe thead th {\n",
       "        text-align: right;\n",
       "    }\n",
       "</style>\n",
       "<table border=\"1\" class=\"dataframe\">\n",
       "  <thead>\n",
       "    <tr style=\"text-align: right;\">\n",
       "      <th></th>\n",
       "      <th>user_id</th>\n",
       "      <th>mes</th>\n",
       "      <th>minutos usados</th>\n",
       "      <th>llamadas hechas</th>\n",
       "      <th>cantidad_de_mensajes</th>\n",
       "      <th>datos_usados</th>\n",
       "      <th>datos_usados_gb</th>\n",
       "      <th>plan</th>\n",
       "      <th>city</th>\n",
       "      <th>minutos_cobrables</th>\n",
       "      <th>cargo_extra_minutos</th>\n",
       "      <th>messages_cobrables</th>\n",
       "      <th>cargo_extra_messages</th>\n",
       "      <th>datos_cobrables</th>\n",
       "      <th>cargo_extra_datos</th>\n",
       "      <th>Total_a_pagar</th>\n",
       "    </tr>\n",
       "  </thead>\n",
       "  <tbody>\n",
       "    <tr>\n",
       "      <th>0</th>\n",
       "      <td>1000</td>\n",
       "      <td>12.0</td>\n",
       "      <td>124.0</td>\n",
       "      <td>16.0</td>\n",
       "      <td>11.0</td>\n",
       "      <td>1901.47</td>\n",
       "      <td>2.0</td>\n",
       "      <td>ultimate</td>\n",
       "      <td>Atlanta-Sandy Springs-Roswell, GA MSA</td>\n",
       "      <td>0.0</td>\n",
       "      <td>0.0</td>\n",
       "      <td>0.0</td>\n",
       "      <td>0.00</td>\n",
       "      <td>0.0</td>\n",
       "      <td>0.0</td>\n",
       "      <td>70.00</td>\n",
       "    </tr>\n",
       "    <tr>\n",
       "      <th>1</th>\n",
       "      <td>1001</td>\n",
       "      <td>8.0</td>\n",
       "      <td>182.0</td>\n",
       "      <td>27.0</td>\n",
       "      <td>30.0</td>\n",
       "      <td>6919.15</td>\n",
       "      <td>7.0</td>\n",
       "      <td>surf</td>\n",
       "      <td>Seattle-Tacoma-Bellevue, WA MSA</td>\n",
       "      <td>0.0</td>\n",
       "      <td>0.0</td>\n",
       "      <td>0.0</td>\n",
       "      <td>0.00</td>\n",
       "      <td>0.0</td>\n",
       "      <td>0.0</td>\n",
       "      <td>20.00</td>\n",
       "    </tr>\n",
       "    <tr>\n",
       "      <th>2</th>\n",
       "      <td>1001</td>\n",
       "      <td>9.0</td>\n",
       "      <td>315.0</td>\n",
       "      <td>49.0</td>\n",
       "      <td>44.0</td>\n",
       "      <td>13314.82</td>\n",
       "      <td>14.0</td>\n",
       "      <td>surf</td>\n",
       "      <td>Seattle-Tacoma-Bellevue, WA MSA</td>\n",
       "      <td>0.0</td>\n",
       "      <td>0.0</td>\n",
       "      <td>0.0</td>\n",
       "      <td>0.00</td>\n",
       "      <td>0.0</td>\n",
       "      <td>0.0</td>\n",
       "      <td>20.00</td>\n",
       "    </tr>\n",
       "    <tr>\n",
       "      <th>3</th>\n",
       "      <td>1001</td>\n",
       "      <td>10.0</td>\n",
       "      <td>393.0</td>\n",
       "      <td>65.0</td>\n",
       "      <td>53.0</td>\n",
       "      <td>22330.49</td>\n",
       "      <td>22.0</td>\n",
       "      <td>surf</td>\n",
       "      <td>Seattle-Tacoma-Bellevue, WA MSA</td>\n",
       "      <td>0.0</td>\n",
       "      <td>0.0</td>\n",
       "      <td>3.0</td>\n",
       "      <td>0.09</td>\n",
       "      <td>7.0</td>\n",
       "      <td>70.0</td>\n",
       "      <td>90.09</td>\n",
       "    </tr>\n",
       "    <tr>\n",
       "      <th>4</th>\n",
       "      <td>1001</td>\n",
       "      <td>11.0</td>\n",
       "      <td>426.0</td>\n",
       "      <td>64.0</td>\n",
       "      <td>36.0</td>\n",
       "      <td>18504.30</td>\n",
       "      <td>19.0</td>\n",
       "      <td>surf</td>\n",
       "      <td>Seattle-Tacoma-Bellevue, WA MSA</td>\n",
       "      <td>0.0</td>\n",
       "      <td>0.0</td>\n",
       "      <td>0.0</td>\n",
       "      <td>0.00</td>\n",
       "      <td>4.0</td>\n",
       "      <td>40.0</td>\n",
       "      <td>60.00</td>\n",
       "    </tr>\n",
       "    <tr>\n",
       "      <th>...</th>\n",
       "      <td>...</td>\n",
       "      <td>...</td>\n",
       "      <td>...</td>\n",
       "      <td>...</td>\n",
       "      <td>...</td>\n",
       "      <td>...</td>\n",
       "      <td>...</td>\n",
       "      <td>...</td>\n",
       "      <td>...</td>\n",
       "      <td>...</td>\n",
       "      <td>...</td>\n",
       "      <td>...</td>\n",
       "      <td>...</td>\n",
       "      <td>...</td>\n",
       "      <td>...</td>\n",
       "      <td>...</td>\n",
       "    </tr>\n",
       "    <tr>\n",
       "      <th>2298</th>\n",
       "      <td>1307</td>\n",
       "      <td>NaN</td>\n",
       "      <td>NaN</td>\n",
       "      <td>NaN</td>\n",
       "      <td>NaN</td>\n",
       "      <td>NaN</td>\n",
       "      <td>NaN</td>\n",
       "      <td>surf</td>\n",
       "      <td>Boston-Cambridge-Newton, MA-NH MSA</td>\n",
       "      <td>0.0</td>\n",
       "      <td>0.0</td>\n",
       "      <td>0.0</td>\n",
       "      <td>0.00</td>\n",
       "      <td>0.0</td>\n",
       "      <td>0.0</td>\n",
       "      <td>20.00</td>\n",
       "    </tr>\n",
       "    <tr>\n",
       "      <th>2299</th>\n",
       "      <td>1319</td>\n",
       "      <td>NaN</td>\n",
       "      <td>NaN</td>\n",
       "      <td>NaN</td>\n",
       "      <td>NaN</td>\n",
       "      <td>NaN</td>\n",
       "      <td>NaN</td>\n",
       "      <td>surf</td>\n",
       "      <td>Colorado Springs, CO MSA</td>\n",
       "      <td>0.0</td>\n",
       "      <td>0.0</td>\n",
       "      <td>0.0</td>\n",
       "      <td>0.00</td>\n",
       "      <td>0.0</td>\n",
       "      <td>0.0</td>\n",
       "      <td>20.00</td>\n",
       "    </tr>\n",
       "    <tr>\n",
       "      <th>2300</th>\n",
       "      <td>1378</td>\n",
       "      <td>NaN</td>\n",
       "      <td>NaN</td>\n",
       "      <td>NaN</td>\n",
       "      <td>NaN</td>\n",
       "      <td>NaN</td>\n",
       "      <td>NaN</td>\n",
       "      <td>surf</td>\n",
       "      <td>Denver-Aurora-Lakewood, CO MSA</td>\n",
       "      <td>0.0</td>\n",
       "      <td>0.0</td>\n",
       "      <td>0.0</td>\n",
       "      <td>0.00</td>\n",
       "      <td>0.0</td>\n",
       "      <td>0.0</td>\n",
       "      <td>20.00</td>\n",
       "    </tr>\n",
       "    <tr>\n",
       "      <th>2301</th>\n",
       "      <td>1463</td>\n",
       "      <td>NaN</td>\n",
       "      <td>NaN</td>\n",
       "      <td>NaN</td>\n",
       "      <td>NaN</td>\n",
       "      <td>NaN</td>\n",
       "      <td>NaN</td>\n",
       "      <td>ultimate</td>\n",
       "      <td>Atlanta-Sandy Springs-Roswell, GA MSA</td>\n",
       "      <td>0.0</td>\n",
       "      <td>0.0</td>\n",
       "      <td>0.0</td>\n",
       "      <td>0.00</td>\n",
       "      <td>0.0</td>\n",
       "      <td>0.0</td>\n",
       "      <td>70.00</td>\n",
       "    </tr>\n",
       "    <tr>\n",
       "      <th>2302</th>\n",
       "      <td>1473</td>\n",
       "      <td>NaN</td>\n",
       "      <td>NaN</td>\n",
       "      <td>NaN</td>\n",
       "      <td>NaN</td>\n",
       "      <td>NaN</td>\n",
       "      <td>NaN</td>\n",
       "      <td>surf</td>\n",
       "      <td>Louisville/Jefferson County, KY-IN MSA</td>\n",
       "      <td>0.0</td>\n",
       "      <td>0.0</td>\n",
       "      <td>0.0</td>\n",
       "      <td>0.00</td>\n",
       "      <td>0.0</td>\n",
       "      <td>0.0</td>\n",
       "      <td>20.00</td>\n",
       "    </tr>\n",
       "  </tbody>\n",
       "</table>\n",
       "<p>2303 rows × 16 columns</p>\n",
       "</div>"
      ],
      "text/plain": [
       "      user_id   mes  minutos usados  llamadas hechas  cantidad_de_mensajes  \\\n",
       "0        1000  12.0           124.0             16.0                  11.0   \n",
       "1        1001   8.0           182.0             27.0                  30.0   \n",
       "2        1001   9.0           315.0             49.0                  44.0   \n",
       "3        1001  10.0           393.0             65.0                  53.0   \n",
       "4        1001  11.0           426.0             64.0                  36.0   \n",
       "...       ...   ...             ...              ...                   ...   \n",
       "2298     1307   NaN             NaN              NaN                   NaN   \n",
       "2299     1319   NaN             NaN              NaN                   NaN   \n",
       "2300     1378   NaN             NaN              NaN                   NaN   \n",
       "2301     1463   NaN             NaN              NaN                   NaN   \n",
       "2302     1473   NaN             NaN              NaN                   NaN   \n",
       "\n",
       "      datos_usados  datos_usados_gb      plan  \\\n",
       "0          1901.47              2.0  ultimate   \n",
       "1          6919.15              7.0      surf   \n",
       "2         13314.82             14.0      surf   \n",
       "3         22330.49             22.0      surf   \n",
       "4         18504.30             19.0      surf   \n",
       "...            ...              ...       ...   \n",
       "2298           NaN              NaN      surf   \n",
       "2299           NaN              NaN      surf   \n",
       "2300           NaN              NaN      surf   \n",
       "2301           NaN              NaN  ultimate   \n",
       "2302           NaN              NaN      surf   \n",
       "\n",
       "                                        city  minutos_cobrables  \\\n",
       "0      Atlanta-Sandy Springs-Roswell, GA MSA                0.0   \n",
       "1            Seattle-Tacoma-Bellevue, WA MSA                0.0   \n",
       "2            Seattle-Tacoma-Bellevue, WA MSA                0.0   \n",
       "3            Seattle-Tacoma-Bellevue, WA MSA                0.0   \n",
       "4            Seattle-Tacoma-Bellevue, WA MSA                0.0   \n",
       "...                                      ...                ...   \n",
       "2298      Boston-Cambridge-Newton, MA-NH MSA                0.0   \n",
       "2299                Colorado Springs, CO MSA                0.0   \n",
       "2300          Denver-Aurora-Lakewood, CO MSA                0.0   \n",
       "2301   Atlanta-Sandy Springs-Roswell, GA MSA                0.0   \n",
       "2302  Louisville/Jefferson County, KY-IN MSA                0.0   \n",
       "\n",
       "      cargo_extra_minutos  messages_cobrables  cargo_extra_messages  \\\n",
       "0                     0.0                 0.0                  0.00   \n",
       "1                     0.0                 0.0                  0.00   \n",
       "2                     0.0                 0.0                  0.00   \n",
       "3                     0.0                 3.0                  0.09   \n",
       "4                     0.0                 0.0                  0.00   \n",
       "...                   ...                 ...                   ...   \n",
       "2298                  0.0                 0.0                  0.00   \n",
       "2299                  0.0                 0.0                  0.00   \n",
       "2300                  0.0                 0.0                  0.00   \n",
       "2301                  0.0                 0.0                  0.00   \n",
       "2302                  0.0                 0.0                  0.00   \n",
       "\n",
       "      datos_cobrables  cargo_extra_datos  Total_a_pagar  \n",
       "0                 0.0                0.0          70.00  \n",
       "1                 0.0                0.0          20.00  \n",
       "2                 0.0                0.0          20.00  \n",
       "3                 7.0               70.0          90.09  \n",
       "4                 4.0               40.0          60.00  \n",
       "...               ...                ...            ...  \n",
       "2298              0.0                0.0          20.00  \n",
       "2299              0.0                0.0          20.00  \n",
       "2300              0.0                0.0          20.00  \n",
       "2301              0.0                0.0          70.00  \n",
       "2302              0.0                0.0          20.00  \n",
       "\n",
       "[2303 rows x 16 columns]"
      ]
     },
     "execution_count": 98,
     "metadata": {},
     "output_type": "execute_result"
    }
   ],
   "source": [
    "consumo_planes"
   ]
  },
  {
   "cell_type": "markdown",
   "metadata": {
    "id": "-jtyHzJb0q1I"
   },
   "source": [
    "## Estudia el comportamiento de usuario"
   ]
  },
  {
   "cell_type": "markdown",
   "metadata": {
    "id": "vtW4CJEe0q1J"
   },
   "source": [
    "### Llamadas"
   ]
  },
  {
   "cell_type": "code",
   "execution_count": 99,
   "metadata": {
    "id": "Jf5v5--k0q1J"
   },
   "outputs": [],
   "source": [
    "# Compara la duración promedio de llamadas por cada plan y por cada mes. Traza un gráfico de barras para visualizarla.\n",
    "\n"
   ]
  },
  {
   "cell_type": "code",
   "execution_count": 100,
   "metadata": {},
   "outputs": [
    {
     "data": {
      "text/plain": [
       "<matplotlib.legend.Legend at 0x7f3cc81278b0>"
      ]
     },
     "execution_count": 100,
     "metadata": {},
     "output_type": "execute_result"
    },
    {
     "data": {
      "image/png": "[encoded data removed]",
      "text/plain": [
       "<Figure size 640x480 with 1 Axes>"
      ]
     },
     "metadata": {},
     "output_type": "display_data"
    }
   ],
   "source": [
    "plans = ['surf','ultimate']\n",
    "import matplotlib.pyplot as plt\n",
    "for plan in plans: \n",
    "     consumo_planes[consumo_planes['plan']== plan]['minutos usados'].plot(kind='hist', title ='minutos usados en llamadas por plan')\n",
    "        \n",
    "plt.legend(plans)\n",
    "# Compara el número de minutos mensuales que necesitan los usuarios de cada plan. Traza un histograma."
   ]
  },
  {
   "cell_type": "markdown",
   "metadata": {
    "id": "bLS9T8OH0q1K"
   },
   "source": [
    "[Calcula la media y la variable de la duración de las llamadas para averiguar si los usuarios de los distintos planes se comportan de forma diferente al realizar sus llamadas.]"
   ]
  },
  {
   "cell_type": "code",
   "execution_count": 101,
   "metadata": {
    "id": "oSndbAnt0q1K"
   },
   "outputs": [
    {
     "data": {
      "text/plain": [
       "435.9375553587245"
      ]
     },
     "execution_count": 101,
     "metadata": {},
     "output_type": "execute_result"
    }
   ],
   "source": [
    "# Calcula la media y la varianza de la duración mensual de llamadas.\n",
    "consumo_planes['minutos usados'].mean()\n"
   ]
  },
  {
   "cell_type": "code",
   "execution_count": 102,
   "metadata": {},
   "outputs": [
    {
     "data": {
      "text/plain": [
       "53787.33666754012"
      ]
     },
     "execution_count": 102,
     "metadata": {},
     "output_type": "execute_result"
    }
   ],
   "source": [
    "np.var(consumo_planes['minutos usados'])"
   ]
  },
  {
   "cell_type": "code",
   "execution_count": 103,
   "metadata": {
    "id": "nZzoRUKc0q1K"
   },
   "outputs": [
    {
     "data": {
      "image/png": "[encoded data removed]",
      "text/plain": [
       "<Figure size 640x480 with 1 Axes>"
      ]
     },
     "metadata": {},
     "output_type": "display_data"
    },
    {
     "data": {
      "image/png": "[encoded data removed]",
      "text/plain": [
       "<Figure size 640x480 with 1 Axes>"
      ]
     },
     "metadata": {},
     "output_type": "display_data"
    }
   ],
   "source": [
    "plans = ['surf','ultimate']\n",
    "\n",
    "for plan in plans: \n",
    "    plt.boxplot(consumo_planes[consumo_planes['plan'] == plan]['minutos usados'].dropna())# Traza un diagrama de caja para visualizar la distribución de la duración mensual de llamadas\n",
    "    plt.title(plan)\n",
    "    plt.show()\n"
   ]
  },
  {
   "cell_type": "markdown",
   "metadata": {
    "id": "r627zBO50q1K"
   },
   "source": [
    "Parece que la frecuencia de los minutos usados en llamadas por el plan surf son mucho mayores a los delplan ultimate! \n",
    "aunque podemos ver que nuestra duración de llamadas es muy similar entre ambos planes, pues la media de ambas se encuentran un poco arriba de los 400 minutos. "
   ]
  },
  {
   "cell_type": "markdown",
   "metadata": {
    "id": "8idKy8Wh0q1L"
   },
   "source": [
    "### Mensajes"
   ]
  },
  {
   "cell_type": "code",
   "execution_count": 104,
   "metadata": {
    "id": "NXLxiTit0q1L"
   },
   "outputs": [
    {
     "data": {
      "text/plain": [
       "<matplotlib.legend.Legend at 0x7f3cc800ddc0>"
      ]
     },
     "execution_count": 104,
     "metadata": {},
     "output_type": "execute_result"
    },
    {
     "data": {
      "image/png": "[encoded data removed]",
      "text/plain": [
       "<Figure size 640x480 with 1 Axes>"
      ]
     },
     "metadata": {},
     "output_type": "display_data"
    }
   ],
   "source": [
    "import matplotlib.pyplot as plt\n",
    "plans = ['surf','ultimate']\n",
    "\n",
    "for plan in plans: \n",
    "     consumo_planes[consumo_planes['plan']== plan]['cantidad_de_mensajes'].plot(kind='hist', title ='Número de mensajes enviados por usuario por plan')\n",
    "        \n",
    "plt.legend(plans)# Comprara el número de mensajes que tienden a enviar cada mes los usuarios de cada plan\n",
    "# Compara la cantidad de tráfico de Internet consumido por usuarios por plan\n"
   ]
  },
  {
   "cell_type": "code",
   "execution_count": 105,
   "metadata": {},
   "outputs": [
    {
     "data": {
      "text/plain": [
       "42.110188261351055"
      ]
     },
     "execution_count": 105,
     "metadata": {},
     "output_type": "execute_result"
    }
   ],
   "source": [
    "consumo_planes['cantidad_de_mensajes'].mean()"
   ]
  },
  {
   "cell_type": "code",
   "execution_count": 106,
   "metadata": {
    "id": "dtFwCGAp0q1M"
   },
   "outputs": [
    {
     "data": {
      "image/png": "[encoded data removed]",
      "text/plain": [
       "<Figure size 640x480 with 1 Axes>"
      ]
     },
     "metadata": {},
     "output_type": "display_data"
    },
    {
     "data": {
      "image/png": "[encoded data removed]",
      "text/plain": [
       "<Figure size 640x480 with 1 Axes>"
      ]
     },
     "metadata": {},
     "output_type": "display_data"
    }
   ],
   "source": [
    "plans = ['surf','ultimate']\n",
    "\n",
    "for plan in plans: \n",
    "    plt.boxplot(consumo_planes[consumo_planes['plan'] == plan]['cantidad_de_mensajes'].dropna())# Traza un diagrama de caja para visualizar la distribución de la duración mensual de llamadas\n",
    "    plt.title(plan)\n",
    "    plt.show()"
   ]
  },
  {
   "cell_type": "markdown",
   "metadata": {
    "id": "390SSL480q1M"
   },
   "source": [
    "Nuevamente el plan surf tiene más uso de los mensajes que envian, sera por que hay más usuarios ahí?  \n",
    "aunque podemos ver que el envio de mensaje es muy similar entre ambos planes, pues la media de ambas se encuentran un poco por debajo de los 50 mensajes enviados."
   ]
  },
  {
   "cell_type": "markdown",
   "metadata": {
    "id": "42YSypXz0q1M"
   },
   "source": [
    "### Internet"
   ]
  },
  {
   "cell_type": "code",
   "execution_count": 107,
   "metadata": {
    "id": "lSuKPtjh0q1M"
   },
   "outputs": [
    {
     "data": {
      "image/png": "[encoded data removed]",
      "text/plain": [
       "<Figure size 640x480 with 1 Axes>"
      ]
     },
     "metadata": {},
     "output_type": "display_data"
    }
   ],
   "source": [
    "import matplotlib.pyplot as plt\n",
    "plans = ['surf','ultimate']\n",
    "\n",
    "for plan in plans: \n",
    "     consumo_planes[consumo_planes['plan']== plan]['datos_usados_gb'].plot(kind='hist', title ='Cantidad de datos consumidos por usuarios por plan')\n",
    "        \n",
    "plt.legend(plans)\n",
    "plt.show()\n"
   ]
  },
  {
   "cell_type": "code",
   "execution_count": 108,
   "metadata": {},
   "outputs": [
    {
     "data": {
      "text/plain": [
       "16.989020641194553"
      ]
     },
     "execution_count": 108,
     "metadata": {},
     "output_type": "execute_result"
    }
   ],
   "source": [
    "consumo_planes['datos_usados_gb'].mean()"
   ]
  },
  {
   "cell_type": "code",
   "execution_count": 109,
   "metadata": {
    "id": "wnh8jYXi0q1N"
   },
   "outputs": [
    {
     "data": {
      "image/png": "[encoded data removed]",
      "text/plain": [
       "<Figure size 640x480 with 1 Axes>"
      ]
     },
     "metadata": {},
     "output_type": "display_data"
    },
    {
     "data": {
      "image/png": "[encoded data removed]",
      "text/plain": [
       "<Figure size 640x480 with 1 Axes>"
      ]
     },
     "metadata": {},
     "output_type": "display_data"
    }
   ],
   "source": [
    "for plan in plans: \n",
    "    plt.boxplot(consumo_planes[consumo_planes['plan'] == plan]['datos_usados_gb'].dropna())# Traza un diagrama de caja para visualizar la distribución de la duración mensual de llamadas\n",
    "    plt.title(plan)\n",
    "    plt.show()"
   ]
  },
  {
   "cell_type": "markdown",
   "metadata": {
    "id": "UN9zwuMP0q1N"
   },
   "source": [
    "El plan surf tiene más trafico de datos, sera por que hay más usuarios ahí?  \n",
    "aunque podemos ver que el trafico de internet es muy similar entre ambos planes, pues la media de ambas se encuentran en medio de los valores 10 y 20, siendo 16gb el promedio del uso de datos."
   ]
  },
  {
   "cell_type": "markdown",
   "metadata": {
    "id": "tCijq3260q1N"
   },
   "source": [
    "## Ingreso"
   ]
  },
  {
   "cell_type": "markdown",
   "metadata": {
    "id": "9nq5IAcy0q1O"
   },
   "source": [
    "[Del mismo modo que has estudiado el comportamiento de los usuarios, describe estadísticamente los ingresos de los planes.]"
   ]
  },
  {
   "cell_type": "code",
   "execution_count": 110,
   "metadata": {
    "id": "tz-dq_V00q1O"
   },
   "outputs": [
    {
     "name": "stdout",
     "output_type": "stream",
     "text": [
      "la rentabilidad total del plan surf es de: 95611.18\n",
      "la rentabilidad mensual promedio del plan surf es de: 60.551728942368584\n",
      "la rentabilidad total del plan ultimate es de: 52346.0\n",
      "la rentabilidad mensual promedio del plan ultimate es de: 72.3011049723757\n"
     ]
    }
   ],
   "source": [
    "plans = ['surf','ultimate']\n",
    "\n",
    "for plan in plans: \n",
    "    rentabilidad = consumo_planes[consumo_planes['plan'] == plan]['Total_a_pagar'].sum()\n",
    "    rentabilidad_promedio_mensual = consumo_planes[consumo_planes['plan'] == plan]['Total_a_pagar'].mean()\n",
    "    print(f'la rentabilidad total del plan {plan} es de: {rentabilidad}')\n",
    "    print(f'la rentabilidad mensual promedio del plan {plan} es de: {rentabilidad_promedio_mensual}')"
   ]
  },
  {
   "cell_type": "code",
   "execution_count": 111,
   "metadata": {},
   "outputs": [
    {
     "data": {
      "image/png": "[encoded data removed]",
      "text/plain": [
       "<Figure size 640x480 with 1 Axes>"
      ]
     },
     "metadata": {},
     "output_type": "display_data"
    }
   ],
   "source": [
    "plans = ['surf','ultimate']\n",
    "\n",
    "for plan in plans: \n",
    "     consumo_planes[consumo_planes['plan']== plan]['Total_a_pagar'].plot(kind='hist', title =' rentabilidad por plan')\n",
    "        \n",
    "plt.legend(plans)\n",
    "plt.show()\n"
   ]
  },
  {
   "cell_type": "code",
   "execution_count": 112,
   "metadata": {
    "id": "0Y1v8ZUz0q1P"
   },
   "outputs": [
    {
     "data": {
      "text/html": [
       "<div>\n",
       "<style scoped>\n",
       "    .dataframe tbody tr th:only-of-type {\n",
       "        vertical-align: middle;\n",
       "    }\n",
       "\n",
       "    .dataframe tbody tr th {\n",
       "        vertical-align: top;\n",
       "    }\n",
       "\n",
       "    .dataframe thead th {\n",
       "        text-align: right;\n",
       "    }\n",
       "</style>\n",
       "<table border=\"1\" class=\"dataframe\">\n",
       "  <thead>\n",
       "    <tr style=\"text-align: right;\">\n",
       "      <th></th>\n",
       "      <th>user_id</th>\n",
       "      <th>mes</th>\n",
       "      <th>minutos usados</th>\n",
       "      <th>llamadas hechas</th>\n",
       "      <th>cantidad_de_mensajes</th>\n",
       "      <th>datos_usados</th>\n",
       "      <th>datos_usados_gb</th>\n",
       "      <th>plan</th>\n",
       "      <th>city</th>\n",
       "      <th>minutos_cobrables</th>\n",
       "      <th>cargo_extra_minutos</th>\n",
       "      <th>messages_cobrables</th>\n",
       "      <th>cargo_extra_messages</th>\n",
       "      <th>datos_cobrables</th>\n",
       "      <th>cargo_extra_datos</th>\n",
       "      <th>Total_a_pagar</th>\n",
       "    </tr>\n",
       "  </thead>\n",
       "  <tbody>\n",
       "    <tr>\n",
       "      <th>0</th>\n",
       "      <td>1000</td>\n",
       "      <td>12.0</td>\n",
       "      <td>124.0</td>\n",
       "      <td>16.0</td>\n",
       "      <td>11.0</td>\n",
       "      <td>1901.47</td>\n",
       "      <td>2.0</td>\n",
       "      <td>ultimate</td>\n",
       "      <td>Atlanta-Sandy Springs-Roswell, GA MSA</td>\n",
       "      <td>0.0</td>\n",
       "      <td>0.0</td>\n",
       "      <td>0.0</td>\n",
       "      <td>0.00</td>\n",
       "      <td>0.0</td>\n",
       "      <td>0.0</td>\n",
       "      <td>70.00</td>\n",
       "    </tr>\n",
       "    <tr>\n",
       "      <th>1</th>\n",
       "      <td>1001</td>\n",
       "      <td>8.0</td>\n",
       "      <td>182.0</td>\n",
       "      <td>27.0</td>\n",
       "      <td>30.0</td>\n",
       "      <td>6919.15</td>\n",
       "      <td>7.0</td>\n",
       "      <td>surf</td>\n",
       "      <td>Seattle-Tacoma-Bellevue, WA MSA</td>\n",
       "      <td>0.0</td>\n",
       "      <td>0.0</td>\n",
       "      <td>0.0</td>\n",
       "      <td>0.00</td>\n",
       "      <td>0.0</td>\n",
       "      <td>0.0</td>\n",
       "      <td>20.00</td>\n",
       "    </tr>\n",
       "    <tr>\n",
       "      <th>2</th>\n",
       "      <td>1001</td>\n",
       "      <td>9.0</td>\n",
       "      <td>315.0</td>\n",
       "      <td>49.0</td>\n",
       "      <td>44.0</td>\n",
       "      <td>13314.82</td>\n",
       "      <td>14.0</td>\n",
       "      <td>surf</td>\n",
       "      <td>Seattle-Tacoma-Bellevue, WA MSA</td>\n",
       "      <td>0.0</td>\n",
       "      <td>0.0</td>\n",
       "      <td>0.0</td>\n",
       "      <td>0.00</td>\n",
       "      <td>0.0</td>\n",
       "      <td>0.0</td>\n",
       "      <td>20.00</td>\n",
       "    </tr>\n",
       "    <tr>\n",
       "      <th>3</th>\n",
       "      <td>1001</td>\n",
       "      <td>10.0</td>\n",
       "      <td>393.0</td>\n",
       "      <td>65.0</td>\n",
       "      <td>53.0</td>\n",
       "      <td>22330.49</td>\n",
       "      <td>22.0</td>\n",
       "      <td>surf</td>\n",
       "      <td>Seattle-Tacoma-Bellevue, WA MSA</td>\n",
       "      <td>0.0</td>\n",
       "      <td>0.0</td>\n",
       "      <td>3.0</td>\n",
       "      <td>0.09</td>\n",
       "      <td>7.0</td>\n",
       "      <td>70.0</td>\n",
       "      <td>90.09</td>\n",
       "    </tr>\n",
       "    <tr>\n",
       "      <th>4</th>\n",
       "      <td>1001</td>\n",
       "      <td>11.0</td>\n",
       "      <td>426.0</td>\n",
       "      <td>64.0</td>\n",
       "      <td>36.0</td>\n",
       "      <td>18504.30</td>\n",
       "      <td>19.0</td>\n",
       "      <td>surf</td>\n",
       "      <td>Seattle-Tacoma-Bellevue, WA MSA</td>\n",
       "      <td>0.0</td>\n",
       "      <td>0.0</td>\n",
       "      <td>0.0</td>\n",
       "      <td>0.00</td>\n",
       "      <td>4.0</td>\n",
       "      <td>40.0</td>\n",
       "      <td>60.00</td>\n",
       "    </tr>\n",
       "    <tr>\n",
       "      <th>...</th>\n",
       "      <td>...</td>\n",
       "      <td>...</td>\n",
       "      <td>...</td>\n",
       "      <td>...</td>\n",
       "      <td>...</td>\n",
       "      <td>...</td>\n",
       "      <td>...</td>\n",
       "      <td>...</td>\n",
       "      <td>...</td>\n",
       "      <td>...</td>\n",
       "      <td>...</td>\n",
       "      <td>...</td>\n",
       "      <td>...</td>\n",
       "      <td>...</td>\n",
       "      <td>...</td>\n",
       "      <td>...</td>\n",
       "    </tr>\n",
       "    <tr>\n",
       "      <th>2298</th>\n",
       "      <td>1307</td>\n",
       "      <td>NaN</td>\n",
       "      <td>NaN</td>\n",
       "      <td>NaN</td>\n",
       "      <td>NaN</td>\n",
       "      <td>NaN</td>\n",
       "      <td>NaN</td>\n",
       "      <td>surf</td>\n",
       "      <td>Boston-Cambridge-Newton, MA-NH MSA</td>\n",
       "      <td>0.0</td>\n",
       "      <td>0.0</td>\n",
       "      <td>0.0</td>\n",
       "      <td>0.00</td>\n",
       "      <td>0.0</td>\n",
       "      <td>0.0</td>\n",
       "      <td>20.00</td>\n",
       "    </tr>\n",
       "    <tr>\n",
       "      <th>2299</th>\n",
       "      <td>1319</td>\n",
       "      <td>NaN</td>\n",
       "      <td>NaN</td>\n",
       "      <td>NaN</td>\n",
       "      <td>NaN</td>\n",
       "      <td>NaN</td>\n",
       "      <td>NaN</td>\n",
       "      <td>surf</td>\n",
       "      <td>Colorado Springs, CO MSA</td>\n",
       "      <td>0.0</td>\n",
       "      <td>0.0</td>\n",
       "      <td>0.0</td>\n",
       "      <td>0.00</td>\n",
       "      <td>0.0</td>\n",
       "      <td>0.0</td>\n",
       "      <td>20.00</td>\n",
       "    </tr>\n",
       "    <tr>\n",
       "      <th>2300</th>\n",
       "      <td>1378</td>\n",
       "      <td>NaN</td>\n",
       "      <td>NaN</td>\n",
       "      <td>NaN</td>\n",
       "      <td>NaN</td>\n",
       "      <td>NaN</td>\n",
       "      <td>NaN</td>\n",
       "      <td>surf</td>\n",
       "      <td>Denver-Aurora-Lakewood, CO MSA</td>\n",
       "      <td>0.0</td>\n",
       "      <td>0.0</td>\n",
       "      <td>0.0</td>\n",
       "      <td>0.00</td>\n",
       "      <td>0.0</td>\n",
       "      <td>0.0</td>\n",
       "      <td>20.00</td>\n",
       "    </tr>\n",
       "    <tr>\n",
       "      <th>2301</th>\n",
       "      <td>1463</td>\n",
       "      <td>NaN</td>\n",
       "      <td>NaN</td>\n",
       "      <td>NaN</td>\n",
       "      <td>NaN</td>\n",
       "      <td>NaN</td>\n",
       "      <td>NaN</td>\n",
       "      <td>ultimate</td>\n",
       "      <td>Atlanta-Sandy Springs-Roswell, GA MSA</td>\n",
       "      <td>0.0</td>\n",
       "      <td>0.0</td>\n",
       "      <td>0.0</td>\n",
       "      <td>0.00</td>\n",
       "      <td>0.0</td>\n",
       "      <td>0.0</td>\n",
       "      <td>70.00</td>\n",
       "    </tr>\n",
       "    <tr>\n",
       "      <th>2302</th>\n",
       "      <td>1473</td>\n",
       "      <td>NaN</td>\n",
       "      <td>NaN</td>\n",
       "      <td>NaN</td>\n",
       "      <td>NaN</td>\n",
       "      <td>NaN</td>\n",
       "      <td>NaN</td>\n",
       "      <td>surf</td>\n",
       "      <td>Louisville/Jefferson County, KY-IN MSA</td>\n",
       "      <td>0.0</td>\n",
       "      <td>0.0</td>\n",
       "      <td>0.0</td>\n",
       "      <td>0.00</td>\n",
       "      <td>0.0</td>\n",
       "      <td>0.0</td>\n",
       "      <td>20.00</td>\n",
       "    </tr>\n",
       "  </tbody>\n",
       "</table>\n",
       "<p>2303 rows × 16 columns</p>\n",
       "</div>"
      ],
      "text/plain": [
       "      user_id   mes  minutos usados  llamadas hechas  cantidad_de_mensajes  \\\n",
       "0        1000  12.0           124.0             16.0                  11.0   \n",
       "1        1001   8.0           182.0             27.0                  30.0   \n",
       "2        1001   9.0           315.0             49.0                  44.0   \n",
       "3        1001  10.0           393.0             65.0                  53.0   \n",
       "4        1001  11.0           426.0             64.0                  36.0   \n",
       "...       ...   ...             ...              ...                   ...   \n",
       "2298     1307   NaN             NaN              NaN                   NaN   \n",
       "2299     1319   NaN             NaN              NaN                   NaN   \n",
       "2300     1378   NaN             NaN              NaN                   NaN   \n",
       "2301     1463   NaN             NaN              NaN                   NaN   \n",
       "2302     1473   NaN             NaN              NaN                   NaN   \n",
       "\n",
       "      datos_usados  datos_usados_gb      plan  \\\n",
       "0          1901.47              2.0  ultimate   \n",
       "1          6919.15              7.0      surf   \n",
       "2         13314.82             14.0      surf   \n",
       "3         22330.49             22.0      surf   \n",
       "4         18504.30             19.0      surf   \n",
       "...            ...              ...       ...   \n",
       "2298           NaN              NaN      surf   \n",
       "2299           NaN              NaN      surf   \n",
       "2300           NaN              NaN      surf   \n",
       "2301           NaN              NaN  ultimate   \n",
       "2302           NaN              NaN      surf   \n",
       "\n",
       "                                        city  minutos_cobrables  \\\n",
       "0      Atlanta-Sandy Springs-Roswell, GA MSA                0.0   \n",
       "1            Seattle-Tacoma-Bellevue, WA MSA                0.0   \n",
       "2            Seattle-Tacoma-Bellevue, WA MSA                0.0   \n",
       "3            Seattle-Tacoma-Bellevue, WA MSA                0.0   \n",
       "4            Seattle-Tacoma-Bellevue, WA MSA                0.0   \n",
       "...                                      ...                ...   \n",
       "2298      Boston-Cambridge-Newton, MA-NH MSA                0.0   \n",
       "2299                Colorado Springs, CO MSA                0.0   \n",
       "2300          Denver-Aurora-Lakewood, CO MSA                0.0   \n",
       "2301   Atlanta-Sandy Springs-Roswell, GA MSA                0.0   \n",
       "2302  Louisville/Jefferson County, KY-IN MSA                0.0   \n",
       "\n",
       "      cargo_extra_minutos  messages_cobrables  cargo_extra_messages  \\\n",
       "0                     0.0                 0.0                  0.00   \n",
       "1                     0.0                 0.0                  0.00   \n",
       "2                     0.0                 0.0                  0.00   \n",
       "3                     0.0                 3.0                  0.09   \n",
       "4                     0.0                 0.0                  0.00   \n",
       "...                   ...                 ...                   ...   \n",
       "2298                  0.0                 0.0                  0.00   \n",
       "2299                  0.0                 0.0                  0.00   \n",
       "2300                  0.0                 0.0                  0.00   \n",
       "2301                  0.0                 0.0                  0.00   \n",
       "2302                  0.0                 0.0                  0.00   \n",
       "\n",
       "      datos_cobrables  cargo_extra_datos  Total_a_pagar  \n",
       "0                 0.0                0.0          70.00  \n",
       "1                 0.0                0.0          20.00  \n",
       "2                 0.0                0.0          20.00  \n",
       "3                 7.0               70.0          90.09  \n",
       "4                 4.0               40.0          60.00  \n",
       "...               ...                ...            ...  \n",
       "2298              0.0                0.0          20.00  \n",
       "2299              0.0                0.0          20.00  \n",
       "2300              0.0                0.0          20.00  \n",
       "2301              0.0                0.0          70.00  \n",
       "2302              0.0                0.0          20.00  \n",
       "\n",
       "[2303 rows x 16 columns]"
      ]
     },
     "execution_count": 112,
     "metadata": {},
     "output_type": "execute_result"
    }
   ],
   "source": [
    " consumo_planes"
   ]
  },
  {
   "cell_type": "markdown",
   "metadata": {
    "id": "KAFidcXZ0q1P"
   },
   "source": [
    "Se puede observar que la rentabilidad total de surf es significativamente mayor a la del plan ultimate, más de unos $40,000de diferencia, sin embargo es mucho más interesante que la rentabilidad promedio mensual es mucho más alta en ultimate que en surf!\n",
    "\n",
    "Puede que más usuarios tengan elplan surf pero quien más ingresos den por mes sean los del ultimate?"
   ]
  },
  {
   "cell_type": "markdown",
   "metadata": {
    "id": "ajJ7VKeI0q1Q"
   },
   "source": [
    "## Prueba las hipótesis estadísticas"
   ]
  },
  {
   "cell_type": "markdown",
   "metadata": {
    "id": "AdXAZ-yL0q1Q"
   },
   "source": [
    "[Prueba la hipótesis de que son diferentes los ingresos promedio procedentes de los usuarios de los planes de llamada Ultimate y Surf.]"
   ]
  },
  {
   "cell_type": "markdown",
   "metadata": {
    "id": "IQwa_hsh0q1Q"
   },
   "source": [
    "[Elabora las hipótesis nula y alternativa, escoge la prueba estadística, determina el valor alfa.]"
   ]
  },
  {
   "cell_type": "code",
   "execution_count": 113,
   "metadata": {
    "id": "nFoPNlPq0q1R"
   },
   "outputs": [],
   "source": [
    "alpha =0.05\n",
    "sample_1 =  consumo_planes.query('plan == \"surf\"')['Total_a_pagar'] # Prueba las hipótesis\n",
    "\n"
   ]
  },
  {
   "cell_type": "code",
   "execution_count": 114,
   "metadata": {},
   "outputs": [
    {
     "data": {
      "text/plain": [
       "1       20.00\n",
       "2       20.00\n",
       "3       90.09\n",
       "4       60.00\n",
       "5       60.00\n",
       "        ...  \n",
       "2295    20.00\n",
       "2298    20.00\n",
       "2299    20.00\n",
       "2300    20.00\n",
       "2302    20.00\n",
       "Name: Total_a_pagar, Length: 1579, dtype: float64"
      ]
     },
     "execution_count": 114,
     "metadata": {},
     "output_type": "execute_result"
    }
   ],
   "source": [
    "sample_1"
   ]
  },
  {
   "cell_type": "code",
   "execution_count": 115,
   "metadata": {},
   "outputs": [],
   "source": [
    "sample_2 = consumo_planes.query('plan == \"ultimate\"')['Total_a_pagar']"
   ]
  },
  {
   "cell_type": "code",
   "execution_count": 116,
   "metadata": {},
   "outputs": [
    {
     "data": {
      "text/plain": [
       "0       70.0\n",
       "19      70.0\n",
       "20      84.0\n",
       "26      70.0\n",
       "27      70.0\n",
       "        ... \n",
       "2292    70.0\n",
       "2293    70.0\n",
       "2296    70.0\n",
       "2297    70.0\n",
       "2301    70.0\n",
       "Name: Total_a_pagar, Length: 724, dtype: float64"
      ]
     },
     "execution_count": 116,
     "metadata": {},
     "output_type": "execute_result"
    }
   ],
   "source": [
    "sample_2"
   ]
  },
  {
   "cell_type": "markdown",
   "metadata": {},
   "source": [
    " **H0= los promedios mensuales del plan surf son iguales**\n",
    " \n",
    " **H1= los promedios mensuales del plan surf son diferentes**"
   ]
  },
  {
   "cell_type": "code",
   "execution_count": 117,
   "metadata": {},
   "outputs": [
    {
     "name": "stdout",
     "output_type": "stream",
     "text": [
      "p-value:1.218411585212325e-15\n"
     ]
    }
   ],
   "source": [
    "\n",
    "resultados = st.ttest_ind(sample_1,sample_2,equal_var=False)\n",
    "\n",
    "print(f'p-value:{resultados.pvalue}')"
   ]
  },
  {
   "cell_type": "code",
   "execution_count": 118,
   "metadata": {},
   "outputs": [
    {
     "name": "stdout",
     "output_type": "stream",
     "text": [
      "Podemos rechazar la hipotesis nula\n"
     ]
    }
   ],
   "source": [
    "if resultados.pvalue < alpha:\n",
    "    print('Podemos rechazar la hipotesis nula')\n",
    "else: \n",
    "    print('No podemos rechazar la hipotesis nula')"
   ]
  },
  {
   "cell_type": "markdown",
   "metadata": {
    "id": "tCcAruM60q1R"
   },
   "source": [
    "[Prueba la hipótesis de que el ingreso promedio de los usuarios del área NY-NJ es diferente al de los usuarios de otras regiones.]"
   ]
  },
  {
   "cell_type": "code",
   "execution_count": 119,
   "metadata": {},
   "outputs": [],
   "source": [
    "NY_NJ = consumo_planes[consumo_planes.city.str.contains('NY-NJ')]"
   ]
  },
  {
   "cell_type": "code",
   "execution_count": 120,
   "metadata": {},
   "outputs": [
    {
     "name": "stdout",
     "output_type": "stream",
     "text": [
      "la rentabilidad total en la region NY-NJ es de:22660.35\n",
      "la rentabilidad promedio mensual en la region NY-NJ es de:59.94801587301587\n"
     ]
    }
   ],
   "source": [
    "rentabilidad_nynj = NY_NJ['Total_a_pagar'].sum()\n",
    "rentabilidad_promedio_mensual_nynj = NY_NJ['Total_a_pagar'].mean()\n",
    "print(f'la rentabilidad total en la region NY-NJ es de:{rentabilidad_nynj}')\n",
    "print(f'la rentabilidad promedio mensual en la region NY-NJ es de:{rentabilidad_promedio_mensual_nynj }')"
   ]
  },
  {
   "cell_type": "code",
   "execution_count": 121,
   "metadata": {},
   "outputs": [],
   "source": [
    "otras_regiones = consumo_planes [~consumo_planes.city.str.contains ('NY-NJ')]"
   ]
  },
  {
   "cell_type": "code",
   "execution_count": 122,
   "metadata": {},
   "outputs": [
    {
     "name": "stdout",
     "output_type": "stream",
     "text": [
      "la rentabilidad total en otras regiones es de:125296.83\n",
      "la rentabilidad promedio mensual en otras regiones es de:65.08926233766233\n"
     ]
    }
   ],
   "source": [
    "rentabilidad_otras_regiones = otras_regiones ['Total_a_pagar'].sum()\n",
    "rentabilidad_promedio_otrasd_regiones = otras_regiones ['Total_a_pagar'].mean()\n",
    "print(f'la rentabilidad total en otras regiones es de:{rentabilidad_otras_regiones}')\n",
    "print(f'la rentabilidad promedio mensual en otras regiones es de:{rentabilidad_promedio_otrasd_regiones}')"
   ]
  },
  {
   "cell_type": "markdown",
   "metadata": {
    "id": "LsBgitqj0q1R"
   },
   "source": [
    "[Elabora las hipótesis nula y alternativa, escoge la prueba estadística, determina el valor alfa.]"
   ]
  },
  {
   "cell_type": "code",
   "execution_count": 123,
   "metadata": {},
   "outputs": [],
   "source": [
    "alpha =0.05 \n",
    "sample_3 = NY_NJ['Total_a_pagar']"
   ]
  },
  {
   "cell_type": "code",
   "execution_count": 124,
   "metadata": {},
   "outputs": [
    {
     "data": {
      "text/plain": [
       "56       20.00\n",
       "57       38.84\n",
       "75       20.00\n",
       "76      100.00\n",
       "77       20.00\n",
       "         ...  \n",
       "2264    120.42\n",
       "2265    170.27\n",
       "2266    200.00\n",
       "2267    110.33\n",
       "2297     70.00\n",
       "Name: Total_a_pagar, Length: 378, dtype: float64"
      ]
     },
     "execution_count": 124,
     "metadata": {},
     "output_type": "execute_result"
    }
   ],
   "source": [
    "sample_3"
   ]
  },
  {
   "cell_type": "code",
   "execution_count": 125,
   "metadata": {},
   "outputs": [],
   "source": [
    "sample_4 = otras_regiones['Total_a_pagar']"
   ]
  },
  {
   "cell_type": "code",
   "execution_count": 126,
   "metadata": {},
   "outputs": [
    {
     "data": {
      "text/plain": [
       "0       70.00\n",
       "1       20.00\n",
       "2       20.00\n",
       "3       90.09\n",
       "4       60.00\n",
       "        ...  \n",
       "2298    20.00\n",
       "2299    20.00\n",
       "2300    20.00\n",
       "2301    70.00\n",
       "2302    20.00\n",
       "Name: Total_a_pagar, Length: 1925, dtype: float64"
      ]
     },
     "execution_count": 126,
     "metadata": {},
     "output_type": "execute_result"
    }
   ],
   "source": [
    "sample_4"
   ]
  },
  {
   "cell_type": "markdown",
   "metadata": {},
   "source": [
    "**H0 = los promedios mensuales entre la region NY-NJ y otras regiones son iguales** \n",
    "\n",
    "**H1 = los promedios mensuales entre la region NY-NJ y otras regiones son diferentes** "
   ]
  },
  {
   "cell_type": "code",
   "execution_count": 127,
   "metadata": {
    "id": "Cqcj7wrZ0q1S"
   },
   "outputs": [
    {
     "name": "stdout",
     "output_type": "stream",
     "text": [
      "p-value:1.218411585212325e-15\n"
     ]
    }
   ],
   "source": [
    "# Prueba las hipótesis\n",
    "#H0 = los promedios mensuales entre la region NY-NJ y otras regiones son iguales\n",
    "\n",
    "resultados_regiones = st.ttest_ind(sample_3,sample_4,equal_var=False)\n",
    "\n",
    "print(f'p-value:{resultados.pvalue}')\n"
   ]
  },
  {
   "cell_type": "code",
   "execution_count": 128,
   "metadata": {},
   "outputs": [
    {
     "name": "stdout",
     "output_type": "stream",
     "text": [
      "Podemos rechazar la hipotesis nula\n"
     ]
    }
   ],
   "source": [
    "if resultados_regiones.pvalue < alpha:\n",
    "    print('Podemos rechazar la hipotesis nula')\n",
    "else: \n",
    "    print('No podemos rechazar la hipotesis nula')"
   ]
  },
  {
   "cell_type": "markdown",
   "metadata": {
    "id": "bbTR8UQO0q1T"
   },
   "source": [
    "## Conclusión general\n",
    "\n",
    "[En esta sección final, enumera tus conclusiones importantes. Asegúrate de que estas abarquen todas las decisiones (suposiciones) importantes que adoptaste y que determinaron la forma elegida para procesar y analizar los datos.]\n",
    "\n",
    "Parece ser que el plan surf contiene más usuarios, por lo que aparentemente es el que genera más dinero, sin embargo se pudo demostrar que el plan que tiene un promedio de imgresos mensuales más alto es el plan ultimate, al tener menos usuarios genera menos dinero total, pero los ingresos mensuales de este son mucho mayores al surf. \n",
    "\n",
    "Parece ser que el uso de beneficios es un muy buen ingreso a la compañia, ya que se encontraron en todas un porcentaje de usuarios que sobrepasaban los beneficios incluidos en su plan, y principallemnte se vio en internet: \n",
    "\n",
    "El 24% de usuarios se les cobrara minutos, ya que han pasado lo otorgado por el plan que tienen.\n",
    "En cuanto a mensajes ,Se cobra 14% de los usuarios, ya que han pasado el numero de mensajes.\n",
    "y el 41 % de los usarios se han excedido en los datos utilizados, pues se han acabado los que el plan otorgaba y tendran un cargo extra. \n",
    "\n",
    "\n"
   ]
  },
  {
   "cell_type": "markdown",
   "metadata": {},
   "source": [
    "Al realizar una prueba por regiones donde unicamente se excluian a la region NY-NJ, de las demás (72), no era de sorprender que las otras regiones tuvieran un total de ingresos más alto que el de solo una, la diferencia era más de una quinta parte. \n",
    "Lo realmente sorprendente fue que el promedio mensual fue más alto e"
   ]
  }
 ],
 "metadata": {
  "ExecuteTimeLog": [
   {
    "duration": 828,
    "start_time": "2021-11-16T09:21:11.304Z"
   },
   {
    "duration": 893,
    "start_time": "2021-11-16T09:21:17.728Z"
   },
   {
    "duration": 1150,
    "start_time": "2021-11-16T09:21:29.568Z"
   },
   {
    "duration": 3,
    "start_time": "2021-11-16T09:24:14.495Z"
   },
   {
    "duration": 120,
    "start_time": "2021-11-16T09:24:46.630Z"
   },
   {
    "duration": 3,
    "start_time": "2021-11-16T09:28:27.882Z"
   },
   {
    "duration": 4,
    "start_time": "2021-11-16T09:29:54.281Z"
   },
   {
    "duration": 3,
    "start_time": "2021-11-16T09:30:45.936Z"
   },
   {
    "duration": 4,
    "start_time": "2021-11-16T09:31:06.300Z"
   },
   {
    "duration": 113,
    "start_time": "2021-11-16T09:31:37.208Z"
   },
   {
    "duration": 143,
    "start_time": "2021-11-16T09:31:48.656Z"
   },
   {
    "duration": 98,
    "start_time": "2021-11-16T09:31:55.678Z"
   },
   {
    "duration": 3,
    "start_time": "2021-11-16T09:32:08.535Z"
   },
   {
    "duration": 111,
    "start_time": "2021-11-16T09:32:10.120Z"
   },
   {
    "duration": 3,
    "start_time": "2021-11-16T09:32:15.732Z"
   },
   {
    "duration": 4,
    "start_time": "2021-11-16T09:32:29.423Z"
   },
   {
    "duration": 3,
    "start_time": "2021-11-16T10:03:03.074Z"
   },
   {
    "duration": 3,
    "start_time": "2021-11-16T10:10:01.288Z"
   },
   {
    "duration": 3,
    "start_time": "2021-11-16T10:10:46.923Z"
   },
   {
    "duration": 121,
    "start_time": "2021-11-16T10:37:46.494Z"
   },
   {
    "duration": 125,
    "start_time": "2021-11-16T10:38:20.632Z"
   },
   {
    "duration": 112,
    "start_time": "2021-11-16T10:46:53.001Z"
   },
   {
    "duration": 110,
    "start_time": "2021-11-16T10:48:25.775Z"
   },
   {
    "duration": 3,
    "start_time": "2021-11-16T10:50:18.720Z"
   },
   {
    "duration": 4,
    "start_time": "2021-11-16T10:50:37.649Z"
   },
   {
    "duration": 2,
    "start_time": "2021-11-16T10:50:51.884Z"
   },
   {
    "duration": 3,
    "start_time": "2021-11-16T10:51:56.237Z"
   },
   {
    "duration": 101,
    "start_time": "2021-11-16T10:53:13.791Z"
   },
   {
    "duration": 3,
    "start_time": "2021-11-16T10:55:59.186Z"
   },
   {
    "duration": 3,
    "start_time": "2021-11-16T10:56:10.751Z"
   },
   {
    "duration": 3,
    "start_time": "2021-11-16T10:56:49.038Z"
   },
   {
    "duration": 3,
    "start_time": "2021-11-16T10:56:49.174Z"
   },
   {
    "duration": 4,
    "start_time": "2021-11-16T10:56:49.414Z"
   },
   {
    "duration": 3,
    "start_time": "2021-11-16T10:56:49.680Z"
   },
   {
    "duration": 3,
    "start_time": "2021-11-16T10:56:50.370Z"
   },
   {
    "duration": 114,
    "start_time": "2021-11-16T10:59:34.518Z"
   },
   {
    "duration": 3,
    "start_time": "2021-11-16T11:01:41.201Z"
   },
   {
    "duration": 116,
    "start_time": "2021-11-16T11:01:48.754Z"
   },
   {
    "duration": 3,
    "start_time": "2021-11-16T11:02:16.685Z"
   },
   {
    "duration": 3,
    "start_time": "2021-11-16T11:02:19.479Z"
   },
   {
    "duration": 3,
    "start_time": "2021-11-16T11:02:47.067Z"
   },
   {
    "duration": 3,
    "start_time": "2021-11-16T11:02:49.353Z"
   },
   {
    "duration": 3,
    "start_time": "2021-11-16T11:03:07.835Z"
   },
   {
    "duration": 3,
    "start_time": "2021-11-16T11:03:07.953Z"
   },
   {
    "duration": 112,
    "start_time": "2021-11-16T11:07:52.072Z"
   },
   {
    "duration": 187,
    "start_time": "2021-11-16T11:09:23.468Z"
   },
   {
    "duration": 4,
    "start_time": "2021-11-16T11:10:01.455Z"
   },
   {
    "duration": 3,
    "start_time": "2021-11-16T11:10:05.069Z"
   },
   {
    "duration": 4,
    "start_time": "2021-11-16T11:10:13.376Z"
   },
   {
    "duration": 3,
    "start_time": "2021-11-16T11:10:14.434Z"
   },
   {
    "duration": 3,
    "start_time": "2021-11-16T11:10:22.853Z"
   },
   {
    "duration": 4,
    "start_time": "2021-11-16T11:27:29.279Z"
   },
   {
    "duration": 4,
    "start_time": "2021-11-16T11:29:08.919Z"
   },
   {
    "duration": 118,
    "start_time": "2021-11-16T11:29:46.703Z"
   },
   {
    "duration": 437,
    "start_time": "2021-11-16T11:36:02.181Z"
   },
   {
    "duration": 157,
    "start_time": "2021-11-16T11:36:14.388Z"
   },
   {
    "duration": 207,
    "start_time": "2021-11-16T11:47:15.898Z"
   },
   {
    "duration": 3,
    "start_time": "2021-11-16T11:53:52.092Z"
   },
   {
    "duration": 3,
    "start_time": "2021-11-16T11:53:52.236Z"
   },
   {
    "duration": 3,
    "start_time": "2021-11-16T11:59:12.005Z"
   },
   {
    "duration": 112,
    "start_time": "2021-11-16T12:00:33.446Z"
   },
   {
    "duration": 3,
    "start_time": "2021-11-16T12:02:14.453Z"
   },
   {
    "duration": 3,
    "start_time": "2021-11-16T12:02:39.512Z"
   },
   {
    "duration": 106,
    "start_time": "2021-11-16T12:03:03.460Z"
   },
   {
    "duration": 3,
    "start_time": "2021-11-17T20:37:21.139Z"
   },
   {
    "duration": 3,
    "start_time": "2021-11-17T20:37:22.229Z"
   },
   {
    "duration": 3,
    "start_time": "2021-11-17T20:38:38.806Z"
   },
   {
    "duration": 3,
    "start_time": "2021-11-17T20:38:41.958Z"
   },
   {
    "duration": 3,
    "start_time": "2021-11-17T20:43:46.551Z"
   },
   {
    "duration": 4,
    "start_time": "2021-11-17T20:58:21.835Z"
   },
   {
    "duration": 3,
    "start_time": "2021-11-17T20:59:21.872Z"
   },
   {
    "duration": 4,
    "start_time": "2021-11-17T20:59:45.352Z"
   },
   {
    "duration": 4,
    "start_time": "2021-11-17T20:59:49.646Z"
   },
   {
    "duration": 159,
    "start_time": "2021-11-17T21:02:26.949Z"
   },
   {
    "duration": 3,
    "start_time": "2021-11-17T21:03:53.461Z"
   },
   {
    "duration": 3,
    "start_time": "2021-11-17T21:03:53.694Z"
   },
   {
    "duration": 3,
    "start_time": "2021-11-17T21:05:28.145Z"
   },
   {
    "duration": 116,
    "start_time": "2021-11-17T21:05:57.787Z"
   },
   {
    "duration": 3,
    "start_time": "2021-11-17T21:06:37.993Z"
   },
   {
    "duration": 3,
    "start_time": "2021-11-17T21:06:38.261Z"
   },
   {
    "duration": 3,
    "start_time": "2021-11-17T21:11:54.358Z"
   },
   {
    "duration": 3,
    "start_time": "2021-11-17T21:12:43.846Z"
   },
   {
    "duration": 4,
    "start_time": "2021-11-17T21:13:08.773Z"
   },
   {
    "duration": 3,
    "start_time": "2021-11-17T21:14:44.441Z"
   },
   {
    "duration": 3,
    "start_time": "2021-11-17T21:15:42.059Z"
   },
   {
    "duration": 4,
    "start_time": "2021-11-17T21:15:51.995Z"
   },
   {
    "duration": 3,
    "start_time": "2021-11-17T21:15:53.923Z"
   },
   {
    "duration": 3,
    "start_time": "2021-11-17T21:15:55.282Z"
   },
   {
    "duration": 3,
    "start_time": "2021-11-17T21:16:28.492Z"
   },
   {
    "duration": 3,
    "start_time": "2021-11-17T21:16:32.603Z"
   },
   {
    "duration": 3,
    "start_time": "2021-11-17T21:17:06.941Z"
   },
   {
    "duration": 98,
    "start_time": "2021-11-17T21:18:05.733Z"
   },
   {
    "duration": 4,
    "start_time": "2021-11-17T21:21:35.255Z"
   },
   {
    "duration": 3,
    "start_time": "2021-11-17T21:21:37.804Z"
   },
   {
    "duration": 4,
    "start_time": "2021-11-17T21:23:06.071Z"
   },
   {
    "duration": 3,
    "start_time": "2021-11-17T21:23:24.799Z"
   },
   {
    "duration": 3,
    "start_time": "2021-11-17T21:23:32.591Z"
   },
   {
    "duration": 98,
    "start_time": "2021-11-17T21:28:31.559Z"
   },
   {
    "duration": 3,
    "start_time": "2021-11-17T21:28:45.448Z"
   },
   {
    "duration": 3,
    "start_time": "2021-11-17T21:29:17.303Z"
   },
   {
    "duration": 3,
    "start_time": "2021-11-17T21:29:29.617Z"
   },
   {
    "duration": 3,
    "start_time": "2021-11-17T21:29:32.681Z"
   },
   {
    "duration": 3,
    "start_time": "2021-11-17T21:36:11.474Z"
   },
   {
    "duration": 3,
    "start_time": "2021-11-17T21:36:14.791Z"
   },
   {
    "duration": 3,
    "start_time": "2021-11-17T21:36:53.943Z"
   },
   {
    "duration": 3,
    "start_time": "2021-11-17T21:36:56.165Z"
   },
   {
    "duration": 4,
    "start_time": "2021-11-17T21:37:16.590Z"
   },
   {
    "duration": 3,
    "start_time": "2021-11-17T21:37:22.702Z"
   },
   {
    "duration": 4,
    "start_time": "2021-11-17T21:38:03.479Z"
   },
   {
    "duration": 3,
    "start_time": "2021-11-17T21:38:08.601Z"
   },
   {
    "duration": 3,
    "start_time": "2021-11-17T21:38:12.928Z"
   },
   {
    "duration": 3,
    "start_time": "2021-11-17T21:38:48.896Z"
   },
   {
    "duration": 2,
    "start_time": "2021-11-17T21:38:49.171Z"
   },
   {
    "duration": 4,
    "start_time": "2021-11-17T21:39:57.889Z"
   },
   {
    "duration": 3,
    "start_time": "2021-11-17T21:39:58.057Z"
   },
   {
    "duration": 3,
    "start_time": "2021-11-17T21:41:20.108Z"
   },
   {
    "duration": 3,
    "start_time": "2021-11-17T21:41:20.629Z"
   },
   {
    "duration": 3,
    "start_time": "2021-11-17T21:42:49.136Z"
   },
   {
    "duration": 3,
    "start_time": "2021-11-17T21:43:15.137Z"
   },
   {
    "duration": 4,
    "start_time": "2021-11-17T21:43:16.766Z"
   },
   {
    "duration": 4,
    "start_time": "2021-11-17T21:43:31.711Z"
   },
   {
    "duration": 3,
    "start_time": "2021-11-17T21:43:36.312Z"
   },
   {
    "duration": 4,
    "start_time": "2021-11-17T21:45:08.825Z"
   },
   {
    "duration": 4,
    "start_time": "2021-11-17T21:45:10.119Z"
   },
   {
    "duration": 4,
    "start_time": "2021-11-17T21:45:13.748Z"
   },
   {
    "duration": 3,
    "start_time": "2021-11-17T21:45:22.219Z"
   },
   {
    "duration": 3,
    "start_time": "2021-11-17T21:45:33.412Z"
   },
   {
    "duration": 2,
    "start_time": "2021-11-17T21:46:01.885Z"
   },
   {
    "duration": 3,
    "start_time": "2021-11-17T21:46:03.628Z"
   },
   {
    "duration": 107,
    "start_time": "2021-11-17T21:47:32.512Z"
   },
   {
    "duration": 103,
    "start_time": "2021-11-17T21:50:36.243Z"
   },
   {
    "duration": 3,
    "start_time": "2021-11-18T06:28:31.440Z"
   },
   {
    "duration": 3,
    "start_time": "2021-11-18T06:29:00.168Z"
   },
   {
    "duration": 3,
    "start_time": "2021-11-18T06:31:27.008Z"
   },
   {
    "duration": 2,
    "start_time": "2021-11-18T06:35:34.288Z"
   },
   {
    "duration": 2,
    "start_time": "2021-11-18T06:38:04.527Z"
   },
   {
    "duration": 4795,
    "start_time": "2024-07-25T17:13:14.003Z"
   },
   {
    "duration": 376,
    "start_time": "2024-07-25T17:13:22.737Z"
   },
   {
    "duration": 399,
    "start_time": "2024-07-25T17:14:56.688Z"
   },
   {
    "duration": 15,
    "start_time": "2024-07-25T17:15:03.617Z"
   },
   {
    "duration": 18,
    "start_time": "2024-07-25T17:15:21.690Z"
   },
   {
    "duration": 574,
    "start_time": "2024-07-25T17:15:30.220Z"
   },
   {
    "duration": 17,
    "start_time": "2024-07-25T17:15:40.070Z"
   },
   {
    "duration": 15,
    "start_time": "2024-07-25T17:37:39.218Z"
   },
   {
    "duration": 14,
    "start_time": "2024-07-25T17:37:40.270Z"
   },
   {
    "duration": 13,
    "start_time": "2024-07-25T17:37:41.509Z"
   },
   {
    "duration": 13,
    "start_time": "2024-07-25T17:37:42.211Z"
   },
   {
    "duration": 14,
    "start_time": "2024-07-25T17:41:02.663Z"
   },
   {
    "duration": 16,
    "start_time": "2024-07-25T17:41:40.076Z"
   },
   {
    "duration": 13,
    "start_time": "2024-07-25T17:41:56.014Z"
   },
   {
    "duration": 14,
    "start_time": "2024-07-25T17:42:17.911Z"
   },
   {
    "duration": 7,
    "start_time": "2024-07-25T17:44:49.920Z"
   },
   {
    "duration": 23,
    "start_time": "2024-07-25T17:44:54.644Z"
   },
   {
    "duration": 490,
    "start_time": "2024-07-25T17:45:00.690Z"
   },
   {
    "duration": 10,
    "start_time": "2024-07-25T17:45:17.694Z"
   },
   {
    "duration": 13,
    "start_time": "2024-07-25T17:45:26.273Z"
   },
   {
    "duration": 13,
    "start_time": "2024-07-25T17:45:30.789Z"
   },
   {
    "duration": 13,
    "start_time": "2024-07-25T17:45:31.502Z"
   },
   {
    "duration": 14,
    "start_time": "2024-07-25T17:45:32.117Z"
   },
   {
    "duration": 13,
    "start_time": "2024-07-25T17:45:32.876Z"
   },
   {
    "duration": 15,
    "start_time": "2024-07-25T17:45:33.590Z"
   },
   {
    "duration": 13,
    "start_time": "2024-07-25T17:45:34.282Z"
   },
   {
    "duration": 14,
    "start_time": "2024-07-25T17:45:34.950Z"
   },
   {
    "duration": 13,
    "start_time": "2024-07-25T17:45:35.622Z"
   },
   {
    "duration": 13,
    "start_time": "2024-07-25T17:45:36.297Z"
   },
   {
    "duration": 12,
    "start_time": "2024-07-25T17:45:37.258Z"
   },
   {
    "duration": 13,
    "start_time": "2024-07-25T17:45:37.962Z"
   },
   {
    "duration": 13,
    "start_time": "2024-07-25T17:45:38.820Z"
   },
   {
    "duration": 25,
    "start_time": "2024-07-25T17:49:04.555Z"
   },
   {
    "duration": 18,
    "start_time": "2024-07-25T17:49:35.852Z"
   },
   {
    "duration": 27,
    "start_time": "2024-07-25T17:50:12.799Z"
   },
   {
    "duration": 15,
    "start_time": "2024-07-25T17:50:36.973Z"
   },
   {
    "duration": 9,
    "start_time": "2024-07-25T18:22:29.972Z"
   },
   {
    "duration": 9,
    "start_time": "2024-07-25T18:23:29.106Z"
   },
   {
    "duration": 9,
    "start_time": "2024-07-25T18:23:40.820Z"
   },
   {
    "duration": 15,
    "start_time": "2024-07-25T18:24:51.019Z"
   },
   {
    "duration": 60,
    "start_time": "2024-07-25T18:25:36.660Z"
   },
   {
    "duration": 33,
    "start_time": "2024-07-25T18:26:05.310Z"
   },
   {
    "duration": 23,
    "start_time": "2024-07-25T18:26:18.531Z"
   },
   {
    "duration": 22,
    "start_time": "2024-07-25T18:26:22.406Z"
   },
   {
    "duration": 17,
    "start_time": "2024-07-25T18:26:49.934Z"
   },
   {
    "duration": 11,
    "start_time": "2024-07-25T18:27:12.449Z"
   },
   {
    "duration": 21,
    "start_time": "2024-07-25T18:27:21.082Z"
   },
   {
    "duration": 14,
    "start_time": "2024-07-25T18:27:30.295Z"
   },
   {
    "duration": 29,
    "start_time": "2024-07-25T18:41:44.038Z"
   },
   {
    "duration": 13,
    "start_time": "2024-07-25T18:41:53.918Z"
   },
   {
    "duration": 8,
    "start_time": "2024-07-25T18:42:01.819Z"
   },
   {
    "duration": 5,
    "start_time": "2024-07-26T02:23:02.807Z"
   },
   {
    "duration": 15,
    "start_time": "2024-07-26T02:23:25.107Z"
   },
   {
    "duration": 4,
    "start_time": "2024-07-26T02:23:34.274Z"
   },
   {
    "duration": 16,
    "start_time": "2024-07-26T02:23:36.725Z"
   },
   {
    "duration": 5,
    "start_time": "2024-07-26T02:23:41.344Z"
   },
   {
    "duration": 15,
    "start_time": "2024-07-26T02:23:44.273Z"
   },
   {
    "duration": 15,
    "start_time": "2024-07-26T02:23:55.801Z"
   },
   {
    "duration": 5,
    "start_time": "2024-07-26T02:24:05.051Z"
   },
   {
    "duration": 14,
    "start_time": "2024-07-26T02:24:08.707Z"
   },
   {
    "duration": 32,
    "start_time": "2024-07-26T02:37:42.909Z"
   },
   {
    "duration": 12,
    "start_time": "2024-07-26T02:38:02.290Z"
   },
   {
    "duration": 20,
    "start_time": "2024-07-26T02:38:07.798Z"
   },
   {
    "duration": 14,
    "start_time": "2024-07-26T02:40:06.585Z"
   },
   {
    "duration": 12,
    "start_time": "2024-07-26T02:40:26.463Z"
   },
   {
    "duration": 13,
    "start_time": "2024-07-26T02:40:43.635Z"
   },
   {
    "duration": 14,
    "start_time": "2024-07-26T02:40:59.624Z"
   },
   {
    "duration": 12,
    "start_time": "2024-07-26T02:41:05.452Z"
   },
   {
    "duration": 23,
    "start_time": "2024-07-26T02:45:26.221Z"
   },
   {
    "duration": 12,
    "start_time": "2024-07-26T02:46:09.013Z"
   },
   {
    "duration": 20,
    "start_time": "2024-07-26T02:46:19.709Z"
   },
   {
    "duration": 13,
    "start_time": "2024-07-26T02:46:29.391Z"
   },
   {
    "duration": 439,
    "start_time": "2024-07-26T02:48:57.105Z"
   },
   {
    "duration": 33,
    "start_time": "2024-07-26T02:49:24.094Z"
   },
   {
    "duration": 7,
    "start_time": "2024-07-26T02:50:24.293Z"
   },
   {
    "duration": 13,
    "start_time": "2024-07-26T02:50:35.830Z"
   },
   {
    "duration": 18,
    "start_time": "2024-07-26T02:55:18.749Z"
   },
   {
    "duration": 21,
    "start_time": "2024-07-26T02:55:30.841Z"
   },
   {
    "duration": 4,
    "start_time": "2024-07-26T02:59:52.241Z"
   },
   {
    "duration": 14,
    "start_time": "2024-07-26T03:00:11.390Z"
   },
   {
    "duration": 4,
    "start_time": "2024-07-26T03:00:42.363Z"
   },
   {
    "duration": 15,
    "start_time": "2024-07-26T03:00:54.514Z"
   },
   {
    "duration": 13,
    "start_time": "2024-07-26T03:01:34.572Z"
   },
   {
    "duration": 6,
    "start_time": "2024-07-26T03:09:42.590Z"
   },
   {
    "duration": 8,
    "start_time": "2024-07-26T03:16:39.065Z"
   },
   {
    "duration": 7,
    "start_time": "2024-07-26T03:17:53.700Z"
   },
   {
    "duration": 18,
    "start_time": "2024-07-26T03:18:02.774Z"
   },
   {
    "duration": 16,
    "start_time": "2024-07-26T03:18:15.596Z"
   },
   {
    "duration": 7,
    "start_time": "2024-07-26T03:18:49.182Z"
   },
   {
    "duration": 17,
    "start_time": "2024-07-26T03:19:01.297Z"
   },
   {
    "duration": 15,
    "start_time": "2024-07-26T03:19:16.479Z"
   },
   {
    "duration": 5033,
    "start_time": "2024-07-29T20:22:22.687Z"
   },
   {
    "duration": 371,
    "start_time": "2024-07-29T20:22:27.724Z"
   },
   {
    "duration": 16,
    "start_time": "2024-07-29T20:22:28.099Z"
   },
   {
    "duration": 18,
    "start_time": "2024-07-29T20:22:28.119Z"
   },
   {
    "duration": 19,
    "start_time": "2024-07-29T20:22:28.143Z"
   },
   {
    "duration": 17,
    "start_time": "2024-07-29T20:22:28.204Z"
   },
   {
    "duration": 7,
    "start_time": "2024-07-29T20:22:28.226Z"
   },
   {
    "duration": 6,
    "start_time": "2024-07-29T20:22:28.238Z"
   },
   {
    "duration": 7,
    "start_time": "2024-07-29T20:22:28.247Z"
   },
   {
    "duration": 58,
    "start_time": "2024-07-29T20:22:28.258Z"
   },
   {
    "duration": 7,
    "start_time": "2024-07-29T20:22:28.319Z"
   },
   {
    "duration": 16,
    "start_time": "2024-07-29T20:22:28.330Z"
   },
   {
    "duration": 62,
    "start_time": "2024-07-29T20:22:28.350Z"
   },
   {
    "duration": 16,
    "start_time": "2024-07-29T20:22:28.419Z"
   },
   {
    "duration": 5,
    "start_time": "2024-07-29T20:22:28.438Z"
   },
   {
    "duration": 56,
    "start_time": "2024-07-29T20:22:28.447Z"
   },
   {
    "duration": 30,
    "start_time": "2024-07-29T20:22:28.507Z"
   },
   {
    "duration": 22,
    "start_time": "2024-07-29T20:22:28.541Z"
   },
   {
    "duration": 47,
    "start_time": "2024-07-29T20:22:28.566Z"
   },
   {
    "duration": 13,
    "start_time": "2024-07-29T20:22:28.616Z"
   },
   {
    "duration": 22,
    "start_time": "2024-07-29T20:22:28.633Z"
   },
   {
    "duration": 52,
    "start_time": "2024-07-29T20:22:28.658Z"
   },
   {
    "duration": 18,
    "start_time": "2024-07-29T20:22:28.713Z"
   },
   {
    "duration": 21,
    "start_time": "2024-07-29T20:22:28.733Z"
   },
   {
    "duration": 5,
    "start_time": "2024-07-29T20:22:28.757Z"
   },
   {
    "duration": 15,
    "start_time": "2024-07-29T20:22:28.803Z"
   },
   {
    "duration": 25,
    "start_time": "2024-07-29T20:22:28.821Z"
   },
   {
    "duration": 54,
    "start_time": "2024-07-29T20:22:28.849Z"
   },
   {
    "duration": 24,
    "start_time": "2024-07-29T20:22:28.906Z"
   },
   {
    "duration": 20,
    "start_time": "2024-07-29T20:22:28.933Z"
   },
   {
    "duration": 5,
    "start_time": "2024-07-29T20:22:28.956Z"
   },
   {
    "duration": 49,
    "start_time": "2024-07-29T20:22:28.965Z"
   },
   {
    "duration": 12,
    "start_time": "2024-07-29T20:22:29.018Z"
   },
   {
    "duration": 15,
    "start_time": "2024-07-29T20:22:29.033Z"
   },
   {
    "duration": 61,
    "start_time": "2024-07-29T20:22:29.052Z"
   },
   {
    "duration": 5,
    "start_time": "2024-07-29T20:22:29.117Z"
   },
   {
    "duration": 3,
    "start_time": "2024-07-29T20:22:29.126Z"
   },
   {
    "duration": 4,
    "start_time": "2024-07-29T20:22:29.134Z"
   },
   {
    "duration": 4,
    "start_time": "2024-07-29T20:22:29.142Z"
   },
   {
    "duration": 52,
    "start_time": "2024-07-29T20:22:29.150Z"
   },
   {
    "duration": 3,
    "start_time": "2024-07-29T20:22:29.212Z"
   },
   {
    "duration": 3,
    "start_time": "2024-07-29T20:22:29.219Z"
   },
   {
    "duration": 4,
    "start_time": "2024-07-29T20:22:29.226Z"
   },
   {
    "duration": 4,
    "start_time": "2024-07-29T20:22:29.235Z"
   },
   {
    "duration": 7,
    "start_time": "2024-07-29T20:22:29.242Z"
   },
   {
    "duration": 50,
    "start_time": "2024-07-29T20:22:29.252Z"
   },
   {
    "duration": 4,
    "start_time": "2024-07-29T20:22:29.305Z"
   },
   {
    "duration": 4,
    "start_time": "2024-07-29T20:22:29.313Z"
   },
   {
    "duration": 3,
    "start_time": "2024-07-29T20:22:29.322Z"
   },
   {
    "duration": 3,
    "start_time": "2024-07-29T20:22:29.330Z"
   },
   {
    "duration": 4,
    "start_time": "2024-07-29T20:22:29.337Z"
   },
   {
    "duration": 33,
    "start_time": "2024-07-29T21:03:13.274Z"
   },
   {
    "duration": 9,
    "start_time": "2024-07-29T21:04:38.624Z"
   },
   {
    "duration": 5,
    "start_time": "2024-07-29T21:04:48.423Z"
   },
   {
    "duration": 12,
    "start_time": "2024-07-29T21:05:04.693Z"
   },
   {
    "duration": 55,
    "start_time": "2024-07-29T21:23:25.157Z"
   },
   {
    "duration": 13,
    "start_time": "2024-07-29T21:23:44.199Z"
   },
   {
    "duration": 307,
    "start_time": "2024-07-30T19:41:46.028Z"
   },
   {
    "duration": 4803,
    "start_time": "2024-07-30T19:41:54.217Z"
   },
   {
    "duration": 352,
    "start_time": "2024-07-30T19:41:59.025Z"
   },
   {
    "duration": 17,
    "start_time": "2024-07-30T19:41:59.380Z"
   },
   {
    "duration": 17,
    "start_time": "2024-07-30T19:41:59.401Z"
   },
   {
    "duration": 15,
    "start_time": "2024-07-30T19:41:59.421Z"
   },
   {
    "duration": 17,
    "start_time": "2024-07-30T19:41:59.438Z"
   },
   {
    "duration": 5,
    "start_time": "2024-07-30T19:41:59.458Z"
   },
   {
    "duration": 44,
    "start_time": "2024-07-30T19:41:59.466Z"
   },
   {
    "duration": 7,
    "start_time": "2024-07-30T19:41:59.513Z"
   },
   {
    "duration": 15,
    "start_time": "2024-07-30T19:41:59.526Z"
   },
   {
    "duration": 7,
    "start_time": "2024-07-30T19:41:59.545Z"
   },
   {
    "duration": 60,
    "start_time": "2024-07-30T19:41:59.555Z"
   },
   {
    "duration": 17,
    "start_time": "2024-07-30T19:41:59.618Z"
   },
   {
    "duration": 24,
    "start_time": "2024-07-30T19:41:59.638Z"
   },
   {
    "duration": 51,
    "start_time": "2024-07-30T19:41:59.665Z"
   },
   {
    "duration": 4,
    "start_time": "2024-07-30T19:41:59.720Z"
   },
   {
    "duration": 16,
    "start_time": "2024-07-30T19:41:59.727Z"
   },
   {
    "duration": 66,
    "start_time": "2024-07-30T19:41:59.746Z"
   },
   {
    "duration": 20,
    "start_time": "2024-07-30T19:41:59.815Z"
   },
   {
    "duration": 14,
    "start_time": "2024-07-30T19:41:59.838Z"
   },
   {
    "duration": 13,
    "start_time": "2024-07-30T19:41:59.856Z"
   },
   {
    "duration": 51,
    "start_time": "2024-07-30T19:41:59.872Z"
   },
   {
    "duration": 13,
    "start_time": "2024-07-30T19:41:59.926Z"
   },
   {
    "duration": 18,
    "start_time": "2024-07-30T19:41:59.942Z"
   },
   {
    "duration": 61,
    "start_time": "2024-07-30T19:41:59.963Z"
   },
   {
    "duration": 4,
    "start_time": "2024-07-30T19:42:00.028Z"
   },
   {
    "duration": 13,
    "start_time": "2024-07-30T19:42:00.035Z"
   },
   {
    "duration": 54,
    "start_time": "2024-07-30T19:42:00.055Z"
   },
   {
    "duration": 12,
    "start_time": "2024-07-30T19:42:00.112Z"
   },
   {
    "duration": 23,
    "start_time": "2024-07-30T19:42:00.126Z"
   },
   {
    "duration": 14,
    "start_time": "2024-07-30T19:42:00.152Z"
   },
   {
    "duration": 28,
    "start_time": "2024-07-30T19:42:00.208Z"
   },
   {
    "duration": 20,
    "start_time": "2024-07-30T19:42:00.240Z"
   },
   {
    "duration": 4,
    "start_time": "2024-07-30T19:42:00.266Z"
   },
   {
    "duration": 15,
    "start_time": "2024-07-30T19:42:00.306Z"
   },
   {
    "duration": 13,
    "start_time": "2024-07-30T19:42:00.324Z"
   },
   {
    "duration": 12,
    "start_time": "2024-07-30T19:42:00.339Z"
   },
   {
    "duration": 71,
    "start_time": "2024-07-30T19:42:00.354Z"
   },
   {
    "duration": 14,
    "start_time": "2024-07-30T19:42:00.428Z"
   },
   {
    "duration": 3,
    "start_time": "2024-07-30T19:42:00.446Z"
   },
   {
    "duration": 3,
    "start_time": "2024-07-30T19:42:00.453Z"
   },
   {
    "duration": 4,
    "start_time": "2024-07-30T19:42:00.459Z"
   },
   {
    "duration": 4,
    "start_time": "2024-07-30T19:42:00.506Z"
   },
   {
    "duration": 2,
    "start_time": "2024-07-30T19:42:00.516Z"
   },
   {
    "duration": 4,
    "start_time": "2024-07-30T19:42:00.521Z"
   },
   {
    "duration": 4,
    "start_time": "2024-07-30T19:42:00.528Z"
   },
   {
    "duration": 4,
    "start_time": "2024-07-30T19:42:00.536Z"
   },
   {
    "duration": 4,
    "start_time": "2024-07-30T19:42:00.543Z"
   },
   {
    "duration": 5,
    "start_time": "2024-07-30T19:42:00.550Z"
   },
   {
    "duration": 3,
    "start_time": "2024-07-30T19:42:00.607Z"
   },
   {
    "duration": 4,
    "start_time": "2024-07-30T19:42:00.613Z"
   },
   {
    "duration": 4,
    "start_time": "2024-07-30T19:42:00.619Z"
   },
   {
    "duration": 3,
    "start_time": "2024-07-30T19:42:00.627Z"
   },
   {
    "duration": 7,
    "start_time": "2024-07-30T19:42:00.633Z"
   },
   {
    "duration": 3,
    "start_time": "2024-07-30T19:42:00.648Z"
   },
   {
    "duration": 4,
    "start_time": "2024-07-30T19:50:49.010Z"
   },
   {
    "duration": 15,
    "start_time": "2024-07-30T19:50:55.739Z"
   },
   {
    "duration": 403,
    "start_time": "2024-07-30T20:04:55.741Z"
   },
   {
    "duration": 4,
    "start_time": "2024-07-30T20:04:57.670Z"
   },
   {
    "duration": 316,
    "start_time": "2024-07-30T20:05:00.195Z"
   },
   {
    "duration": 5,
    "start_time": "2024-07-30T20:05:16.103Z"
   },
   {
    "duration": 77,
    "start_time": "2024-07-30T20:05:18.315Z"
   },
   {
    "duration": 20,
    "start_time": "2024-07-30T20:07:22.571Z"
   },
   {
    "duration": 13,
    "start_time": "2024-07-30T20:07:42.935Z"
   },
   {
    "duration": 13,
    "start_time": "2024-07-30T20:16:30.935Z"
   },
   {
    "duration": 49,
    "start_time": "2024-07-30T20:18:47.477Z"
   },
   {
    "duration": 13,
    "start_time": "2024-07-30T20:19:06.791Z"
   },
   {
    "duration": 12,
    "start_time": "2024-07-30T20:19:15.263Z"
   },
   {
    "duration": 3,
    "start_time": "2024-07-30T20:20:51.027Z"
   },
   {
    "duration": 11,
    "start_time": "2024-07-30T20:20:53.295Z"
   },
   {
    "duration": 16,
    "start_time": "2024-07-30T20:23:07.235Z"
   },
   {
    "duration": 22,
    "start_time": "2024-07-30T20:25:15.879Z"
   },
   {
    "duration": 3,
    "start_time": "2024-07-30T20:25:27.141Z"
   },
   {
    "duration": 23,
    "start_time": "2024-07-30T20:25:29.803Z"
   },
   {
    "duration": 22,
    "start_time": "2024-07-30T20:25:38.473Z"
   },
   {
    "duration": 30,
    "start_time": "2024-07-30T20:25:47.906Z"
   },
   {
    "duration": 25,
    "start_time": "2024-07-30T20:25:51.006Z"
   },
   {
    "duration": 22,
    "start_time": "2024-07-30T20:26:43.335Z"
   },
   {
    "duration": 1170,
    "start_time": "2024-07-30T20:26:58.977Z"
   },
   {
    "duration": 265,
    "start_time": "2024-07-30T20:27:00.151Z"
   },
   {
    "duration": 15,
    "start_time": "2024-07-30T20:27:00.419Z"
   },
   {
    "duration": 16,
    "start_time": "2024-07-30T20:27:00.438Z"
   },
   {
    "duration": 14,
    "start_time": "2024-07-30T20:27:00.459Z"
   },
   {
    "duration": 15,
    "start_time": "2024-07-30T20:27:00.507Z"
   },
   {
    "duration": 4,
    "start_time": "2024-07-30T20:27:00.527Z"
   },
   {
    "duration": 7,
    "start_time": "2024-07-30T20:27:00.535Z"
   },
   {
    "duration": 15,
    "start_time": "2024-07-30T20:27:00.545Z"
   },
   {
    "duration": 47,
    "start_time": "2024-07-30T20:27:00.566Z"
   },
   {
    "duration": 9,
    "start_time": "2024-07-30T20:27:00.615Z"
   },
   {
    "duration": 18,
    "start_time": "2024-07-30T20:27:00.627Z"
   },
   {
    "duration": 14,
    "start_time": "2024-07-30T20:27:00.648Z"
   },
   {
    "duration": 24,
    "start_time": "2024-07-30T20:27:00.706Z"
   },
   {
    "duration": 15,
    "start_time": "2024-07-30T20:27:00.733Z"
   },
   {
    "duration": 4,
    "start_time": "2024-07-30T20:27:00.751Z"
   },
   {
    "duration": 51,
    "start_time": "2024-07-30T20:27:00.757Z"
   },
   {
    "duration": 31,
    "start_time": "2024-07-30T20:27:00.812Z"
   },
   {
    "duration": 20,
    "start_time": "2024-07-30T20:27:00.846Z"
   },
   {
    "duration": 46,
    "start_time": "2024-07-30T20:27:00.869Z"
   },
   {
    "duration": 12,
    "start_time": "2024-07-30T20:27:00.918Z"
   },
   {
    "duration": 4,
    "start_time": "2024-07-30T20:27:00.934Z"
   },
   {
    "duration": 106,
    "start_time": "2024-07-30T20:27:00.941Z"
   },
   {
    "duration": 27,
    "start_time": "2024-07-30T20:27:01.051Z"
   },
   {
    "duration": 31,
    "start_time": "2024-07-30T20:27:01.081Z"
   },
   {
    "duration": 20,
    "start_time": "2024-07-30T20:27:01.115Z"
   },
   {
    "duration": 12,
    "start_time": "2024-07-30T20:27:01.138Z"
   },
   {
    "duration": 53,
    "start_time": "2024-07-30T20:27:01.153Z"
   },
   {
    "duration": 21,
    "start_time": "2024-07-30T20:27:01.209Z"
   },
   {
    "duration": 5,
    "start_time": "2024-07-30T20:27:01.233Z"
   },
   {
    "duration": 14,
    "start_time": "2024-07-30T20:27:01.241Z"
   },
   {
    "duration": 68,
    "start_time": "2024-07-30T20:27:01.258Z"
   },
   {
    "duration": 12,
    "start_time": "2024-07-30T20:27:01.329Z"
   },
   {
    "duration": 22,
    "start_time": "2024-07-30T20:27:01.345Z"
   },
   {
    "duration": 46,
    "start_time": "2024-07-30T20:27:01.370Z"
   },
   {
    "duration": 25,
    "start_time": "2024-07-30T20:27:01.418Z"
   },
   {
    "duration": 20,
    "start_time": "2024-07-30T20:27:01.445Z"
   },
   {
    "duration": 37,
    "start_time": "2024-07-30T20:27:01.471Z"
   },
   {
    "duration": 14,
    "start_time": "2024-07-30T20:27:01.512Z"
   },
   {
    "duration": 14,
    "start_time": "2024-07-30T20:27:01.529Z"
   },
   {
    "duration": 12,
    "start_time": "2024-07-30T20:27:01.551Z"
   },
   {
    "duration": 68,
    "start_time": "2024-07-30T20:27:01.566Z"
   },
   {
    "duration": 13,
    "start_time": "2024-07-30T20:27:01.638Z"
   },
   {
    "duration": 3,
    "start_time": "2024-07-30T20:27:01.654Z"
   },
   {
    "duration": 49,
    "start_time": "2024-07-30T20:27:01.661Z"
   },
   {
    "duration": 3,
    "start_time": "2024-07-30T20:27:01.713Z"
   },
   {
    "duration": 53,
    "start_time": "2024-07-30T20:27:01.719Z"
   },
   {
    "duration": 32,
    "start_time": "2024-07-30T20:27:01.775Z"
   },
   {
    "duration": 4,
    "start_time": "2024-07-30T20:27:01.811Z"
   },
   {
    "duration": 4,
    "start_time": "2024-07-30T20:27:01.818Z"
   },
   {
    "duration": 4,
    "start_time": "2024-07-30T20:27:01.825Z"
   },
   {
    "duration": 3,
    "start_time": "2024-07-30T20:27:01.833Z"
   },
   {
    "duration": 3,
    "start_time": "2024-07-30T20:27:01.841Z"
   },
   {
    "duration": 4,
    "start_time": "2024-07-30T20:27:01.905Z"
   },
   {
    "duration": 4,
    "start_time": "2024-07-30T20:27:01.912Z"
   },
   {
    "duration": 3,
    "start_time": "2024-07-30T20:27:01.920Z"
   },
   {
    "duration": 5,
    "start_time": "2024-07-30T20:27:01.926Z"
   },
   {
    "duration": 4,
    "start_time": "2024-07-30T20:27:01.936Z"
   },
   {
    "duration": 3,
    "start_time": "2024-07-30T20:27:01.944Z"
   },
   {
    "duration": 3,
    "start_time": "2024-07-30T20:27:02.006Z"
   },
   {
    "duration": 3,
    "start_time": "2024-07-30T20:27:02.013Z"
   },
   {
    "duration": 5,
    "start_time": "2024-07-30T20:28:21.359Z"
   },
   {
    "duration": 14,
    "start_time": "2024-07-30T20:28:23.729Z"
   },
   {
    "duration": 14,
    "start_time": "2024-07-30T20:30:30.984Z"
   },
   {
    "duration": 1295,
    "start_time": "2024-07-30T20:32:32.781Z"
   },
   {
    "duration": 47,
    "start_time": "2024-07-30T20:33:29.738Z"
   },
   {
    "duration": 4,
    "start_time": "2024-07-30T20:35:09.278Z"
   },
   {
    "duration": 15,
    "start_time": "2024-07-30T20:35:24.645Z"
   },
   {
    "duration": 6,
    "start_time": "2024-07-30T20:35:43.320Z"
   },
   {
    "duration": 13,
    "start_time": "2024-07-30T20:35:46.014Z"
   },
   {
    "duration": 23,
    "start_time": "2024-07-30T22:39:32.613Z"
   },
   {
    "duration": 11,
    "start_time": "2024-07-30T22:39:37.086Z"
   },
   {
    "duration": 22,
    "start_time": "2024-07-30T22:41:41.357Z"
   },
   {
    "duration": 23,
    "start_time": "2024-07-30T22:41:56.336Z"
   },
   {
    "duration": 24,
    "start_time": "2024-07-30T22:42:02.703Z"
   },
   {
    "duration": 17,
    "start_time": "2024-07-30T22:42:13.303Z"
   },
   {
    "duration": 3,
    "start_time": "2024-07-30T22:42:44.127Z"
   },
   {
    "duration": 24,
    "start_time": "2024-07-30T22:43:27.135Z"
   },
   {
    "duration": 6,
    "start_time": "2024-07-30T22:43:35.389Z"
   },
   {
    "duration": 14,
    "start_time": "2024-07-30T22:43:37.550Z"
   },
   {
    "duration": 4,
    "start_time": "2024-07-30T22:45:46.704Z"
   },
   {
    "duration": 7,
    "start_time": "2024-07-30T22:47:44.143Z"
   },
   {
    "duration": 7,
    "start_time": "2024-07-30T22:47:51.142Z"
   },
   {
    "duration": 20,
    "start_time": "2024-07-30T22:47:58.399Z"
   },
   {
    "duration": 40,
    "start_time": "2024-07-30T23:05:50.753Z"
   },
   {
    "duration": 47,
    "start_time": "2024-07-30T23:06:29.795Z"
   },
   {
    "duration": 38,
    "start_time": "2024-07-30T23:07:20.742Z"
   },
   {
    "duration": 10,
    "start_time": "2024-07-30T23:09:00.890Z"
   },
   {
    "duration": 37,
    "start_time": "2024-07-30T23:09:09.308Z"
   },
   {
    "duration": 36,
    "start_time": "2024-07-30T23:09:15.762Z"
   },
   {
    "duration": 45,
    "start_time": "2024-07-30T23:09:28.070Z"
   },
   {
    "duration": 1156,
    "start_time": "2024-07-30T23:09:48.539Z"
   },
   {
    "duration": 277,
    "start_time": "2024-07-30T23:09:49.700Z"
   },
   {
    "duration": 15,
    "start_time": "2024-07-30T23:09:49.980Z"
   },
   {
    "duration": 21,
    "start_time": "2024-07-30T23:09:49.998Z"
   },
   {
    "duration": 15,
    "start_time": "2024-07-30T23:09:50.023Z"
   },
   {
    "duration": 13,
    "start_time": "2024-07-30T23:09:50.041Z"
   },
   {
    "duration": 5,
    "start_time": "2024-07-30T23:09:50.058Z"
   },
   {
    "duration": 5,
    "start_time": "2024-07-30T23:09:50.106Z"
   },
   {
    "duration": 8,
    "start_time": "2024-07-30T23:09:50.113Z"
   },
   {
    "duration": 17,
    "start_time": "2024-07-30T23:09:50.124Z"
   },
   {
    "duration": 7,
    "start_time": "2024-07-30T23:09:50.144Z"
   },
   {
    "duration": 61,
    "start_time": "2024-07-30T23:09:50.154Z"
   },
   {
    "duration": 16,
    "start_time": "2024-07-30T23:09:50.217Z"
   },
   {
    "duration": 24,
    "start_time": "2024-07-30T23:09:50.240Z"
   },
   {
    "duration": 45,
    "start_time": "2024-07-30T23:09:50.266Z"
   },
   {
    "duration": 6,
    "start_time": "2024-07-30T23:09:50.314Z"
   },
   {
    "duration": 18,
    "start_time": "2024-07-30T23:09:50.323Z"
   },
   {
    "duration": 62,
    "start_time": "2024-07-30T23:09:50.344Z"
   },
   {
    "duration": 20,
    "start_time": "2024-07-30T23:09:50.409Z"
   },
   {
    "duration": 15,
    "start_time": "2024-07-30T23:09:50.432Z"
   },
   {
    "duration": 13,
    "start_time": "2024-07-30T23:09:50.450Z"
   },
   {
    "duration": 45,
    "start_time": "2024-07-30T23:09:50.467Z"
   },
   {
    "duration": 101,
    "start_time": "2024-07-30T23:09:50.516Z"
   },
   {
    "duration": 26,
    "start_time": "2024-07-30T23:09:50.620Z"
   },
   {
    "duration": 14,
    "start_time": "2024-07-30T23:09:50.649Z"
   },
   {
    "duration": 46,
    "start_time": "2024-07-30T23:09:50.666Z"
   },
   {
    "duration": 13,
    "start_time": "2024-07-30T23:09:50.716Z"
   },
   {
    "duration": 18,
    "start_time": "2024-07-30T23:09:50.732Z"
   },
   {
    "duration": 56,
    "start_time": "2024-07-30T23:09:50.752Z"
   },
   {
    "duration": 4,
    "start_time": "2024-07-30T23:09:50.811Z"
   },
   {
    "duration": 13,
    "start_time": "2024-07-30T23:09:50.819Z"
   },
   {
    "duration": 25,
    "start_time": "2024-07-30T23:09:50.835Z"
   },
   {
    "duration": 49,
    "start_time": "2024-07-30T23:09:50.863Z"
   },
   {
    "duration": 26,
    "start_time": "2024-07-30T23:09:50.915Z"
   },
   {
    "duration": 13,
    "start_time": "2024-07-30T23:09:50.945Z"
   },
   {
    "duration": 56,
    "start_time": "2024-07-30T23:09:50.961Z"
   },
   {
    "duration": 19,
    "start_time": "2024-07-30T23:09:51.020Z"
   },
   {
    "duration": 4,
    "start_time": "2024-07-30T23:09:51.042Z"
   },
   {
    "duration": 13,
    "start_time": "2024-07-30T23:09:51.050Z"
   },
   {
    "duration": 49,
    "start_time": "2024-07-30T23:09:51.067Z"
   },
   {
    "duration": 12,
    "start_time": "2024-07-30T23:09:51.127Z"
   },
   {
    "duration": 32,
    "start_time": "2024-07-30T23:09:51.142Z"
   },
   {
    "duration": 13,
    "start_time": "2024-07-30T23:09:51.207Z"
   },
   {
    "duration": 4,
    "start_time": "2024-07-30T23:09:51.222Z"
   },
   {
    "duration": 13,
    "start_time": "2024-07-30T23:09:51.229Z"
   },
   {
    "duration": 3,
    "start_time": "2024-07-30T23:09:51.246Z"
   },
   {
    "duration": 100,
    "start_time": "2024-07-30T23:09:51.252Z"
   },
   {
    "duration": 4,
    "start_time": "2024-07-30T23:09:51.355Z"
   },
   {
    "duration": 7,
    "start_time": "2024-07-30T23:09:51.362Z"
   },
   {
    "duration": 39,
    "start_time": "2024-07-30T23:09:51.372Z"
   },
   {
    "duration": 14,
    "start_time": "2024-07-30T23:09:51.414Z"
   },
   {
    "duration": 23,
    "start_time": "2024-07-30T23:09:51.431Z"
   },
   {
    "duration": 4,
    "start_time": "2024-07-30T23:09:51.458Z"
   },
   {
    "duration": 8,
    "start_time": "2024-07-30T23:09:51.506Z"
   },
   {
    "duration": 13,
    "start_time": "2024-07-30T23:09:51.516Z"
   },
   {
    "duration": 12,
    "start_time": "2024-07-30T23:09:51.532Z"
   },
   {
    "duration": 58,
    "start_time": "2024-07-30T23:09:51.548Z"
   },
   {
    "duration": 5,
    "start_time": "2024-07-30T23:09:51.609Z"
   },
   {
    "duration": 7,
    "start_time": "2024-07-30T23:09:51.618Z"
   },
   {
    "duration": 15,
    "start_time": "2024-07-30T23:09:51.629Z"
   },
   {
    "duration": 4,
    "start_time": "2024-07-30T23:09:51.648Z"
   },
   {
    "duration": 7,
    "start_time": "2024-07-30T23:09:51.655Z"
   },
   {
    "duration": 17,
    "start_time": "2024-07-30T23:09:51.707Z"
   },
   {
    "duration": 233,
    "start_time": "2024-07-30T23:09:51.727Z"
   },
   {
    "duration": 0,
    "start_time": "2024-07-30T23:09:51.963Z"
   },
   {
    "duration": 0,
    "start_time": "2024-07-30T23:09:51.964Z"
   },
   {
    "duration": 0,
    "start_time": "2024-07-30T23:09:51.966Z"
   },
   {
    "duration": 0,
    "start_time": "2024-07-30T23:09:51.968Z"
   },
   {
    "duration": 0,
    "start_time": "2024-07-30T23:09:51.970Z"
   },
   {
    "duration": 0,
    "start_time": "2024-07-30T23:09:51.971Z"
   },
   {
    "duration": 0,
    "start_time": "2024-07-30T23:09:51.974Z"
   },
   {
    "duration": 0,
    "start_time": "2024-07-30T23:09:51.976Z"
   },
   {
    "duration": 0,
    "start_time": "2024-07-30T23:09:52.006Z"
   },
   {
    "duration": 0,
    "start_time": "2024-07-30T23:09:52.008Z"
   },
   {
    "duration": 35,
    "start_time": "2024-07-30T23:10:00.265Z"
   },
   {
    "duration": 36,
    "start_time": "2024-07-30T23:10:34.682Z"
   },
   {
    "duration": 38,
    "start_time": "2024-07-30T23:11:05.907Z"
   },
   {
    "duration": 37,
    "start_time": "2024-07-30T23:11:17.278Z"
   },
   {
    "duration": 47,
    "start_time": "2024-07-30T23:12:05.326Z"
   },
   {
    "duration": 43,
    "start_time": "2024-07-30T23:12:44.071Z"
   },
   {
    "duration": 13,
    "start_time": "2024-07-30T23:16:07.826Z"
   },
   {
    "duration": 16,
    "start_time": "2024-07-30T23:16:20.486Z"
   },
   {
    "duration": 43,
    "start_time": "2024-07-30T23:17:06.950Z"
   },
   {
    "duration": 10,
    "start_time": "2024-07-30T23:18:04.925Z"
   },
   {
    "duration": 15,
    "start_time": "2024-07-30T23:18:18.186Z"
   },
   {
    "duration": 237,
    "start_time": "2024-07-30T23:19:21.549Z"
   },
   {
    "duration": 41,
    "start_time": "2024-07-30T23:19:31.565Z"
   },
   {
    "duration": 40,
    "start_time": "2024-07-30T23:54:16.726Z"
   },
   {
    "duration": 51,
    "start_time": "2024-07-30T23:54:28.992Z"
   },
   {
    "duration": 11,
    "start_time": "2024-07-30T23:54:34.615Z"
   },
   {
    "duration": 21,
    "start_time": "2024-07-30T23:54:37.050Z"
   },
   {
    "duration": 39,
    "start_time": "2024-07-31T00:00:37.421Z"
   },
   {
    "duration": 37,
    "start_time": "2024-07-31T00:00:53.237Z"
   },
   {
    "duration": 11,
    "start_time": "2024-07-31T00:01:01.896Z"
   },
   {
    "duration": 39,
    "start_time": "2024-07-31T00:01:09.860Z"
   },
   {
    "duration": 38,
    "start_time": "2024-07-31T00:01:14.772Z"
   },
   {
    "duration": 312,
    "start_time": "2024-07-31T16:45:58.491Z"
   },
   {
    "duration": 4773,
    "start_time": "2024-07-31T16:46:14.636Z"
   },
   {
    "duration": 361,
    "start_time": "2024-07-31T16:46:19.414Z"
   },
   {
    "duration": 21,
    "start_time": "2024-07-31T16:46:19.778Z"
   },
   {
    "duration": 28,
    "start_time": "2024-07-31T16:46:19.806Z"
   },
   {
    "duration": 17,
    "start_time": "2024-07-31T16:46:19.837Z"
   },
   {
    "duration": 17,
    "start_time": "2024-07-31T16:46:19.857Z"
   },
   {
    "duration": 45,
    "start_time": "2024-07-31T16:46:19.877Z"
   },
   {
    "duration": 5,
    "start_time": "2024-07-31T16:46:19.926Z"
   },
   {
    "duration": 14,
    "start_time": "2024-07-31T16:46:19.934Z"
   },
   {
    "duration": 18,
    "start_time": "2024-07-31T16:46:19.955Z"
   },
   {
    "duration": 7,
    "start_time": "2024-07-31T16:46:19.976Z"
   },
   {
    "duration": 52,
    "start_time": "2024-07-31T16:46:19.987Z"
   },
   {
    "duration": 15,
    "start_time": "2024-07-31T16:46:20.042Z"
   },
   {
    "duration": 27,
    "start_time": "2024-07-31T16:46:20.060Z"
   },
   {
    "duration": 47,
    "start_time": "2024-07-31T16:46:20.090Z"
   },
   {
    "duration": 5,
    "start_time": "2024-07-31T16:46:20.140Z"
   },
   {
    "duration": 16,
    "start_time": "2024-07-31T16:46:20.147Z"
   },
   {
    "duration": 66,
    "start_time": "2024-07-31T16:46:20.166Z"
   },
   {
    "duration": 21,
    "start_time": "2024-07-31T16:46:20.235Z"
   },
   {
    "duration": 15,
    "start_time": "2024-07-31T16:46:20.259Z"
   },
   {
    "duration": 50,
    "start_time": "2024-07-31T16:46:20.277Z"
   },
   {
    "duration": 6,
    "start_time": "2024-07-31T16:46:20.331Z"
   },
   {
    "duration": 95,
    "start_time": "2024-07-31T16:46:20.341Z"
   },
   {
    "duration": 23,
    "start_time": "2024-07-31T16:46:20.439Z"
   },
   {
    "duration": 14,
    "start_time": "2024-07-31T16:46:20.465Z"
   },
   {
    "duration": 51,
    "start_time": "2024-07-31T16:46:20.482Z"
   },
   {
    "duration": 12,
    "start_time": "2024-07-31T16:46:20.539Z"
   },
   {
    "duration": 16,
    "start_time": "2024-07-31T16:46:20.562Z"
   },
   {
    "duration": 45,
    "start_time": "2024-07-31T16:46:20.581Z"
   },
   {
    "duration": 5,
    "start_time": "2024-07-31T16:46:20.631Z"
   },
   {
    "duration": 12,
    "start_time": "2024-07-31T16:46:20.640Z"
   },
   {
    "duration": 27,
    "start_time": "2024-07-31T16:46:20.655Z"
   },
   {
    "duration": 13,
    "start_time": "2024-07-31T16:46:20.722Z"
   },
   {
    "duration": 24,
    "start_time": "2024-07-31T16:46:20.738Z"
   },
   {
    "duration": 14,
    "start_time": "2024-07-31T16:46:20.765Z"
   },
   {
    "duration": 60,
    "start_time": "2024-07-31T16:46:20.782Z"
   },
   {
    "duration": 25,
    "start_time": "2024-07-31T16:46:20.844Z"
   },
   {
    "duration": 6,
    "start_time": "2024-07-31T16:46:20.872Z"
   },
   {
    "duration": 44,
    "start_time": "2024-07-31T16:46:20.881Z"
   },
   {
    "duration": 13,
    "start_time": "2024-07-31T16:46:20.928Z"
   },
   {
    "duration": 11,
    "start_time": "2024-07-31T16:46:20.944Z"
   },
   {
    "duration": 67,
    "start_time": "2024-07-31T16:46:20.959Z"
   },
   {
    "duration": 13,
    "start_time": "2024-07-31T16:46:21.029Z"
   },
   {
    "duration": 4,
    "start_time": "2024-07-31T16:46:21.044Z"
   },
   {
    "duration": 14,
    "start_time": "2024-07-31T16:46:21.050Z"
   },
   {
    "duration": 3,
    "start_time": "2024-07-31T16:46:21.069Z"
   },
   {
    "duration": 97,
    "start_time": "2024-07-31T16:46:21.075Z"
   },
   {
    "duration": 4,
    "start_time": "2024-07-31T16:46:21.175Z"
   },
   {
    "duration": 7,
    "start_time": "2024-07-31T16:46:21.182Z"
   },
   {
    "duration": 42,
    "start_time": "2024-07-31T16:46:21.192Z"
   },
   {
    "duration": 15,
    "start_time": "2024-07-31T16:46:21.237Z"
   },
   {
    "duration": 24,
    "start_time": "2024-07-31T16:46:21.255Z"
   },
   {
    "duration": 41,
    "start_time": "2024-07-31T16:46:21.281Z"
   },
   {
    "duration": 6,
    "start_time": "2024-07-31T16:46:21.326Z"
   },
   {
    "duration": 12,
    "start_time": "2024-07-31T16:46:21.335Z"
   },
   {
    "duration": 19,
    "start_time": "2024-07-31T16:46:21.350Z"
   },
   {
    "duration": 6,
    "start_time": "2024-07-31T16:46:21.372Z"
   },
   {
    "duration": 45,
    "start_time": "2024-07-31T16:46:21.381Z"
   },
   {
    "duration": 16,
    "start_time": "2024-07-31T16:46:21.429Z"
   },
   {
    "duration": 4,
    "start_time": "2024-07-31T16:46:21.448Z"
   },
   {
    "duration": 8,
    "start_time": "2024-07-31T16:46:21.454Z"
   },
   {
    "duration": 61,
    "start_time": "2024-07-31T16:46:21.465Z"
   },
   {
    "duration": 14,
    "start_time": "2024-07-31T16:46:21.529Z"
   },
   {
    "duration": 16,
    "start_time": "2024-07-31T16:46:21.545Z"
   },
   {
    "duration": 242,
    "start_time": "2024-07-31T16:46:21.563Z"
   },
   {
    "duration": 0,
    "start_time": "2024-07-31T16:46:21.807Z"
   },
   {
    "duration": 0,
    "start_time": "2024-07-31T16:46:21.809Z"
   },
   {
    "duration": 0,
    "start_time": "2024-07-31T16:46:21.811Z"
   },
   {
    "duration": 0,
    "start_time": "2024-07-31T16:46:21.823Z"
   },
   {
    "duration": 0,
    "start_time": "2024-07-31T16:46:21.825Z"
   },
   {
    "duration": 0,
    "start_time": "2024-07-31T16:46:21.828Z"
   },
   {
    "duration": 0,
    "start_time": "2024-07-31T16:46:21.830Z"
   },
   {
    "duration": 0,
    "start_time": "2024-07-31T16:46:21.833Z"
   },
   {
    "duration": 0,
    "start_time": "2024-07-31T16:46:21.835Z"
   },
   {
    "duration": 0,
    "start_time": "2024-07-31T16:46:21.837Z"
   },
   {
    "duration": 0,
    "start_time": "2024-07-31T16:46:21.840Z"
   },
   {
    "duration": 4,
    "start_time": "2024-07-31T16:46:41.766Z"
   },
   {
    "duration": 14,
    "start_time": "2024-07-31T16:46:50.807Z"
   },
   {
    "duration": 42,
    "start_time": "2024-07-31T16:47:02.477Z"
   },
   {
    "duration": 14,
    "start_time": "2024-07-31T16:47:15.786Z"
   },
   {
    "duration": 12,
    "start_time": "2024-07-31T16:47:38.346Z"
   },
   {
    "duration": 19,
    "start_time": "2024-07-31T16:47:41.405Z"
   },
   {
    "duration": 13,
    "start_time": "2024-07-31T17:07:09.283Z"
   },
   {
    "duration": 21,
    "start_time": "2024-07-31T17:07:18.860Z"
   },
   {
    "duration": 11,
    "start_time": "2024-07-31T17:14:38.778Z"
   },
   {
    "duration": 23,
    "start_time": "2024-07-31T17:14:40.416Z"
   },
   {
    "duration": 224,
    "start_time": "2024-07-31T17:19:08.801Z"
   },
   {
    "duration": 14,
    "start_time": "2024-07-31T17:19:13.330Z"
   },
   {
    "duration": 648,
    "start_time": "2024-07-31T17:19:26.806Z"
   },
   {
    "duration": 69,
    "start_time": "2024-07-31T17:19:36.642Z"
   },
   {
    "duration": 15,
    "start_time": "2024-07-31T17:19:52.848Z"
   },
   {
    "duration": 6,
    "start_time": "2024-07-31T17:20:09.023Z"
   },
   {
    "duration": 5,
    "start_time": "2024-07-31T17:20:13.233Z"
   },
   {
    "duration": 14,
    "start_time": "2024-07-31T17:20:18.645Z"
   },
   {
    "duration": 9,
    "start_time": "2024-07-31T17:22:14.341Z"
   },
   {
    "duration": 13,
    "start_time": "2024-07-31T17:22:50.085Z"
   },
   {
    "duration": 11,
    "start_time": "2024-07-31T17:23:08.674Z"
   },
   {
    "duration": 26,
    "start_time": "2024-07-31T17:23:16.583Z"
   },
   {
    "duration": 12,
    "start_time": "2024-07-31T17:29:58.389Z"
   },
   {
    "duration": 5,
    "start_time": "2024-07-31T17:38:14.769Z"
   },
   {
    "duration": 5,
    "start_time": "2024-07-31T19:34:23.916Z"
   },
   {
    "duration": 168,
    "start_time": "2024-07-31T19:42:41.382Z"
   },
   {
    "duration": 5,
    "start_time": "2024-07-31T19:43:05.529Z"
   },
   {
    "duration": 78,
    "start_time": "2024-07-31T19:43:07.620Z"
   },
   {
    "duration": 5,
    "start_time": "2024-07-31T19:43:22.262Z"
   },
   {
    "duration": 76,
    "start_time": "2024-07-31T19:43:24.628Z"
   },
   {
    "duration": 5,
    "start_time": "2024-07-31T19:43:51.737Z"
   },
   {
    "duration": 43,
    "start_time": "2024-07-31T19:43:54.804Z"
   },
   {
    "duration": 26,
    "start_time": "2024-07-31T19:44:04.399Z"
   },
   {
    "duration": 16,
    "start_time": "2024-07-31T19:44:29.851Z"
   },
   {
    "duration": 15,
    "start_time": "2024-07-31T19:44:30.854Z"
   },
   {
    "duration": 15,
    "start_time": "2024-07-31T19:44:31.314Z"
   },
   {
    "duration": 16,
    "start_time": "2024-07-31T19:44:31.652Z"
   },
   {
    "duration": 15,
    "start_time": "2024-07-31T19:44:31.992Z"
   },
   {
    "duration": 15,
    "start_time": "2024-07-31T19:44:32.316Z"
   },
   {
    "duration": 15,
    "start_time": "2024-07-31T19:44:32.840Z"
   },
   {
    "duration": 15,
    "start_time": "2024-07-31T19:44:33.403Z"
   },
   {
    "duration": 16,
    "start_time": "2024-07-31T19:44:33.921Z"
   },
   {
    "duration": 16,
    "start_time": "2024-07-31T19:44:34.328Z"
   },
   {
    "duration": 16,
    "start_time": "2024-07-31T19:44:34.764Z"
   },
   {
    "duration": 15,
    "start_time": "2024-07-31T19:44:35.165Z"
   },
   {
    "duration": 15,
    "start_time": "2024-07-31T19:44:35.559Z"
   },
   {
    "duration": 17,
    "start_time": "2024-07-31T19:44:35.899Z"
   },
   {
    "duration": 15,
    "start_time": "2024-07-31T19:44:45.104Z"
   },
   {
    "duration": 17,
    "start_time": "2024-07-31T19:44:47.392Z"
   },
   {
    "duration": 52,
    "start_time": "2024-07-31T19:45:30.343Z"
   },
   {
    "duration": 21,
    "start_time": "2024-07-31T19:46:27.857Z"
   },
   {
    "duration": 13,
    "start_time": "2024-07-31T19:46:55.487Z"
   },
   {
    "duration": 30,
    "start_time": "2024-07-31T19:47:12.088Z"
   },
   {
    "duration": 12,
    "start_time": "2024-07-31T19:47:27.911Z"
   },
   {
    "duration": 31,
    "start_time": "2024-07-31T19:48:04.420Z"
   },
   {
    "duration": 24,
    "start_time": "2024-07-31T20:00:10.597Z"
   },
   {
    "duration": 9,
    "start_time": "2024-07-31T20:00:35.154Z"
   },
   {
    "duration": 4,
    "start_time": "2024-07-31T20:05:09.134Z"
   },
   {
    "duration": 76,
    "start_time": "2024-07-31T20:06:06.544Z"
   },
   {
    "duration": 5,
    "start_time": "2024-07-31T20:06:20.109Z"
   },
   {
    "duration": 45,
    "start_time": "2024-07-31T20:06:23.747Z"
   },
   {
    "duration": 27,
    "start_time": "2024-07-31T20:06:32.999Z"
   },
   {
    "duration": 9,
    "start_time": "2024-07-31T20:10:37.690Z"
   },
   {
    "duration": 24,
    "start_time": "2024-07-31T20:15:17.854Z"
   },
   {
    "duration": 6,
    "start_time": "2024-07-31T20:15:20.388Z"
   },
   {
    "duration": 44,
    "start_time": "2024-07-31T20:15:23.709Z"
   },
   {
    "duration": 31,
    "start_time": "2024-07-31T20:15:33.957Z"
   },
   {
    "duration": 10,
    "start_time": "2024-07-31T20:22:12.930Z"
   },
   {
    "duration": 10,
    "start_time": "2024-07-31T20:25:09.548Z"
   },
   {
    "duration": 13,
    "start_time": "2024-08-01T18:57:57.847Z"
   },
   {
    "duration": 314,
    "start_time": "2024-08-01T18:58:23.234Z"
   },
   {
    "duration": 21,
    "start_time": "2024-08-01T18:58:47.716Z"
   },
   {
    "duration": 4849,
    "start_time": "2024-08-01T18:59:00.218Z"
   },
   {
    "duration": 375,
    "start_time": "2024-08-01T18:59:05.071Z"
   },
   {
    "duration": 17,
    "start_time": "2024-08-01T18:59:05.449Z"
   },
   {
    "duration": 28,
    "start_time": "2024-08-01T18:59:05.470Z"
   },
   {
    "duration": 14,
    "start_time": "2024-08-01T18:59:05.502Z"
   },
   {
    "duration": 13,
    "start_time": "2024-08-01T18:59:05.519Z"
   },
   {
    "duration": 5,
    "start_time": "2024-08-01T18:59:05.536Z"
   },
   {
    "duration": 48,
    "start_time": "2024-08-01T18:59:05.543Z"
   },
   {
    "duration": 9,
    "start_time": "2024-08-01T18:59:05.595Z"
   },
   {
    "duration": 17,
    "start_time": "2024-08-01T18:59:05.612Z"
   },
   {
    "duration": 9,
    "start_time": "2024-08-01T18:59:05.633Z"
   },
   {
    "duration": 52,
    "start_time": "2024-08-01T18:59:05.646Z"
   },
   {
    "duration": 14,
    "start_time": "2024-08-01T18:59:05.702Z"
   },
   {
    "duration": 25,
    "start_time": "2024-08-01T18:59:05.719Z"
   },
   {
    "duration": 52,
    "start_time": "2024-08-01T18:59:05.747Z"
   },
   {
    "duration": 8,
    "start_time": "2024-08-01T18:59:05.802Z"
   },
   {
    "duration": 14,
    "start_time": "2024-08-01T18:59:05.815Z"
   },
   {
    "duration": 63,
    "start_time": "2024-08-01T18:59:05.832Z"
   },
   {
    "duration": 20,
    "start_time": "2024-08-01T18:59:05.898Z"
   },
   {
    "duration": 15,
    "start_time": "2024-08-01T18:59:05.921Z"
   },
   {
    "duration": 12,
    "start_time": "2024-08-01T18:59:05.939Z"
   },
   {
    "duration": 4,
    "start_time": "2024-08-01T18:59:05.991Z"
   },
   {
    "duration": 94,
    "start_time": "2024-08-01T18:59:05.998Z"
   },
   {
    "duration": 22,
    "start_time": "2024-08-01T18:59:06.095Z"
   },
   {
    "duration": 12,
    "start_time": "2024-08-01T18:59:06.120Z"
   },
   {
    "duration": 21,
    "start_time": "2024-08-01T18:59:06.135Z"
   },
   {
    "duration": 16,
    "start_time": "2024-08-01T18:59:06.191Z"
   },
   {
    "duration": 17,
    "start_time": "2024-08-01T18:59:06.217Z"
   },
   {
    "duration": 53,
    "start_time": "2024-08-01T18:59:06.237Z"
   },
   {
    "duration": 4,
    "start_time": "2024-08-01T18:59:06.294Z"
   },
   {
    "duration": 14,
    "start_time": "2024-08-01T18:59:06.301Z"
   },
   {
    "duration": 26,
    "start_time": "2024-08-01T18:59:06.319Z"
   },
   {
    "duration": 56,
    "start_time": "2024-08-01T18:59:06.348Z"
   },
   {
    "duration": 22,
    "start_time": "2024-08-01T18:59:06.409Z"
   },
   {
    "duration": 14,
    "start_time": "2024-08-01T18:59:06.434Z"
   },
   {
    "duration": 51,
    "start_time": "2024-08-01T18:59:06.451Z"
   },
   {
    "duration": 18,
    "start_time": "2024-08-01T18:59:06.505Z"
   },
   {
    "duration": 4,
    "start_time": "2024-08-01T18:59:06.526Z"
   },
   {
    "duration": 15,
    "start_time": "2024-08-01T18:59:06.533Z"
   },
   {
    "duration": 12,
    "start_time": "2024-08-01T18:59:06.591Z"
   },
   {
    "duration": 13,
    "start_time": "2024-08-01T18:59:06.605Z"
   },
   {
    "duration": 43,
    "start_time": "2024-08-01T18:59:06.620Z"
   },
   {
    "duration": 13,
    "start_time": "2024-08-01T18:59:06.692Z"
   },
   {
    "duration": 5,
    "start_time": "2024-08-01T18:59:06.708Z"
   },
   {
    "duration": 15,
    "start_time": "2024-08-01T18:59:06.717Z"
   },
   {
    "duration": 4,
    "start_time": "2024-08-01T18:59:06.735Z"
   },
   {
    "duration": 95,
    "start_time": "2024-08-01T18:59:06.742Z"
   },
   {
    "duration": 4,
    "start_time": "2024-08-01T18:59:06.840Z"
   },
   {
    "duration": 6,
    "start_time": "2024-08-01T18:59:06.848Z"
   },
   {
    "duration": 46,
    "start_time": "2024-08-01T18:59:06.857Z"
   },
   {
    "duration": 14,
    "start_time": "2024-08-01T18:59:06.906Z"
   },
   {
    "duration": 24,
    "start_time": "2024-08-01T18:59:06.923Z"
   },
   {
    "duration": 41,
    "start_time": "2024-08-01T18:59:06.950Z"
   },
   {
    "duration": 6,
    "start_time": "2024-08-01T18:59:06.994Z"
   },
   {
    "duration": 5,
    "start_time": "2024-08-01T18:59:07.003Z"
   },
   {
    "duration": 14,
    "start_time": "2024-08-01T18:59:07.010Z"
   },
   {
    "duration": 13,
    "start_time": "2024-08-01T18:59:07.028Z"
   },
   {
    "duration": 19,
    "start_time": "2024-08-01T18:59:07.091Z"
   },
   {
    "duration": 4,
    "start_time": "2024-08-01T18:59:07.114Z"
   },
   {
    "duration": 7,
    "start_time": "2024-08-01T18:59:07.122Z"
   },
   {
    "duration": 15,
    "start_time": "2024-08-01T18:59:07.132Z"
   },
   {
    "duration": 4,
    "start_time": "2024-08-01T18:59:07.192Z"
   },
   {
    "duration": 8,
    "start_time": "2024-08-01T18:59:07.200Z"
   },
   {
    "duration": 16,
    "start_time": "2024-08-01T18:59:07.211Z"
   },
   {
    "duration": 15,
    "start_time": "2024-08-01T18:59:07.230Z"
   },
   {
    "duration": 13,
    "start_time": "2024-08-01T18:59:07.290Z"
   },
   {
    "duration": 12,
    "start_time": "2024-08-01T18:59:07.306Z"
   },
   {
    "duration": 19,
    "start_time": "2024-08-01T18:59:07.321Z"
   },
   {
    "duration": 51,
    "start_time": "2024-08-01T18:59:07.343Z"
   },
   {
    "duration": 22,
    "start_time": "2024-08-01T18:59:07.397Z"
   },
   {
    "duration": 12,
    "start_time": "2024-08-01T18:59:07.421Z"
   },
   {
    "duration": 7,
    "start_time": "2024-08-01T18:59:07.436Z"
   },
   {
    "duration": 54,
    "start_time": "2024-08-01T18:59:07.446Z"
   },
   {
    "duration": 12,
    "start_time": "2024-08-01T18:59:07.503Z"
   },
   {
    "duration": 25,
    "start_time": "2024-08-01T18:59:07.518Z"
   },
   {
    "duration": 7,
    "start_time": "2024-08-01T18:59:07.546Z"
   },
   {
    "duration": 45,
    "start_time": "2024-08-01T18:59:07.591Z"
   },
   {
    "duration": 5,
    "start_time": "2024-08-01T18:59:07.640Z"
   },
   {
    "duration": 68,
    "start_time": "2024-08-01T18:59:07.649Z"
   },
   {
    "duration": 12,
    "start_time": "2024-08-01T18:59:07.720Z"
   },
   {
    "duration": 6,
    "start_time": "2024-08-01T18:59:07.736Z"
   },
   {
    "duration": 72,
    "start_time": "2024-08-01T18:59:07.759Z"
   },
   {
    "duration": 33,
    "start_time": "2024-08-01T18:59:07.835Z"
   },
   {
    "duration": 10,
    "start_time": "2024-08-01T18:59:07.891Z"
   },
   {
    "duration": 6,
    "start_time": "2024-08-01T18:59:07.904Z"
   },
   {
    "duration": 45,
    "start_time": "2024-08-01T18:59:07.915Z"
   },
   {
    "duration": 32,
    "start_time": "2024-08-01T18:59:07.992Z"
   },
   {
    "duration": 12,
    "start_time": "2024-08-01T18:59:08.026Z"
   },
   {
    "duration": 3,
    "start_time": "2024-08-01T18:59:08.041Z"
   },
   {
    "duration": 4,
    "start_time": "2024-08-01T18:59:08.047Z"
   },
   {
    "duration": 3,
    "start_time": "2024-08-01T18:59:08.092Z"
   },
   {
    "duration": 4,
    "start_time": "2024-08-01T18:59:08.099Z"
   },
   {
    "duration": 4,
    "start_time": "2024-08-01T18:59:08.106Z"
   },
   {
    "duration": 3,
    "start_time": "2024-08-01T18:59:08.113Z"
   },
   {
    "duration": 4,
    "start_time": "2024-08-01T18:59:08.120Z"
   },
   {
    "duration": 4,
    "start_time": "2024-08-01T18:59:08.127Z"
   },
   {
    "duration": 31,
    "start_time": "2024-08-01T18:59:29.076Z"
   },
   {
    "duration": 18,
    "start_time": "2024-08-01T18:59:45.451Z"
   },
   {
    "duration": 17,
    "start_time": "2024-08-01T18:59:48.455Z"
   },
   {
    "duration": 18,
    "start_time": "2024-08-01T18:59:49.360Z"
   },
   {
    "duration": 18,
    "start_time": "2024-08-01T18:59:50.474Z"
   },
   {
    "duration": 31,
    "start_time": "2024-08-01T19:00:18.662Z"
   },
   {
    "duration": 5,
    "start_time": "2024-08-01T19:02:17.209Z"
   },
   {
    "duration": 44,
    "start_time": "2024-08-01T19:02:57.869Z"
   },
   {
    "duration": 33,
    "start_time": "2024-08-01T19:03:01.746Z"
   },
   {
    "duration": 5,
    "start_time": "2024-08-01T19:09:16.642Z"
   },
   {
    "duration": 51,
    "start_time": "2024-08-01T19:09:45.270Z"
   },
   {
    "duration": 35,
    "start_time": "2024-08-01T19:09:48.162Z"
   },
   {
    "duration": 5,
    "start_time": "2024-08-01T19:28:16.530Z"
   },
   {
    "duration": 648,
    "start_time": "2024-08-01T19:29:00.952Z"
   },
   {
    "duration": 5,
    "start_time": "2024-08-01T19:31:46.738Z"
   },
   {
    "duration": 67,
    "start_time": "2024-08-01T19:31:58.637Z"
   },
   {
    "duration": 67,
    "start_time": "2024-08-01T19:33:11.497Z"
   },
   {
    "duration": 41,
    "start_time": "2024-08-01T19:33:22.003Z"
   },
   {
    "duration": 5,
    "start_time": "2024-08-01T19:51:59.264Z"
   },
   {
    "duration": 736,
    "start_time": "2024-08-01T19:53:16.706Z"
   },
   {
    "duration": 69,
    "start_time": "2024-08-01T19:54:06.816Z"
   },
   {
    "duration": 35,
    "start_time": "2024-08-01T19:54:09.076Z"
   },
   {
    "duration": 9,
    "start_time": "2024-08-01T19:54:27.259Z"
   },
   {
    "duration": 5,
    "start_time": "2024-08-01T19:54:38.523Z"
   },
   {
    "duration": 67,
    "start_time": "2024-08-01T19:54:42.924Z"
   },
   {
    "duration": 37,
    "start_time": "2024-08-01T19:54:45.074Z"
   },
   {
    "duration": 10,
    "start_time": "2024-08-01T19:55:38.634Z"
   },
   {
    "duration": 6,
    "start_time": "2024-08-01T19:56:54.999Z"
   },
   {
    "duration": 68,
    "start_time": "2024-08-01T19:56:58.036Z"
   },
   {
    "duration": 38,
    "start_time": "2024-08-01T19:56:59.886Z"
   },
   {
    "duration": 6,
    "start_time": "2024-08-01T20:02:29.467Z"
   },
   {
    "duration": 69,
    "start_time": "2024-08-01T20:02:33.189Z"
   },
   {
    "duration": 38,
    "start_time": "2024-08-01T20:02:35.330Z"
   },
   {
    "duration": 5,
    "start_time": "2024-08-01T20:03:27.231Z"
   },
   {
    "duration": 65,
    "start_time": "2024-08-01T20:03:30.187Z"
   },
   {
    "duration": 37,
    "start_time": "2024-08-01T20:03:32.177Z"
   },
   {
    "duration": 4,
    "start_time": "2024-08-01T21:18:33.164Z"
   },
   {
    "duration": 25,
    "start_time": "2024-08-01T21:20:30.768Z"
   },
   {
    "duration": 155,
    "start_time": "2024-08-01T21:20:55.743Z"
   },
   {
    "duration": 6,
    "start_time": "2024-08-01T21:22:03.353Z"
   },
   {
    "duration": 6,
    "start_time": "2024-08-01T21:22:14.351Z"
   },
   {
    "duration": 6,
    "start_time": "2024-08-01T21:22:21.141Z"
   },
   {
    "duration": 4,
    "start_time": "2024-08-01T21:26:27.114Z"
   },
   {
    "duration": 4,
    "start_time": "2024-08-01T21:26:38.743Z"
   },
   {
    "duration": 65,
    "start_time": "2024-08-01T21:27:46.375Z"
   },
   {
    "duration": 245,
    "start_time": "2024-08-01T21:28:24.044Z"
   },
   {
    "duration": 233,
    "start_time": "2024-08-01T21:29:29.258Z"
   },
   {
    "duration": 272,
    "start_time": "2024-08-01T21:30:17.243Z"
   },
   {
    "duration": 995,
    "start_time": "2024-08-01T21:30:37.701Z"
   },
   {
    "duration": 68,
    "start_time": "2024-08-01T21:31:39.715Z"
   },
   {
    "duration": 868,
    "start_time": "2024-08-01T21:31:44.180Z"
   },
   {
    "duration": 827,
    "start_time": "2024-08-01T21:32:00.170Z"
   },
   {
    "duration": 413,
    "start_time": "2024-08-01T21:32:12.008Z"
   },
   {
    "duration": 805,
    "start_time": "2024-08-01T21:32:18.868Z"
   },
   {
    "duration": 243,
    "start_time": "2024-08-01T21:36:48.909Z"
   },
   {
    "duration": 281,
    "start_time": "2024-08-01T21:39:07.721Z"
   },
   {
    "duration": 291,
    "start_time": "2024-08-01T21:39:23.691Z"
   },
   {
    "duration": 277,
    "start_time": "2024-08-01T21:39:38.099Z"
   },
   {
    "duration": 5,
    "start_time": "2024-08-01T21:40:17.077Z"
   },
   {
    "duration": 310,
    "start_time": "2024-08-01T21:40:23.004Z"
   },
   {
    "duration": 27,
    "start_time": "2024-08-01T21:43:09.075Z"
   },
   {
    "duration": 4,
    "start_time": "2024-08-01T21:43:15.612Z"
   },
   {
    "duration": 127,
    "start_time": "2024-08-01T21:43:17.177Z"
   },
   {
    "duration": 4,
    "start_time": "2024-08-01T21:44:58.947Z"
   },
   {
    "duration": 629,
    "start_time": "2024-08-01T21:46:04.182Z"
   },
   {
    "duration": 4317,
    "start_time": "2024-08-02T03:13:39.958Z"
   },
   {
    "duration": 24,
    "start_time": "2024-08-02T03:14:03.120Z"
   },
   {
    "duration": 1210,
    "start_time": "2024-08-02T03:14:17.073Z"
   },
   {
    "duration": 391,
    "start_time": "2024-08-02T03:14:18.287Z"
   },
   {
    "duration": 16,
    "start_time": "2024-08-02T03:14:18.681Z"
   },
   {
    "duration": 30,
    "start_time": "2024-08-02T03:14:18.700Z"
   },
   {
    "duration": 14,
    "start_time": "2024-08-02T03:14:18.733Z"
   },
   {
    "duration": 14,
    "start_time": "2024-08-02T03:14:18.750Z"
   },
   {
    "duration": 5,
    "start_time": "2024-08-02T03:14:18.766Z"
   },
   {
    "duration": 6,
    "start_time": "2024-08-02T03:14:18.774Z"
   },
   {
    "duration": 7,
    "start_time": "2024-08-02T03:14:18.827Z"
   },
   {
    "duration": 14,
    "start_time": "2024-08-02T03:14:18.840Z"
   },
   {
    "duration": 7,
    "start_time": "2024-08-02T03:14:18.857Z"
   },
   {
    "duration": 15,
    "start_time": "2024-08-02T03:14:18.868Z"
   },
   {
    "duration": 16,
    "start_time": "2024-08-02T03:14:18.927Z"
   },
   {
    "duration": 26,
    "start_time": "2024-08-02T03:14:18.945Z"
   },
   {
    "duration": 53,
    "start_time": "2024-08-02T03:14:18.974Z"
   },
   {
    "duration": 6,
    "start_time": "2024-08-02T03:14:19.030Z"
   },
   {
    "duration": 15,
    "start_time": "2024-08-02T03:14:19.039Z"
   },
   {
    "duration": 30,
    "start_time": "2024-08-02T03:14:19.057Z"
   },
   {
    "duration": 53,
    "start_time": "2024-08-02T03:14:19.089Z"
   },
   {
    "duration": 15,
    "start_time": "2024-08-02T03:14:19.144Z"
   },
   {
    "duration": 12,
    "start_time": "2024-08-02T03:14:19.162Z"
   },
   {
    "duration": 5,
    "start_time": "2024-08-02T03:14:19.177Z"
   },
   {
    "duration": 115,
    "start_time": "2024-08-02T03:14:19.185Z"
   },
   {
    "duration": 35,
    "start_time": "2024-08-02T03:14:19.303Z"
   },
   {
    "duration": 13,
    "start_time": "2024-08-02T03:14:19.342Z"
   },
   {
    "duration": 20,
    "start_time": "2024-08-02T03:14:19.358Z"
   },
   {
    "duration": 50,
    "start_time": "2024-08-02T03:14:19.380Z"
   },
   {
    "duration": 17,
    "start_time": "2024-08-02T03:14:19.440Z"
   },
   {
    "duration": 19,
    "start_time": "2024-08-02T03:14:19.460Z"
   },
   {
    "duration": 5,
    "start_time": "2024-08-02T03:14:19.482Z"
   },
   {
    "duration": 47,
    "start_time": "2024-08-02T03:14:19.490Z"
   },
   {
    "duration": 27,
    "start_time": "2024-08-02T03:14:19.540Z"
   },
   {
    "duration": 12,
    "start_time": "2024-08-02T03:14:19.569Z"
   },
   {
    "duration": 55,
    "start_time": "2024-08-02T03:14:19.586Z"
   },
   {
    "duration": 14,
    "start_time": "2024-08-02T03:14:19.644Z"
   },
   {
    "duration": 23,
    "start_time": "2024-08-02T03:14:19.661Z"
   },
   {
    "duration": 54,
    "start_time": "2024-08-02T03:14:19.687Z"
   },
   {
    "duration": 6,
    "start_time": "2024-08-02T03:14:19.744Z"
   },
   {
    "duration": 14,
    "start_time": "2024-08-02T03:14:19.752Z"
   },
   {
    "duration": 12,
    "start_time": "2024-08-02T03:14:19.769Z"
   },
   {
    "duration": 52,
    "start_time": "2024-08-02T03:14:19.784Z"
   },
   {
    "duration": 48,
    "start_time": "2024-08-02T03:14:19.839Z"
   },
   {
    "duration": 32,
    "start_time": "2024-08-02T03:14:19.896Z"
   },
   {
    "duration": 5,
    "start_time": "2024-08-02T03:14:19.931Z"
   },
   {
    "duration": 13,
    "start_time": "2024-08-02T03:14:19.939Z"
   },
   {
    "duration": 3,
    "start_time": "2024-08-02T03:14:19.955Z"
   },
   {
    "duration": 84,
    "start_time": "2024-08-02T03:14:19.961Z"
   },
   {
    "duration": 4,
    "start_time": "2024-08-02T03:14:20.048Z"
   },
   {
    "duration": 7,
    "start_time": "2024-08-02T03:14:20.055Z"
   },
   {
    "duration": 13,
    "start_time": "2024-08-02T03:14:20.065Z"
   },
   {
    "duration": 54,
    "start_time": "2024-08-02T03:14:20.082Z"
   },
   {
    "duration": 24,
    "start_time": "2024-08-02T03:14:20.139Z"
   },
   {
    "duration": 4,
    "start_time": "2024-08-02T03:14:20.166Z"
   },
   {
    "duration": 6,
    "start_time": "2024-08-02T03:14:20.173Z"
   },
   {
    "duration": 6,
    "start_time": "2024-08-02T03:14:20.182Z"
   },
   {
    "duration": 13,
    "start_time": "2024-08-02T03:14:20.227Z"
   },
   {
    "duration": 12,
    "start_time": "2024-08-02T03:14:20.243Z"
   },
   {
    "duration": 18,
    "start_time": "2024-08-02T03:14:20.259Z"
   },
   {
    "duration": 48,
    "start_time": "2024-08-02T03:14:20.279Z"
   },
   {
    "duration": 7,
    "start_time": "2024-08-02T03:14:20.330Z"
   },
   {
    "duration": 16,
    "start_time": "2024-08-02T03:14:20.340Z"
   },
   {
    "duration": 5,
    "start_time": "2024-08-02T03:14:20.359Z"
   },
   {
    "duration": 10,
    "start_time": "2024-08-02T03:14:20.367Z"
   },
   {
    "duration": 58,
    "start_time": "2024-08-02T03:14:20.381Z"
   },
   {
    "duration": 15,
    "start_time": "2024-08-02T03:14:20.442Z"
   },
   {
    "duration": 14,
    "start_time": "2024-08-02T03:14:20.459Z"
   },
   {
    "duration": 55,
    "start_time": "2024-08-02T03:14:20.475Z"
   },
   {
    "duration": 19,
    "start_time": "2024-08-02T03:14:20.532Z"
   },
   {
    "duration": 14,
    "start_time": "2024-08-02T03:14:20.553Z"
   },
   {
    "duration": 61,
    "start_time": "2024-08-02T03:14:20.570Z"
   },
   {
    "duration": 12,
    "start_time": "2024-08-02T03:14:20.633Z"
   },
   {
    "duration": 6,
    "start_time": "2024-08-02T03:14:20.647Z"
   },
   {
    "duration": 14,
    "start_time": "2024-08-02T03:14:20.656Z"
   },
   {
    "duration": 54,
    "start_time": "2024-08-02T03:14:20.673Z"
   },
   {
    "duration": 25,
    "start_time": "2024-08-02T03:14:20.730Z"
   },
   {
    "duration": 6,
    "start_time": "2024-08-02T03:14:20.758Z"
   },
   {
    "duration": 73,
    "start_time": "2024-08-02T03:14:20.768Z"
   },
   {
    "duration": 6,
    "start_time": "2024-08-02T03:14:20.843Z"
   },
   {
    "duration": 46,
    "start_time": "2024-08-02T03:14:20.852Z"
   },
   {
    "duration": 48,
    "start_time": "2024-08-02T03:14:20.901Z"
   },
   {
    "duration": 11,
    "start_time": "2024-08-02T03:14:20.952Z"
   },
   {
    "duration": 5,
    "start_time": "2024-08-02T03:14:20.975Z"
   },
   {
    "duration": 82,
    "start_time": "2024-08-02T03:14:20.983Z"
   },
   {
    "duration": 5,
    "start_time": "2024-08-02T03:14:21.067Z"
   },
   {
    "duration": 64,
    "start_time": "2024-08-02T03:14:21.076Z"
   },
   {
    "duration": 32,
    "start_time": "2024-08-02T03:14:21.143Z"
   },
   {
    "duration": 11,
    "start_time": "2024-08-02T03:14:21.178Z"
   },
   {
    "duration": 6,
    "start_time": "2024-08-02T03:14:21.192Z"
   },
   {
    "duration": 44,
    "start_time": "2024-08-02T03:14:21.228Z"
   },
   {
    "duration": 7,
    "start_time": "2024-08-02T03:14:21.275Z"
   },
   {
    "duration": 76,
    "start_time": "2024-08-02T03:14:21.285Z"
   },
   {
    "duration": 35,
    "start_time": "2024-08-02T03:14:21.363Z"
   },
   {
    "duration": 30,
    "start_time": "2024-08-02T03:14:21.401Z"
   },
   {
    "duration": 6,
    "start_time": "2024-08-02T03:14:21.434Z"
   },
   {
    "duration": 90,
    "start_time": "2024-08-02T03:14:21.442Z"
   },
   {
    "duration": 36,
    "start_time": "2024-08-02T03:14:21.535Z"
   },
   {
    "duration": 5,
    "start_time": "2024-08-02T03:14:21.573Z"
   },
   {
    "duration": 341,
    "start_time": "2024-08-02T03:14:21.580Z"
   },
   {
    "duration": 471,
    "start_time": "2024-08-02T03:14:21.923Z"
   },
   {
    "duration": 0,
    "start_time": "2024-08-02T03:14:22.397Z"
   },
   {
    "duration": 0,
    "start_time": "2024-08-02T03:14:22.400Z"
   },
   {
    "duration": 0,
    "start_time": "2024-08-02T03:14:22.402Z"
   },
   {
    "duration": 0,
    "start_time": "2024-08-02T03:14:22.404Z"
   },
   {
    "duration": 0,
    "start_time": "2024-08-02T03:14:22.427Z"
   },
   {
    "duration": 0,
    "start_time": "2024-08-02T03:14:22.429Z"
   },
   {
    "duration": 0,
    "start_time": "2024-08-02T03:14:22.432Z"
   },
   {
    "duration": 260,
    "start_time": "2024-08-02T03:14:51.345Z"
   },
   {
    "duration": 275,
    "start_time": "2024-08-02T03:22:14.195Z"
   },
   {
    "duration": 129,
    "start_time": "2024-08-02T03:27:34.568Z"
   },
   {
    "duration": 156,
    "start_time": "2024-08-02T03:27:55.130Z"
   },
   {
    "duration": 9,
    "start_time": "2024-08-02T03:29:01.180Z"
   },
   {
    "duration": 147,
    "start_time": "2024-08-02T03:29:05.398Z"
   },
   {
    "duration": 286,
    "start_time": "2024-08-02T03:39:40.544Z"
   },
   {
    "duration": 1473,
    "start_time": "2024-08-02T03:40:08.700Z"
   },
   {
    "duration": 286,
    "start_time": "2024-08-02T03:41:18.442Z"
   },
   {
    "duration": 182,
    "start_time": "2024-08-02T03:41:39.773Z"
   },
   {
    "duration": 299,
    "start_time": "2024-08-02T03:41:45.308Z"
   },
   {
    "duration": 10,
    "start_time": "2024-08-02T03:47:27.181Z"
   },
   {
    "duration": 8,
    "start_time": "2024-08-02T03:54:42.750Z"
   },
   {
    "duration": 8,
    "start_time": "2024-08-02T03:55:05.572Z"
   },
   {
    "duration": 8,
    "start_time": "2024-08-02T03:55:38.089Z"
   },
   {
    "duration": 8,
    "start_time": "2024-08-02T03:55:49.589Z"
   },
   {
    "duration": 35,
    "start_time": "2024-08-02T03:56:14.706Z"
   },
   {
    "duration": 12,
    "start_time": "2024-08-02T04:00:38.880Z"
   },
   {
    "duration": 12,
    "start_time": "2024-08-02T04:01:33.025Z"
   },
   {
    "duration": 7,
    "start_time": "2024-08-02T04:06:38.862Z"
   },
   {
    "duration": 5,
    "start_time": "2024-08-02T04:06:47.393Z"
   },
   {
    "duration": 10,
    "start_time": "2024-08-02T04:06:57.220Z"
   },
   {
    "duration": 12,
    "start_time": "2024-08-02T04:07:17.434Z"
   },
   {
    "duration": 7,
    "start_time": "2024-08-02T04:07:26.347Z"
   },
   {
    "duration": 6,
    "start_time": "2024-08-02T04:07:37.471Z"
   },
   {
    "duration": 882,
    "start_time": "2024-08-02T04:07:44.649Z"
   },
   {
    "duration": 5,
    "start_time": "2024-08-02T04:08:30.544Z"
   },
   {
    "duration": 6,
    "start_time": "2024-08-02T04:08:45.659Z"
   },
   {
    "duration": 23,
    "start_time": "2024-08-02T04:08:52.746Z"
   },
   {
    "duration": 36,
    "start_time": "2024-08-02T04:08:58.763Z"
   },
   {
    "duration": 16,
    "start_time": "2024-08-02T04:09:17.603Z"
   },
   {
    "duration": 6,
    "start_time": "2024-08-02T04:13:34.087Z"
   },
   {
    "duration": 5,
    "start_time": "2024-08-02T04:14:06.720Z"
   },
   {
    "duration": 24,
    "start_time": "2024-08-02T04:14:17.985Z"
   },
   {
    "duration": 6,
    "start_time": "2024-08-02T04:14:23.142Z"
   },
   {
    "duration": 25,
    "start_time": "2024-08-02T04:16:46.597Z"
   },
   {
    "duration": 28,
    "start_time": "2024-08-02T04:16:54.787Z"
   },
   {
    "duration": 4,
    "start_time": "2024-08-02T04:17:40.674Z"
   },
   {
    "duration": 24,
    "start_time": "2024-08-02T04:31:38.355Z"
   },
   {
    "duration": 7,
    "start_time": "2024-08-02T04:32:39.719Z"
   },
   {
    "duration": 24,
    "start_time": "2024-08-02T04:32:47.591Z"
   },
   {
    "duration": 24,
    "start_time": "2024-08-02T04:32:54.796Z"
   },
   {
    "duration": 36,
    "start_time": "2024-08-02T04:33:03.199Z"
   },
   {
    "duration": 22,
    "start_time": "2024-08-02T04:33:18.110Z"
   },
   {
    "duration": 24,
    "start_time": "2024-08-02T04:33:19.860Z"
   },
   {
    "duration": 20,
    "start_time": "2024-08-02T04:33:20.939Z"
   },
   {
    "duration": 20,
    "start_time": "2024-08-02T04:33:21.871Z"
   },
   {
    "duration": 19,
    "start_time": "2024-08-02T04:33:22.746Z"
   },
   {
    "duration": 20,
    "start_time": "2024-08-02T04:33:22.877Z"
   },
   {
    "duration": 24,
    "start_time": "2024-08-02T04:34:11.845Z"
   },
   {
    "duration": 12,
    "start_time": "2024-08-02T04:34:22.734Z"
   },
   {
    "duration": 34,
    "start_time": "2024-08-02T04:37:01.312Z"
   },
   {
    "duration": 266,
    "start_time": "2024-08-02T04:38:03.808Z"
   },
   {
    "duration": 13,
    "start_time": "2024-08-02T04:38:44.902Z"
   },
   {
    "duration": 23,
    "start_time": "2024-08-02T04:42:08.259Z"
   },
   {
    "duration": 7,
    "start_time": "2024-08-02T04:42:18.096Z"
   },
   {
    "duration": 12,
    "start_time": "2024-08-02T04:47:32.825Z"
   },
   {
    "duration": 26,
    "start_time": "2024-08-02T04:48:14.071Z"
   },
   {
    "duration": 21,
    "start_time": "2024-08-02T04:49:14.738Z"
   },
   {
    "duration": 35,
    "start_time": "2024-08-02T04:50:13.908Z"
   },
   {
    "duration": 22,
    "start_time": "2024-08-02T04:50:36.269Z"
   },
   {
    "duration": 37,
    "start_time": "2024-08-02T04:52:22.393Z"
   },
   {
    "duration": 7,
    "start_time": "2024-08-02T04:52:45.804Z"
   },
   {
    "duration": 5,
    "start_time": "2024-08-02T04:52:51.303Z"
   },
   {
    "duration": 36,
    "start_time": "2024-08-02T04:53:03.425Z"
   },
   {
    "duration": 6,
    "start_time": "2024-08-02T04:53:51.879Z"
   },
   {
    "duration": 6,
    "start_time": "2024-08-02T04:55:25.110Z"
   },
   {
    "duration": 6,
    "start_time": "2024-08-02T04:55:35.279Z"
   },
   {
    "duration": 7,
    "start_time": "2024-08-02T04:57:07.742Z"
   },
   {
    "duration": 1013,
    "start_time": "2024-08-02T04:57:13.779Z"
   },
   {
    "duration": 60,
    "start_time": "2024-08-02T04:57:23.617Z"
   },
   {
    "duration": 57,
    "start_time": "2024-08-02T04:57:41.925Z"
   },
   {
    "duration": 55,
    "start_time": "2024-08-02T04:57:47.633Z"
   },
   {
    "duration": 5,
    "start_time": "2024-08-02T04:58:13.477Z"
   },
   {
    "duration": 9,
    "start_time": "2024-08-02T04:58:20.066Z"
   },
   {
    "duration": 9,
    "start_time": "2024-08-02T04:58:29.545Z"
   },
   {
    "duration": 32,
    "start_time": "2024-08-02T04:58:51.909Z"
   },
   {
    "duration": 58,
    "start_time": "2024-08-02T04:59:01.008Z"
   },
   {
    "duration": 55,
    "start_time": "2024-08-02T05:00:26.413Z"
   },
   {
    "duration": 7,
    "start_time": "2024-08-02T05:00:40.703Z"
   },
   {
    "duration": 35,
    "start_time": "2024-08-02T05:00:49.970Z"
   },
   {
    "duration": 9,
    "start_time": "2024-08-02T05:47:49.858Z"
   },
   {
    "duration": 8,
    "start_time": "2024-08-02T05:47:55.121Z"
   },
   {
    "duration": 1531,
    "start_time": "2024-08-02T05:48:13.398Z"
   },
   {
    "duration": 1559,
    "start_time": "2024-08-02T05:49:09.092Z"
   },
   {
    "duration": 242,
    "start_time": "2024-08-02T05:50:05.946Z"
   },
   {
    "duration": 5,
    "start_time": "2024-08-02T05:50:20.212Z"
   },
   {
    "duration": 6,
    "start_time": "2024-08-02T05:50:52.312Z"
   },
   {
    "duration": 53,
    "start_time": "2024-08-02T05:51:26.873Z"
   },
   {
    "duration": 61,
    "start_time": "2024-08-02T06:17:37.863Z"
   },
   {
    "duration": 6,
    "start_time": "2024-08-02T06:17:58.048Z"
   },
   {
    "duration": 7,
    "start_time": "2024-08-02T06:18:29.153Z"
   },
   {
    "duration": 7,
    "start_time": "2024-08-02T06:18:40.597Z"
   },
   {
    "duration": 5,
    "start_time": "2024-08-02T06:19:01.161Z"
   },
   {
    "duration": 5,
    "start_time": "2024-08-02T06:20:29.626Z"
   },
   {
    "duration": 24,
    "start_time": "2024-08-02T06:21:05.020Z"
   },
   {
    "duration": 7,
    "start_time": "2024-08-02T06:21:25.412Z"
   },
   {
    "duration": 7,
    "start_time": "2024-08-02T06:21:34.188Z"
   },
   {
    "duration": 7,
    "start_time": "2024-08-02T06:25:35.150Z"
   },
   {
    "duration": 6,
    "start_time": "2024-08-02T06:25:57.295Z"
   },
   {
    "duration": 5,
    "start_time": "2024-08-02T06:26:25.800Z"
   },
   {
    "duration": 5,
    "start_time": "2024-08-02T06:27:29.906Z"
   },
   {
    "duration": 5,
    "start_time": "2024-08-02T06:28:49.375Z"
   },
   {
    "duration": 6,
    "start_time": "2024-08-02T06:29:10.422Z"
   },
   {
    "duration": 7,
    "start_time": "2024-08-02T06:31:24.238Z"
   },
   {
    "duration": 5,
    "start_time": "2024-08-02T06:31:31.744Z"
   },
   {
    "duration": 3,
    "start_time": "2024-08-02T06:35:26.889Z"
   },
   {
    "duration": 7,
    "start_time": "2024-08-02T06:35:34.872Z"
   },
   {
    "duration": 5,
    "start_time": "2024-08-02T06:36:40.423Z"
   },
   {
    "duration": 7,
    "start_time": "2024-08-02T06:36:48.666Z"
   },
   {
    "duration": 25,
    "start_time": "2024-08-02T06:42:24.481Z"
   },
   {
    "duration": 6,
    "start_time": "2024-08-02T06:42:42.987Z"
   },
   {
    "duration": 5,
    "start_time": "2024-08-02T06:43:18.881Z"
   },
   {
    "duration": 60,
    "start_time": "2024-08-02T06:45:06.496Z"
   },
   {
    "duration": 6,
    "start_time": "2024-08-02T06:45:16.393Z"
   },
   {
    "duration": 8,
    "start_time": "2024-08-02T06:47:20.923Z"
   },
   {
    "duration": 6,
    "start_time": "2024-08-02T06:49:27.121Z"
   },
   {
    "duration": 278,
    "start_time": "2024-08-02T06:51:03.802Z"
   },
   {
    "duration": 268,
    "start_time": "2024-08-02T06:52:16.010Z"
   },
   {
    "duration": 278,
    "start_time": "2024-08-02T06:52:46.233Z"
   },
   {
    "duration": 8,
    "start_time": "2024-08-02T06:54:51.663Z"
   },
   {
    "duration": 7,
    "start_time": "2024-08-02T06:55:13.360Z"
   },
   {
    "duration": 24,
    "start_time": "2024-08-02T07:04:22.721Z"
   },
   {
    "duration": 76,
    "start_time": "2024-08-02T07:05:45.155Z"
   },
   {
    "duration": 79,
    "start_time": "2024-08-02T07:06:14.142Z"
   },
   {
    "duration": 6,
    "start_time": "2024-08-02T07:17:30.242Z"
   },
   {
    "duration": 6,
    "start_time": "2024-08-02T07:21:39.199Z"
   },
   {
    "duration": 310,
    "start_time": "2024-08-03T22:25:44.460Z"
   },
   {
    "duration": 1254,
    "start_time": "2024-08-03T22:25:50.637Z"
   },
   {
    "duration": 283,
    "start_time": "2024-08-03T22:25:51.895Z"
   },
   {
    "duration": 16,
    "start_time": "2024-08-03T22:25:52.180Z"
   },
   {
    "duration": 33,
    "start_time": "2024-08-03T22:25:52.201Z"
   },
   {
    "duration": 16,
    "start_time": "2024-08-03T22:25:52.239Z"
   },
   {
    "duration": 14,
    "start_time": "2024-08-03T22:25:52.258Z"
   },
   {
    "duration": 4,
    "start_time": "2024-08-03T22:25:52.276Z"
   },
   {
    "duration": 48,
    "start_time": "2024-08-03T22:25:52.283Z"
   },
   {
    "duration": 12,
    "start_time": "2024-08-03T22:25:52.334Z"
   },
   {
    "duration": 15,
    "start_time": "2024-08-03T22:25:52.351Z"
   },
   {
    "duration": 7,
    "start_time": "2024-08-03T22:25:52.368Z"
   },
   {
    "duration": 19,
    "start_time": "2024-08-03T22:25:52.380Z"
   },
   {
    "duration": 16,
    "start_time": "2024-08-03T22:25:52.432Z"
   },
   {
    "duration": 24,
    "start_time": "2024-08-03T22:25:52.452Z"
   },
   {
    "duration": 53,
    "start_time": "2024-08-03T22:25:52.479Z"
   },
   {
    "duration": 7,
    "start_time": "2024-08-03T22:25:52.535Z"
   },
   {
    "duration": 16,
    "start_time": "2024-08-03T22:25:52.544Z"
   },
   {
    "duration": 29,
    "start_time": "2024-08-03T22:25:52.563Z"
   },
   {
    "duration": 54,
    "start_time": "2024-08-03T22:25:52.595Z"
   },
   {
    "duration": 14,
    "start_time": "2024-08-03T22:25:52.652Z"
   },
   {
    "duration": 14,
    "start_time": "2024-08-03T22:25:52.669Z"
   },
   {
    "duration": 4,
    "start_time": "2024-08-03T22:25:52.686Z"
   },
   {
    "duration": 114,
    "start_time": "2024-08-03T22:25:52.693Z"
   },
   {
    "duration": 34,
    "start_time": "2024-08-03T22:25:52.809Z"
   },
   {
    "duration": 13,
    "start_time": "2024-08-03T22:25:52.847Z"
   },
   {
    "duration": 20,
    "start_time": "2024-08-03T22:25:52.864Z"
   },
   {
    "duration": 46,
    "start_time": "2024-08-03T22:25:52.886Z"
   },
   {
    "duration": 17,
    "start_time": "2024-08-03T22:25:52.944Z"
   },
   {
    "duration": 20,
    "start_time": "2024-08-03T22:25:52.964Z"
   },
   {
    "duration": 4,
    "start_time": "2024-08-03T22:25:52.988Z"
   },
   {
    "duration": 14,
    "start_time": "2024-08-03T22:25:53.031Z"
   },
   {
    "duration": 25,
    "start_time": "2024-08-03T22:25:53.048Z"
   },
   {
    "duration": 11,
    "start_time": "2024-08-03T22:25:53.076Z"
   },
   {
    "duration": 58,
    "start_time": "2024-08-03T22:25:53.090Z"
   },
   {
    "duration": 15,
    "start_time": "2024-08-03T22:25:53.154Z"
   },
   {
    "duration": 24,
    "start_time": "2024-08-03T22:25:53.172Z"
   },
   {
    "duration": 49,
    "start_time": "2024-08-03T22:25:53.198Z"
   },
   {
    "duration": 5,
    "start_time": "2024-08-03T22:25:53.250Z"
   },
   {
    "duration": 13,
    "start_time": "2024-08-03T22:25:53.259Z"
   },
   {
    "duration": 13,
    "start_time": "2024-08-03T22:25:53.275Z"
   },
   {
    "duration": 13,
    "start_time": "2024-08-03T22:25:53.330Z"
   },
   {
    "duration": 32,
    "start_time": "2024-08-03T22:25:53.345Z"
   },
   {
    "duration": 13,
    "start_time": "2024-08-03T22:25:53.379Z"
   },
   {
    "duration": 38,
    "start_time": "2024-08-03T22:25:53.395Z"
   },
   {
    "duration": 14,
    "start_time": "2024-08-03T22:25:53.437Z"
   },
   {
    "duration": 4,
    "start_time": "2024-08-03T22:25:53.453Z"
   },
   {
    "duration": 84,
    "start_time": "2024-08-03T22:25:53.460Z"
   },
   {
    "duration": 4,
    "start_time": "2024-08-03T22:25:53.547Z"
   },
   {
    "duration": 7,
    "start_time": "2024-08-03T22:25:53.554Z"
   },
   {
    "duration": 14,
    "start_time": "2024-08-03T22:25:53.563Z"
   },
   {
    "duration": 51,
    "start_time": "2024-08-03T22:25:53.581Z"
   },
   {
    "duration": 24,
    "start_time": "2024-08-03T22:25:53.635Z"
   },
   {
    "duration": 5,
    "start_time": "2024-08-03T22:25:53.661Z"
   },
   {
    "duration": 6,
    "start_time": "2024-08-03T22:25:53.670Z"
   },
   {
    "duration": 5,
    "start_time": "2024-08-03T22:25:53.679Z"
   },
   {
    "duration": 54,
    "start_time": "2024-08-03T22:25:53.687Z"
   },
   {
    "duration": 12,
    "start_time": "2024-08-03T22:25:53.744Z"
   },
   {
    "duration": 18,
    "start_time": "2024-08-03T22:25:53.759Z"
   },
   {
    "duration": 4,
    "start_time": "2024-08-03T22:25:53.779Z"
   },
   {
    "duration": 49,
    "start_time": "2024-08-03T22:25:53.786Z"
   },
   {
    "duration": 15,
    "start_time": "2024-08-03T22:25:53.838Z"
   },
   {
    "duration": 4,
    "start_time": "2024-08-03T22:25:53.856Z"
   },
   {
    "duration": 7,
    "start_time": "2024-08-03T22:25:53.864Z"
   },
   {
    "duration": 58,
    "start_time": "2024-08-03T22:25:53.877Z"
   },
   {
    "duration": 16,
    "start_time": "2024-08-03T22:25:53.938Z"
   },
   {
    "duration": 13,
    "start_time": "2024-08-03T22:25:53.957Z"
   },
   {
    "duration": 13,
    "start_time": "2024-08-03T22:25:53.973Z"
   },
   {
    "duration": 56,
    "start_time": "2024-08-03T22:25:53.989Z"
   },
   {
    "duration": 11,
    "start_time": "2024-08-03T22:25:54.048Z"
   },
   {
    "duration": 22,
    "start_time": "2024-08-03T22:25:54.062Z"
   },
   {
    "duration": 44,
    "start_time": "2024-08-03T22:25:54.087Z"
   },
   {
    "duration": 6,
    "start_time": "2024-08-03T22:25:54.134Z"
   },
   {
    "duration": 15,
    "start_time": "2024-08-03T22:25:54.143Z"
   },
   {
    "duration": 15,
    "start_time": "2024-08-03T22:25:54.161Z"
   },
   {
    "duration": 71,
    "start_time": "2024-08-03T22:25:54.179Z"
   },
   {
    "duration": 5,
    "start_time": "2024-08-03T22:25:54.253Z"
   },
   {
    "duration": 69,
    "start_time": "2024-08-03T22:25:54.261Z"
   },
   {
    "duration": 5,
    "start_time": "2024-08-03T22:25:54.333Z"
   },
   {
    "duration": 47,
    "start_time": "2024-08-03T22:25:54.341Z"
   },
   {
    "duration": 49,
    "start_time": "2024-08-03T22:25:54.390Z"
   },
   {
    "duration": 12,
    "start_time": "2024-08-03T22:25:54.442Z"
   },
   {
    "duration": 5,
    "start_time": "2024-08-03T22:25:54.470Z"
   },
   {
    "duration": 80,
    "start_time": "2024-08-03T22:25:54.478Z"
   },
   {
    "duration": 5,
    "start_time": "2024-08-03T22:25:54.561Z"
   },
   {
    "duration": 60,
    "start_time": "2024-08-03T22:25:54.570Z"
   },
   {
    "duration": 31,
    "start_time": "2024-08-03T22:25:54.633Z"
   },
   {
    "duration": 11,
    "start_time": "2024-08-03T22:25:54.667Z"
   },
   {
    "duration": 5,
    "start_time": "2024-08-03T22:25:54.681Z"
   },
   {
    "duration": 80,
    "start_time": "2024-08-03T22:25:54.689Z"
   },
   {
    "duration": 6,
    "start_time": "2024-08-03T22:25:54.772Z"
   },
   {
    "duration": 59,
    "start_time": "2024-08-03T22:25:54.781Z"
   },
   {
    "duration": 34,
    "start_time": "2024-08-03T22:25:54.843Z"
   },
   {
    "duration": 11,
    "start_time": "2024-08-03T22:25:54.881Z"
   },
   {
    "duration": 44,
    "start_time": "2024-08-03T22:25:54.895Z"
   },
   {
    "duration": 63,
    "start_time": "2024-08-03T22:25:54.942Z"
   },
   {
    "duration": 49,
    "start_time": "2024-08-03T22:25:55.008Z"
   },
   {
    "duration": 6,
    "start_time": "2024-08-03T22:25:55.060Z"
   },
   {
    "duration": 326,
    "start_time": "2024-08-03T22:25:55.068Z"
   },
   {
    "duration": 6,
    "start_time": "2024-08-03T22:25:55.397Z"
   },
   {
    "duration": 27,
    "start_time": "2024-08-03T22:25:55.406Z"
   },
   {
    "duration": 304,
    "start_time": "2024-08-03T22:25:55.436Z"
   },
   {
    "duration": 339,
    "start_time": "2024-08-03T22:25:55.744Z"
   },
   {
    "duration": 9,
    "start_time": "2024-08-03T22:25:56.085Z"
   },
   {
    "duration": 303,
    "start_time": "2024-08-03T22:25:56.097Z"
   },
   {
    "duration": 279,
    "start_time": "2024-08-03T22:25:56.403Z"
   },
   {
    "duration": 9,
    "start_time": "2024-08-03T22:25:56.685Z"
   },
   {
    "duration": 295,
    "start_time": "2024-08-03T22:25:56.698Z"
   },
   {
    "duration": 12,
    "start_time": "2024-08-03T22:25:56.996Z"
   },
   {
    "duration": 36,
    "start_time": "2024-08-03T22:25:57.029Z"
   },
   {
    "duration": 9,
    "start_time": "2024-08-03T22:25:57.067Z"
   },
   {
    "duration": 8,
    "start_time": "2024-08-03T22:25:57.079Z"
   },
   {
    "duration": 40,
    "start_time": "2024-08-03T22:25:57.091Z"
   },
   {
    "duration": 8,
    "start_time": "2024-08-03T22:25:57.134Z"
   },
   {
    "duration": 6,
    "start_time": "2024-08-03T22:25:57.146Z"
   },
   {
    "duration": 5,
    "start_time": "2024-08-03T22:25:57.155Z"
   },
   {
    "duration": 7,
    "start_time": "2024-08-03T22:25:57.164Z"
   },
   {
    "duration": 7,
    "start_time": "2024-08-03T22:25:57.174Z"
   },
   {
    "duration": 7,
    "start_time": "2024-08-03T22:25:57.233Z"
   },
   {
    "duration": 7,
    "start_time": "2024-08-03T22:25:57.244Z"
   },
   {
    "duration": 4,
    "start_time": "2024-08-03T22:25:57.254Z"
   },
   {
    "duration": 8,
    "start_time": "2024-08-03T22:25:57.261Z"
   },
   {
    "duration": 4,
    "start_time": "2024-08-03T22:25:57.272Z"
   },
   {
    "duration": 56,
    "start_time": "2024-08-03T22:25:57.279Z"
   },
   {
    "duration": 6,
    "start_time": "2024-08-03T22:25:57.339Z"
   },
   {
    "duration": 6,
    "start_time": "2024-08-03T22:25:57.349Z"
   },
   {
    "duration": 311,
    "start_time": "2024-08-05T19:10:48.630Z"
   },
   {
    "duration": 4934,
    "start_time": "2024-08-05T19:11:00.068Z"
   },
   {
    "duration": 351,
    "start_time": "2024-08-05T19:11:05.005Z"
   },
   {
    "duration": 16,
    "start_time": "2024-08-05T19:11:05.358Z"
   },
   {
    "duration": 18,
    "start_time": "2024-08-05T19:11:05.377Z"
   },
   {
    "duration": 31,
    "start_time": "2024-08-05T19:11:05.401Z"
   },
   {
    "duration": 14,
    "start_time": "2024-08-05T19:11:05.436Z"
   },
   {
    "duration": 6,
    "start_time": "2024-08-05T19:11:05.455Z"
   },
   {
    "duration": 6,
    "start_time": "2024-08-05T19:11:05.464Z"
   },
   {
    "duration": 53,
    "start_time": "2024-08-05T19:11:05.473Z"
   },
   {
    "duration": 14,
    "start_time": "2024-08-05T19:11:05.529Z"
   },
   {
    "duration": 6,
    "start_time": "2024-08-05T19:11:05.546Z"
   },
   {
    "duration": 20,
    "start_time": "2024-08-05T19:11:05.555Z"
   },
   {
    "duration": 55,
    "start_time": "2024-08-05T19:11:05.578Z"
   },
   {
    "duration": 24,
    "start_time": "2024-08-05T19:11:05.640Z"
   },
   {
    "duration": 16,
    "start_time": "2024-08-05T19:11:05.666Z"
   },
   {
    "duration": 5,
    "start_time": "2024-08-05T19:11:05.684Z"
   },
   {
    "duration": 14,
    "start_time": "2024-08-05T19:11:05.727Z"
   },
   {
    "duration": 30,
    "start_time": "2024-08-05T19:11:05.744Z"
   },
   {
    "duration": 51,
    "start_time": "2024-08-05T19:11:05.776Z"
   },
   {
    "duration": 14,
    "start_time": "2024-08-05T19:11:05.830Z"
   },
   {
    "duration": 12,
    "start_time": "2024-08-05T19:11:05.847Z"
   },
   {
    "duration": 429,
    "start_time": "2024-08-05T19:11:05.863Z"
   },
   {
    "duration": 0,
    "start_time": "2024-08-05T19:11:06.302Z"
   },
   {
    "duration": 0,
    "start_time": "2024-08-05T19:11:06.304Z"
   },
   {
    "duration": 0,
    "start_time": "2024-08-05T19:11:06.307Z"
   },
   {
    "duration": 0,
    "start_time": "2024-08-05T19:11:06.310Z"
   },
   {
    "duration": 0,
    "start_time": "2024-08-05T19:11:06.311Z"
   },
   {
    "duration": 0,
    "start_time": "2024-08-05T19:11:06.313Z"
   },
   {
    "duration": 0,
    "start_time": "2024-08-05T19:11:06.327Z"
   },
   {
    "duration": 0,
    "start_time": "2024-08-05T19:11:06.329Z"
   },
   {
    "duration": 0,
    "start_time": "2024-08-05T19:11:06.331Z"
   },
   {
    "duration": 0,
    "start_time": "2024-08-05T19:11:06.335Z"
   },
   {
    "duration": 0,
    "start_time": "2024-08-05T19:11:06.337Z"
   },
   {
    "duration": 0,
    "start_time": "2024-08-05T19:11:06.340Z"
   },
   {
    "duration": 0,
    "start_time": "2024-08-05T19:11:06.342Z"
   },
   {
    "duration": 0,
    "start_time": "2024-08-05T19:11:06.344Z"
   },
   {
    "duration": 0,
    "start_time": "2024-08-05T19:11:06.346Z"
   },
   {
    "duration": 0,
    "start_time": "2024-08-05T19:11:06.348Z"
   },
   {
    "duration": 0,
    "start_time": "2024-08-05T19:11:06.350Z"
   },
   {
    "duration": 0,
    "start_time": "2024-08-05T19:11:06.352Z"
   },
   {
    "duration": 0,
    "start_time": "2024-08-05T19:11:06.354Z"
   },
   {
    "duration": 0,
    "start_time": "2024-08-05T19:11:06.357Z"
   },
   {
    "duration": 0,
    "start_time": "2024-08-05T19:11:06.358Z"
   },
   {
    "duration": 0,
    "start_time": "2024-08-05T19:11:06.360Z"
   },
   {
    "duration": 0,
    "start_time": "2024-08-05T19:11:06.361Z"
   },
   {
    "duration": 0,
    "start_time": "2024-08-05T19:11:06.429Z"
   },
   {
    "duration": 0,
    "start_time": "2024-08-05T19:11:06.431Z"
   },
   {
    "duration": 0,
    "start_time": "2024-08-05T19:11:06.433Z"
   },
   {
    "duration": 0,
    "start_time": "2024-08-05T19:11:06.435Z"
   },
   {
    "duration": 0,
    "start_time": "2024-08-05T19:11:06.437Z"
   },
   {
    "duration": 0,
    "start_time": "2024-08-05T19:11:06.440Z"
   },
   {
    "duration": 0,
    "start_time": "2024-08-05T19:11:06.442Z"
   },
   {
    "duration": 0,
    "start_time": "2024-08-05T19:11:06.445Z"
   },
   {
    "duration": 0,
    "start_time": "2024-08-05T19:11:06.447Z"
   },
   {
    "duration": 0,
    "start_time": "2024-08-05T19:11:06.451Z"
   },
   {
    "duration": 0,
    "start_time": "2024-08-05T19:11:06.454Z"
   },
   {
    "duration": 0,
    "start_time": "2024-08-05T19:11:06.456Z"
   },
   {
    "duration": 0,
    "start_time": "2024-08-05T19:11:06.459Z"
   },
   {
    "duration": 0,
    "start_time": "2024-08-05T19:11:06.462Z"
   },
   {
    "duration": 0,
    "start_time": "2024-08-05T19:11:06.464Z"
   },
   {
    "duration": 0,
    "start_time": "2024-08-05T19:11:06.527Z"
   },
   {
    "duration": 0,
    "start_time": "2024-08-05T19:11:06.530Z"
   },
   {
    "duration": 0,
    "start_time": "2024-08-05T19:11:06.532Z"
   },
   {
    "duration": 0,
    "start_time": "2024-08-05T19:11:06.534Z"
   },
   {
    "duration": 0,
    "start_time": "2024-08-05T19:11:06.536Z"
   },
   {
    "duration": 0,
    "start_time": "2024-08-05T19:11:06.539Z"
   },
   {
    "duration": 0,
    "start_time": "2024-08-05T19:11:06.541Z"
   },
   {
    "duration": 0,
    "start_time": "2024-08-05T19:11:06.545Z"
   },
   {
    "duration": 0,
    "start_time": "2024-08-05T19:11:06.548Z"
   },
   {
    "duration": 0,
    "start_time": "2024-08-05T19:11:06.550Z"
   },
   {
    "duration": 0,
    "start_time": "2024-08-05T19:11:06.555Z"
   },
   {
    "duration": 0,
    "start_time": "2024-08-05T19:11:06.557Z"
   },
   {
    "duration": 0,
    "start_time": "2024-08-05T19:11:06.559Z"
   },
   {
    "duration": 0,
    "start_time": "2024-08-05T19:11:06.562Z"
   },
   {
    "duration": 0,
    "start_time": "2024-08-05T19:11:06.564Z"
   },
   {
    "duration": 0,
    "start_time": "2024-08-05T19:11:06.627Z"
   },
   {
    "duration": 0,
    "start_time": "2024-08-05T19:11:06.629Z"
   },
   {
    "duration": 0,
    "start_time": "2024-08-05T19:11:06.632Z"
   },
   {
    "duration": 0,
    "start_time": "2024-08-05T19:11:06.635Z"
   },
   {
    "duration": 0,
    "start_time": "2024-08-05T19:11:06.637Z"
   },
   {
    "duration": 0,
    "start_time": "2024-08-05T19:11:06.639Z"
   },
   {
    "duration": 0,
    "start_time": "2024-08-05T19:11:06.642Z"
   },
   {
    "duration": 0,
    "start_time": "2024-08-05T19:11:06.644Z"
   },
   {
    "duration": 0,
    "start_time": "2024-08-05T19:11:06.649Z"
   },
   {
    "duration": 0,
    "start_time": "2024-08-05T19:11:06.651Z"
   },
   {
    "duration": 0,
    "start_time": "2024-08-05T19:11:06.653Z"
   },
   {
    "duration": 0,
    "start_time": "2024-08-05T19:11:06.656Z"
   },
   {
    "duration": 0,
    "start_time": "2024-08-05T19:11:06.659Z"
   },
   {
    "duration": 0,
    "start_time": "2024-08-05T19:11:06.661Z"
   },
   {
    "duration": 0,
    "start_time": "2024-08-05T19:11:06.663Z"
   },
   {
    "duration": 0,
    "start_time": "2024-08-05T19:11:06.665Z"
   },
   {
    "duration": 0,
    "start_time": "2024-08-05T19:11:06.726Z"
   },
   {
    "duration": 0,
    "start_time": "2024-08-05T19:11:06.728Z"
   },
   {
    "duration": 0,
    "start_time": "2024-08-05T19:11:06.730Z"
   },
   {
    "duration": 0,
    "start_time": "2024-08-05T19:11:06.733Z"
   },
   {
    "duration": 0,
    "start_time": "2024-08-05T19:11:06.735Z"
   },
   {
    "duration": 0,
    "start_time": "2024-08-05T19:11:06.738Z"
   },
   {
    "duration": 0,
    "start_time": "2024-08-05T19:11:06.740Z"
   },
   {
    "duration": 0,
    "start_time": "2024-08-05T19:11:06.741Z"
   },
   {
    "duration": 0,
    "start_time": "2024-08-05T19:11:06.743Z"
   },
   {
    "duration": 0,
    "start_time": "2024-08-05T19:11:06.746Z"
   },
   {
    "duration": 0,
    "start_time": "2024-08-05T19:11:06.748Z"
   },
   {
    "duration": 0,
    "start_time": "2024-08-05T19:11:06.751Z"
   },
   {
    "duration": 0,
    "start_time": "2024-08-05T19:11:06.752Z"
   },
   {
    "duration": 0,
    "start_time": "2024-08-05T19:11:06.755Z"
   },
   {
    "duration": 0,
    "start_time": "2024-08-05T19:11:06.758Z"
   },
   {
    "duration": 0,
    "start_time": "2024-08-05T19:11:06.759Z"
   },
   {
    "duration": 0,
    "start_time": "2024-08-05T19:11:06.762Z"
   },
   {
    "duration": 1,
    "start_time": "2024-08-05T19:11:06.829Z"
   },
   {
    "duration": 0,
    "start_time": "2024-08-05T19:11:06.832Z"
   },
   {
    "duration": 0,
    "start_time": "2024-08-05T19:11:06.834Z"
   },
   {
    "duration": 0,
    "start_time": "2024-08-05T19:11:06.836Z"
   },
   {
    "duration": 0,
    "start_time": "2024-08-05T19:11:06.838Z"
   },
   {
    "duration": 0,
    "start_time": "2024-08-05T19:11:06.841Z"
   },
   {
    "duration": 0,
    "start_time": "2024-08-05T19:11:06.843Z"
   },
   {
    "duration": 0,
    "start_time": "2024-08-05T19:11:06.845Z"
   },
   {
    "duration": 0,
    "start_time": "2024-08-05T19:11:06.847Z"
   },
   {
    "duration": 0,
    "start_time": "2024-08-05T19:11:06.849Z"
   },
   {
    "duration": 0,
    "start_time": "2024-08-05T19:11:06.851Z"
   },
   {
    "duration": 0,
    "start_time": "2024-08-05T19:11:06.854Z"
   },
   {
    "duration": 0,
    "start_time": "2024-08-05T19:11:06.855Z"
   },
   {
    "duration": 0,
    "start_time": "2024-08-05T19:11:06.857Z"
   },
   {
    "duration": 0,
    "start_time": "2024-08-05T19:11:06.860Z"
   },
   {
    "duration": 0,
    "start_time": "2024-08-05T19:11:06.862Z"
   },
   {
    "duration": 0,
    "start_time": "2024-08-05T19:11:06.864Z"
   },
   {
    "duration": 0,
    "start_time": "2024-08-05T19:11:06.866Z"
   },
   {
    "duration": 22,
    "start_time": "2024-08-05T19:11:18.196Z"
   },
   {
    "duration": 60,
    "start_time": "2024-08-05T19:12:51.903Z"
   },
   {
    "duration": 59,
    "start_time": "2024-08-05T19:12:54.454Z"
   },
   {
    "duration": 13,
    "start_time": "2024-08-05T19:13:10.947Z"
   },
   {
    "duration": 12,
    "start_time": "2024-08-05T19:13:18.640Z"
   },
   {
    "duration": 1202,
    "start_time": "2024-08-05T19:13:33.567Z"
   },
   {
    "duration": 289,
    "start_time": "2024-08-05T19:13:34.773Z"
   },
   {
    "duration": 16,
    "start_time": "2024-08-05T19:13:35.064Z"
   },
   {
    "duration": 18,
    "start_time": "2024-08-05T19:13:35.084Z"
   },
   {
    "duration": 32,
    "start_time": "2024-08-05T19:13:35.105Z"
   },
   {
    "duration": 14,
    "start_time": "2024-08-05T19:13:35.140Z"
   },
   {
    "duration": 5,
    "start_time": "2024-08-05T19:13:35.157Z"
   },
   {
    "duration": 6,
    "start_time": "2024-08-05T19:13:35.165Z"
   },
   {
    "duration": 51,
    "start_time": "2024-08-05T19:13:35.175Z"
   },
   {
    "duration": 13,
    "start_time": "2024-08-05T19:13:35.232Z"
   },
   {
    "duration": 7,
    "start_time": "2024-08-05T19:13:35.249Z"
   },
   {
    "duration": 16,
    "start_time": "2024-08-05T19:13:35.259Z"
   },
   {
    "duration": 58,
    "start_time": "2024-08-05T19:13:35.278Z"
   },
   {
    "duration": 25,
    "start_time": "2024-08-05T19:13:35.339Z"
   },
   {
    "duration": 16,
    "start_time": "2024-08-05T19:13:35.367Z"
   },
   {
    "duration": 4,
    "start_time": "2024-08-05T19:13:35.386Z"
   },
   {
    "duration": 14,
    "start_time": "2024-08-05T19:13:35.427Z"
   },
   {
    "duration": 31,
    "start_time": "2024-08-05T19:13:35.444Z"
   },
   {
    "duration": 56,
    "start_time": "2024-08-05T19:13:35.478Z"
   },
   {
    "duration": 14,
    "start_time": "2024-08-05T19:13:35.538Z"
   },
   {
    "duration": 12,
    "start_time": "2024-08-05T19:13:35.555Z"
   },
   {
    "duration": 84,
    "start_time": "2024-08-05T19:13:35.570Z"
   },
   {
    "duration": 13,
    "start_time": "2024-08-05T19:13:35.657Z"
   },
   {
    "duration": 4,
    "start_time": "2024-08-05T19:13:35.673Z"
   },
   {
    "duration": 109,
    "start_time": "2024-08-05T19:13:35.680Z"
   },
   {
    "duration": 34,
    "start_time": "2024-08-05T19:13:35.793Z"
   },
   {
    "duration": 13,
    "start_time": "2024-08-05T19:13:35.830Z"
   },
   {
    "duration": 19,
    "start_time": "2024-08-05T19:13:35.854Z"
   },
   {
    "duration": 14,
    "start_time": "2024-08-05T19:13:35.875Z"
   },
   {
    "duration": 18,
    "start_time": "2024-08-05T19:13:35.927Z"
   },
   {
    "duration": 22,
    "start_time": "2024-08-05T19:13:35.948Z"
   },
   {
    "duration": 5,
    "start_time": "2024-08-05T19:13:35.976Z"
   },
   {
    "duration": 49,
    "start_time": "2024-08-05T19:13:35.986Z"
   },
   {
    "duration": 25,
    "start_time": "2024-08-05T19:13:36.039Z"
   },
   {
    "duration": 11,
    "start_time": "2024-08-05T19:13:36.067Z"
   },
   {
    "duration": 54,
    "start_time": "2024-08-05T19:13:36.081Z"
   },
   {
    "duration": 15,
    "start_time": "2024-08-05T19:13:36.138Z"
   },
   {
    "duration": 23,
    "start_time": "2024-08-05T19:13:36.157Z"
   },
   {
    "duration": 52,
    "start_time": "2024-08-05T19:13:36.182Z"
   },
   {
    "duration": 4,
    "start_time": "2024-08-05T19:13:36.237Z"
   },
   {
    "duration": 14,
    "start_time": "2024-08-05T19:13:36.244Z"
   },
   {
    "duration": 12,
    "start_time": "2024-08-05T19:13:36.261Z"
   },
   {
    "duration": 51,
    "start_time": "2024-08-05T19:13:36.275Z"
   },
   {
    "duration": 32,
    "start_time": "2024-08-05T19:13:36.329Z"
   },
   {
    "duration": 22,
    "start_time": "2024-08-05T19:13:36.364Z"
   },
   {
    "duration": 6,
    "start_time": "2024-08-05T19:13:36.391Z"
   },
   {
    "duration": 13,
    "start_time": "2024-08-05T19:13:36.427Z"
   },
   {
    "duration": 6,
    "start_time": "2024-08-05T19:13:36.444Z"
   },
   {
    "duration": 73,
    "start_time": "2024-08-05T19:13:36.453Z"
   },
   {
    "duration": 4,
    "start_time": "2024-08-05T19:13:36.528Z"
   },
   {
    "duration": 6,
    "start_time": "2024-08-05T19:13:36.536Z"
   },
   {
    "duration": 14,
    "start_time": "2024-08-05T19:13:36.545Z"
   },
   {
    "duration": 15,
    "start_time": "2024-08-05T19:13:36.562Z"
   },
   {
    "duration": 64,
    "start_time": "2024-08-05T19:13:36.580Z"
   },
   {
    "duration": 4,
    "start_time": "2024-08-05T19:13:36.646Z"
   },
   {
    "duration": 7,
    "start_time": "2024-08-05T19:13:36.653Z"
   },
   {
    "duration": 5,
    "start_time": "2024-08-05T19:13:36.663Z"
   },
   {
    "duration": 57,
    "start_time": "2024-08-05T19:13:36.670Z"
   },
   {
    "duration": 12,
    "start_time": "2024-08-05T19:13:36.731Z"
   },
   {
    "duration": 19,
    "start_time": "2024-08-05T19:13:36.746Z"
   },
   {
    "duration": 6,
    "start_time": "2024-08-05T19:13:36.768Z"
   },
   {
    "duration": 49,
    "start_time": "2024-08-05T19:13:36.777Z"
   },
   {
    "duration": 16,
    "start_time": "2024-08-05T19:13:36.829Z"
   },
   {
    "duration": 4,
    "start_time": "2024-08-05T19:13:36.847Z"
   },
   {
    "duration": 7,
    "start_time": "2024-08-05T19:13:36.854Z"
   },
   {
    "duration": 17,
    "start_time": "2024-08-05T19:13:36.864Z"
   },
   {
    "duration": 52,
    "start_time": "2024-08-05T19:13:36.884Z"
   },
   {
    "duration": 14,
    "start_time": "2024-08-05T19:13:36.938Z"
   },
   {
    "duration": 12,
    "start_time": "2024-08-05T19:13:36.955Z"
   },
   {
    "duration": 67,
    "start_time": "2024-08-05T19:13:36.970Z"
   },
   {
    "duration": 16,
    "start_time": "2024-08-05T19:13:37.040Z"
   },
   {
    "duration": 24,
    "start_time": "2024-08-05T19:13:37.060Z"
   },
   {
    "duration": 41,
    "start_time": "2024-08-05T19:13:37.087Z"
   },
   {
    "duration": 6,
    "start_time": "2024-08-05T19:13:37.131Z"
   },
   {
    "duration": 14,
    "start_time": "2024-08-05T19:13:37.140Z"
   },
   {
    "duration": 10,
    "start_time": "2024-08-05T19:13:37.158Z"
   },
   {
    "duration": 67,
    "start_time": "2024-08-05T19:13:37.170Z"
   },
   {
    "duration": 6,
    "start_time": "2024-08-05T19:13:37.240Z"
   },
   {
    "duration": 49,
    "start_time": "2024-08-05T19:13:37.248Z"
   },
   {
    "duration": 28,
    "start_time": "2024-08-05T19:13:37.299Z"
   },
   {
    "duration": 44,
    "start_time": "2024-08-05T19:13:37.330Z"
   },
   {
    "duration": 52,
    "start_time": "2024-08-05T19:13:37.389Z"
   },
   {
    "duration": 11,
    "start_time": "2024-08-05T19:13:37.444Z"
   },
   {
    "duration": 5,
    "start_time": "2024-08-05T19:13:37.459Z"
   },
   {
    "duration": 85,
    "start_time": "2024-08-05T19:13:37.468Z"
   },
   {
    "duration": 5,
    "start_time": "2024-08-05T19:13:37.555Z"
   },
   {
    "duration": 64,
    "start_time": "2024-08-05T19:13:37.564Z"
   },
   {
    "duration": 36,
    "start_time": "2024-08-05T19:13:37.631Z"
   },
   {
    "duration": 12,
    "start_time": "2024-08-05T19:13:37.669Z"
   },
   {
    "duration": 6,
    "start_time": "2024-08-05T19:13:37.684Z"
   },
   {
    "duration": 48,
    "start_time": "2024-08-05T19:13:37.725Z"
   },
   {
    "duration": 5,
    "start_time": "2024-08-05T19:13:37.776Z"
   },
   {
    "duration": 68,
    "start_time": "2024-08-05T19:13:37.785Z"
   },
   {
    "duration": 35,
    "start_time": "2024-08-05T19:13:37.856Z"
   },
   {
    "duration": 36,
    "start_time": "2024-08-05T19:13:37.894Z"
   },
   {
    "duration": 6,
    "start_time": "2024-08-05T19:13:37.934Z"
   },
   {
    "duration": 95,
    "start_time": "2024-08-05T19:13:37.944Z"
   },
   {
    "duration": 35,
    "start_time": "2024-08-05T19:13:38.042Z"
   },
   {
    "duration": 4,
    "start_time": "2024-08-05T19:13:38.083Z"
   },
   {
    "duration": 348,
    "start_time": "2024-08-05T19:13:38.090Z"
   },
   {
    "duration": 6,
    "start_time": "2024-08-05T19:13:38.441Z"
   },
   {
    "duration": 7,
    "start_time": "2024-08-05T19:13:38.451Z"
   },
   {
    "duration": 347,
    "start_time": "2024-08-05T19:13:38.462Z"
   },
   {
    "duration": 341,
    "start_time": "2024-08-05T19:13:38.812Z"
   },
   {
    "duration": 12,
    "start_time": "2024-08-05T19:13:39.156Z"
   },
   {
    "duration": 324,
    "start_time": "2024-08-05T19:13:39.171Z"
   },
   {
    "duration": 284,
    "start_time": "2024-08-05T19:13:39.498Z"
   },
   {
    "duration": 6,
    "start_time": "2024-08-05T19:13:39.786Z"
   },
   {
    "duration": 320,
    "start_time": "2024-08-05T19:13:39.796Z"
   },
   {
    "duration": 17,
    "start_time": "2024-08-05T19:13:40.119Z"
   },
   {
    "duration": 35,
    "start_time": "2024-08-05T19:13:40.139Z"
   },
   {
    "duration": 8,
    "start_time": "2024-08-05T19:13:40.177Z"
   },
   {
    "duration": 46,
    "start_time": "2024-08-05T19:13:40.188Z"
   },
   {
    "duration": 9,
    "start_time": "2024-08-05T19:13:40.238Z"
   },
   {
    "duration": 9,
    "start_time": "2024-08-05T19:13:40.251Z"
   },
   {
    "duration": 6,
    "start_time": "2024-08-05T19:13:40.263Z"
   },
   {
    "duration": 53,
    "start_time": "2024-08-05T19:13:40.273Z"
   },
   {
    "duration": 7,
    "start_time": "2024-08-05T19:13:40.329Z"
   },
   {
    "duration": 6,
    "start_time": "2024-08-05T19:13:40.340Z"
   },
   {
    "duration": 7,
    "start_time": "2024-08-05T19:13:40.350Z"
   },
   {
    "duration": 7,
    "start_time": "2024-08-05T19:13:40.361Z"
   },
   {
    "duration": 54,
    "start_time": "2024-08-05T19:13:40.372Z"
   },
   {
    "duration": 7,
    "start_time": "2024-08-05T19:13:40.429Z"
   },
   {
    "duration": 4,
    "start_time": "2024-08-05T19:13:40.440Z"
   },
   {
    "duration": 9,
    "start_time": "2024-08-05T19:13:40.447Z"
   },
   {
    "duration": 6,
    "start_time": "2024-08-05T19:13:40.458Z"
   },
   {
    "duration": 5,
    "start_time": "2024-08-05T19:13:40.467Z"
   },
   {
    "duration": 17397,
    "start_time": "2024-08-05T19:39:38.901Z"
   },
   {
    "duration": 272,
    "start_time": "2024-08-05T19:40:08.002Z"
   },
   {
    "duration": 425,
    "start_time": "2024-08-05T19:40:35.824Z"
   },
   {
    "duration": 28,
    "start_time": "2024-08-05T19:41:25.011Z"
   },
   {
    "duration": 259,
    "start_time": "2024-08-05T19:41:36.339Z"
   },
   {
    "duration": 29,
    "start_time": "2024-08-05T19:44:19.876Z"
   },
   {
    "duration": 31,
    "start_time": "2024-08-05T19:45:06.385Z"
   },
   {
    "duration": 22,
    "start_time": "2024-08-05T19:45:25.106Z"
   },
   {
    "duration": 52,
    "start_time": "2024-08-05T19:47:07.104Z"
   },
   {
    "duration": 262,
    "start_time": "2024-08-05T19:48:13.966Z"
   },
   {
    "duration": 6,
    "start_time": "2024-08-05T19:49:01.108Z"
   },
   {
    "duration": 5,
    "start_time": "2024-08-05T19:49:15.934Z"
   },
   {
    "duration": 1294,
    "start_time": "2024-08-07T16:35:38.344Z"
   },
   {
    "duration": 271,
    "start_time": "2024-08-07T16:35:39.643Z"
   },
   {
    "duration": 16,
    "start_time": "2024-08-07T16:35:39.917Z"
   },
   {
    "duration": 17,
    "start_time": "2024-08-07T16:35:39.937Z"
   },
   {
    "duration": 15,
    "start_time": "2024-08-07T16:35:39.957Z"
   },
   {
    "duration": 43,
    "start_time": "2024-08-07T16:35:39.974Z"
   },
   {
    "duration": 5,
    "start_time": "2024-08-07T16:35:40.021Z"
   },
   {
    "duration": 7,
    "start_time": "2024-08-07T16:35:40.029Z"
   },
   {
    "duration": 6,
    "start_time": "2024-08-07T16:35:40.039Z"
   },
   {
    "duration": 15,
    "start_time": "2024-08-07T16:35:40.107Z"
   },
   {
    "duration": 7,
    "start_time": "2024-08-07T16:35:40.126Z"
   },
   {
    "duration": 18,
    "start_time": "2024-08-07T16:35:40.136Z"
   },
   {
    "duration": 56,
    "start_time": "2024-08-07T16:35:40.157Z"
   },
   {
    "duration": 25,
    "start_time": "2024-08-07T16:35:40.217Z"
   },
   {
    "duration": 15,
    "start_time": "2024-08-07T16:35:40.246Z"
   },
   {
    "duration": 5,
    "start_time": "2024-08-07T16:35:40.264Z"
   },
   {
    "duration": 18,
    "start_time": "2024-08-07T16:35:40.307Z"
   },
   {
    "duration": 30,
    "start_time": "2024-08-07T16:35:40.329Z"
   },
   {
    "duration": 55,
    "start_time": "2024-08-07T16:35:40.362Z"
   },
   {
    "duration": 15,
    "start_time": "2024-08-07T16:35:40.420Z"
   },
   {
    "duration": 13,
    "start_time": "2024-08-07T16:35:40.437Z"
   },
   {
    "duration": 156,
    "start_time": "2024-08-07T16:35:40.452Z"
   },
   {
    "duration": 13,
    "start_time": "2024-08-07T16:35:40.611Z"
   },
   {
    "duration": 4,
    "start_time": "2024-08-07T16:35:40.626Z"
   },
   {
    "duration": 116,
    "start_time": "2024-08-07T16:35:40.633Z"
   },
   {
    "duration": 70,
    "start_time": "2024-08-07T16:35:40.752Z"
   },
   {
    "duration": 14,
    "start_time": "2024-08-07T16:35:40.825Z"
   },
   {
    "duration": 20,
    "start_time": "2024-08-07T16:35:40.850Z"
   },
   {
    "duration": 41,
    "start_time": "2024-08-07T16:35:40.873Z"
   },
   {
    "duration": 18,
    "start_time": "2024-08-07T16:35:40.918Z"
   },
   {
    "duration": 21,
    "start_time": "2024-08-07T16:35:40.939Z"
   },
   {
    "duration": 45,
    "start_time": "2024-08-07T16:35:40.963Z"
   },
   {
    "duration": 14,
    "start_time": "2024-08-07T16:35:41.012Z"
   },
   {
    "duration": 26,
    "start_time": "2024-08-07T16:35:41.030Z"
   },
   {
    "duration": 47,
    "start_time": "2024-08-07T16:35:41.059Z"
   },
   {
    "duration": 24,
    "start_time": "2024-08-07T16:35:41.109Z"
   },
   {
    "duration": 14,
    "start_time": "2024-08-07T16:35:41.136Z"
   },
   {
    "duration": 65,
    "start_time": "2024-08-07T16:35:41.153Z"
   },
   {
    "duration": 21,
    "start_time": "2024-08-07T16:35:41.220Z"
   },
   {
    "duration": 5,
    "start_time": "2024-08-07T16:35:41.244Z"
   },
   {
    "duration": 14,
    "start_time": "2024-08-07T16:35:41.252Z"
   },
   {
    "duration": 12,
    "start_time": "2024-08-07T16:35:41.307Z"
   },
   {
    "duration": 14,
    "start_time": "2024-08-07T16:35:41.322Z"
   },
   {
    "duration": 67,
    "start_time": "2024-08-07T16:35:41.340Z"
   },
   {
    "duration": 39,
    "start_time": "2024-08-07T16:35:41.411Z"
   },
   {
    "duration": 5,
    "start_time": "2024-08-07T16:35:41.453Z"
   },
   {
    "duration": 13,
    "start_time": "2024-08-07T16:35:41.462Z"
   },
   {
    "duration": 3,
    "start_time": "2024-08-07T16:35:41.479Z"
   },
   {
    "duration": 50,
    "start_time": "2024-08-07T16:35:41.505Z"
   },
   {
    "duration": 5,
    "start_time": "2024-08-07T16:35:41.557Z"
   },
   {
    "duration": 7,
    "start_time": "2024-08-07T16:35:41.566Z"
   },
   {
    "duration": 14,
    "start_time": "2024-08-07T16:35:41.605Z"
   },
   {
    "duration": 15,
    "start_time": "2024-08-07T16:35:41.622Z"
   },
   {
    "duration": 23,
    "start_time": "2024-08-07T16:35:41.640Z"
   },
   {
    "duration": 4,
    "start_time": "2024-08-07T16:35:41.665Z"
   },
   {
    "duration": 7,
    "start_time": "2024-08-07T16:35:41.707Z"
   },
   {
    "duration": 5,
    "start_time": "2024-08-07T16:35:41.716Z"
   },
   {
    "duration": 14,
    "start_time": "2024-08-07T16:35:41.724Z"
   },
   {
    "duration": 13,
    "start_time": "2024-08-07T16:35:41.740Z"
   },
   {
    "duration": 63,
    "start_time": "2024-08-07T16:35:41.757Z"
   },
   {
    "duration": 5,
    "start_time": "2024-08-07T16:35:41.823Z"
   },
   {
    "duration": 6,
    "start_time": "2024-08-07T16:35:41.832Z"
   },
   {
    "duration": 16,
    "start_time": "2024-08-07T16:35:41.840Z"
   },
   {
    "duration": 49,
    "start_time": "2024-08-07T16:35:41.859Z"
   },
   {
    "duration": 7,
    "start_time": "2024-08-07T16:35:41.911Z"
   },
   {
    "duration": 19,
    "start_time": "2024-08-07T16:35:41.920Z"
   },
   {
    "duration": 14,
    "start_time": "2024-08-07T16:35:41.942Z"
   },
   {
    "duration": 57,
    "start_time": "2024-08-07T16:35:41.959Z"
   },
   {
    "duration": 13,
    "start_time": "2024-08-07T16:35:42.018Z"
   },
   {
    "duration": 20,
    "start_time": "2024-08-07T16:35:42.034Z"
   },
   {
    "duration": 52,
    "start_time": "2024-08-07T16:35:42.057Z"
   },
   {
    "duration": 25,
    "start_time": "2024-08-07T16:35:42.112Z"
   },
   {
    "duration": 13,
    "start_time": "2024-08-07T16:35:42.140Z"
   },
   {
    "duration": 6,
    "start_time": "2024-08-07T16:35:42.156Z"
   },
   {
    "duration": 51,
    "start_time": "2024-08-07T16:35:42.165Z"
   },
   {
    "duration": 11,
    "start_time": "2024-08-07T16:35:42.220Z"
   },
   {
    "duration": 26,
    "start_time": "2024-08-07T16:35:42.233Z"
   },
   {
    "duration": 5,
    "start_time": "2024-08-07T16:35:42.262Z"
   },
   {
    "duration": 46,
    "start_time": "2024-08-07T16:35:42.307Z"
   },
   {
    "duration": 6,
    "start_time": "2024-08-07T16:35:42.356Z"
   },
   {
    "duration": 79,
    "start_time": "2024-08-07T16:35:42.365Z"
   },
   {
    "duration": 30,
    "start_time": "2024-08-07T16:35:42.459Z"
   },
   {
    "duration": 11,
    "start_time": "2024-08-07T16:35:42.508Z"
   },
   {
    "duration": 6,
    "start_time": "2024-08-07T16:35:42.521Z"
   },
   {
    "duration": 77,
    "start_time": "2024-08-07T16:35:42.531Z"
   },
   {
    "duration": 6,
    "start_time": "2024-08-07T16:35:42.611Z"
   },
   {
    "duration": 46,
    "start_time": "2024-08-07T16:35:42.621Z"
   },
   {
    "duration": 61,
    "start_time": "2024-08-07T16:35:42.670Z"
   },
   {
    "duration": 11,
    "start_time": "2024-08-07T16:35:42.734Z"
   },
   {
    "duration": 5,
    "start_time": "2024-08-07T16:35:42.748Z"
   },
   {
    "duration": 80,
    "start_time": "2024-08-07T16:35:42.756Z"
   },
   {
    "duration": 5,
    "start_time": "2024-08-07T16:35:42.838Z"
   },
   {
    "duration": 65,
    "start_time": "2024-08-07T16:35:42.846Z"
   },
   {
    "duration": 41,
    "start_time": "2024-08-07T16:35:42.913Z"
   },
   {
    "duration": 11,
    "start_time": "2024-08-07T16:35:42.956Z"
   },
   {
    "duration": 5,
    "start_time": "2024-08-07T16:35:42.970Z"
   },
   {
    "duration": 68,
    "start_time": "2024-08-07T16:35:43.007Z"
   },
   {
    "duration": 60,
    "start_time": "2024-08-07T16:35:43.077Z"
   },
   {
    "duration": 3,
    "start_time": "2024-08-07T16:35:43.140Z"
   },
   {
    "duration": 338,
    "start_time": "2024-08-07T16:35:43.147Z"
   },
   {
    "duration": 19,
    "start_time": "2024-08-07T16:35:43.488Z"
   },
   {
    "duration": 8,
    "start_time": "2024-08-07T16:35:43.509Z"
   },
   {
    "duration": 326,
    "start_time": "2024-08-07T16:35:43.521Z"
   },
   {
    "duration": 344,
    "start_time": "2024-08-07T16:35:43.850Z"
   },
   {
    "duration": 7,
    "start_time": "2024-08-07T16:35:44.205Z"
   },
   {
    "duration": 332,
    "start_time": "2024-08-07T16:35:44.216Z"
   },
   {
    "duration": 299,
    "start_time": "2024-08-07T16:35:44.551Z"
   },
   {
    "duration": 6,
    "start_time": "2024-08-07T16:35:44.854Z"
   },
   {
    "duration": 312,
    "start_time": "2024-08-07T16:35:44.863Z"
   },
   {
    "duration": 28,
    "start_time": "2024-08-07T16:35:45.178Z"
   },
   {
    "duration": 273,
    "start_time": "2024-08-07T16:35:45.209Z"
   },
   {
    "duration": 46,
    "start_time": "2024-08-07T16:35:45.486Z"
   },
   {
    "duration": 9,
    "start_time": "2024-08-07T16:35:45.535Z"
   },
   {
    "duration": 7,
    "start_time": "2024-08-07T16:35:45.547Z"
   },
   {
    "duration": 48,
    "start_time": "2024-08-07T16:35:45.558Z"
   },
   {
    "duration": 10,
    "start_time": "2024-08-07T16:35:45.609Z"
   },
   {
    "duration": 7,
    "start_time": "2024-08-07T16:35:45.622Z"
   },
   {
    "duration": 5,
    "start_time": "2024-08-07T16:35:45.632Z"
   },
   {
    "duration": 7,
    "start_time": "2024-08-07T16:35:45.640Z"
   },
   {
    "duration": 5,
    "start_time": "2024-08-07T16:35:45.651Z"
   },
   {
    "duration": 8,
    "start_time": "2024-08-07T16:35:45.708Z"
   },
   {
    "duration": 7,
    "start_time": "2024-08-07T16:35:45.719Z"
   },
   {
    "duration": 4,
    "start_time": "2024-08-07T16:35:45.729Z"
   },
   {
    "duration": 9,
    "start_time": "2024-08-07T16:35:45.736Z"
   },
   {
    "duration": 4,
    "start_time": "2024-08-07T16:35:45.747Z"
   },
   {
    "duration": 54,
    "start_time": "2024-08-07T16:35:45.754Z"
   },
   {
    "duration": 6,
    "start_time": "2024-08-07T16:35:45.812Z"
   },
   {
    "duration": 5,
    "start_time": "2024-08-07T16:35:45.822Z"
   },
   {
    "duration": 412,
    "start_time": "2024-08-07T16:43:38.884Z"
   },
   {
    "duration": 4,
    "start_time": "2024-08-07T16:43:43.091Z"
   },
   {
    "duration": 273,
    "start_time": "2024-08-07T16:43:43.432Z"
   },
   {
    "duration": 14,
    "start_time": "2024-08-07T16:43:43.986Z"
   },
   {
    "duration": 12,
    "start_time": "2024-08-07T16:43:44.112Z"
   },
   {
    "duration": 14,
    "start_time": "2024-08-07T16:43:47.298Z"
   },
   {
    "duration": 14,
    "start_time": "2024-08-07T16:43:47.594Z"
   },
   {
    "duration": 25,
    "start_time": "2024-08-07T16:43:49.256Z"
   },
   {
    "duration": 26,
    "start_time": "2024-08-07T16:43:52.561Z"
   },
   {
    "duration": 17,
    "start_time": "2024-08-07T16:43:57.375Z"
   },
   {
    "duration": 5,
    "start_time": "2024-08-07T16:45:21.641Z"
   }
  ],
  "colab": {
   "provenance": []
  },
  "kernelspec": {
   "display_name": "Python 3 (ipykernel)",
   "language": "python",
   "name": "python3"
  },
  "language_info": {
   "codemirror_mode": {
    "name": "ipython",
    "version": 3
   },
   "file_extension": ".py",
   "mimetype": "text/x-python",
   "name": "python",
   "nbconvert_exporter": "python",
   "pygments_lexer": "ipython3",
   "version": "3.9.19"
  },
  "toc": {
   "base_numbering": 1,
   "nav_menu": {},
   "number_sections": true,
   "sideBar": true,
   "skip_h1_title": false,
   "title_cell": "Table of Contents",
   "title_sidebar": "Contents",
   "toc_cell": false,
   "toc_position": {
    "height": "calc(100% - 180px)",
    "left": "10px",
    "top": "150px",
    "width": "450.488px"
   },
   "toc_section_display": true,
   "toc_window_display": true
  }
 },
 "nbformat": 4,
 "nbformat_minor": 1
}
